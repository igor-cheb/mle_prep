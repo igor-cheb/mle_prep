{
 "cells": [
  {
   "cell_type": "code",
   "execution_count": 15,
   "metadata": {},
   "outputs": [],
   "source": [
    "import pandas as pd\n",
    "from sklearn.pipeline import Pipeline, FeatureUnion\n",
    "from sklearn.compose import ColumnTransformer\n",
    "from sklearn.preprocessing import StandardScaler\n",
    "from sklearn.decomposition import PCA\n",
    "from sklearn.base import TransformerMixin, BaseEstimator\n",
    "\n",
    "from constants import ALL_COLS, LABEL, PCA_OUT_NUM\n"
   ]
  },
  {
   "cell_type": "code",
   "execution_count": 41,
   "metadata": {},
   "outputs": [],
   "source": [
    "class DataTransformer(BaseEstimator, TransformerMixin):       \n",
    "    \n",
    "    def __init__(self, pca_out_num, all_cols):\n",
    "        self.pca_out_num = pca_out_num\n",
    "        self.all_cols = all_cols\n",
    "\n",
    "        pca_pipe = Pipeline(steps=[\n",
    "            ('scaler', StandardScaler()), \n",
    "            ('pca', PCA(n_components=self.pca_out_num))\n",
    "            ]\n",
    "        )\n",
    "\n",
    "        feat_union = FeatureUnion(transformer_list=[\n",
    "                            ('scaler', StandardScaler(),), \n",
    "                            ('pca', pca_pipe)\n",
    "                            ]\n",
    "                        )\n",
    "        self.all_feats_transform = ColumnTransformer(\n",
    "            transformers=[('feat_union', feat_union, self.all_cols)]\n",
    "        )\n",
    "\n",
    "    def fit(self, X, y=None):\n",
    "        self.all_feats_transform.fit(X, y)\n",
    "        return self\n",
    "    \n",
    "    def transform(self, X):\n",
    "        return self.all_feats_transform.transform(X)"
   ]
  },
  {
   "cell_type": "code",
   "execution_count": 43,
   "metadata": {},
   "outputs": [
    {
     "data": {
      "text/html": [
       "<style>#sk-container-id-10 {color: black;background-color: white;}#sk-container-id-10 pre{padding: 0;}#sk-container-id-10 div.sk-toggleable {background-color: white;}#sk-container-id-10 label.sk-toggleable__label {cursor: pointer;display: block;width: 100%;margin-bottom: 0;padding: 0.3em;box-sizing: border-box;text-align: center;}#sk-container-id-10 label.sk-toggleable__label-arrow:before {content: \"▸\";float: left;margin-right: 0.25em;color: #696969;}#sk-container-id-10 label.sk-toggleable__label-arrow:hover:before {color: black;}#sk-container-id-10 div.sk-estimator:hover label.sk-toggleable__label-arrow:before {color: black;}#sk-container-id-10 div.sk-toggleable__content {max-height: 0;max-width: 0;overflow: hidden;text-align: left;background-color: #f0f8ff;}#sk-container-id-10 div.sk-toggleable__content pre {margin: 0.2em;color: black;border-radius: 0.25em;background-color: #f0f8ff;}#sk-container-id-10 input.sk-toggleable__control:checked~div.sk-toggleable__content {max-height: 200px;max-width: 100%;overflow: auto;}#sk-container-id-10 input.sk-toggleable__control:checked~label.sk-toggleable__label-arrow:before {content: \"▾\";}#sk-container-id-10 div.sk-estimator input.sk-toggleable__control:checked~label.sk-toggleable__label {background-color: #d4ebff;}#sk-container-id-10 div.sk-label input.sk-toggleable__control:checked~label.sk-toggleable__label {background-color: #d4ebff;}#sk-container-id-10 input.sk-hidden--visually {border: 0;clip: rect(1px 1px 1px 1px);clip: rect(1px, 1px, 1px, 1px);height: 1px;margin: -1px;overflow: hidden;padding: 0;position: absolute;width: 1px;}#sk-container-id-10 div.sk-estimator {font-family: monospace;background-color: #f0f8ff;border: 1px dotted black;border-radius: 0.25em;box-sizing: border-box;margin-bottom: 0.5em;}#sk-container-id-10 div.sk-estimator:hover {background-color: #d4ebff;}#sk-container-id-10 div.sk-parallel-item::after {content: \"\";width: 100%;border-bottom: 1px solid gray;flex-grow: 1;}#sk-container-id-10 div.sk-label:hover label.sk-toggleable__label {background-color: #d4ebff;}#sk-container-id-10 div.sk-serial::before {content: \"\";position: absolute;border-left: 1px solid gray;box-sizing: border-box;top: 0;bottom: 0;left: 50%;z-index: 0;}#sk-container-id-10 div.sk-serial {display: flex;flex-direction: column;align-items: center;background-color: white;padding-right: 0.2em;padding-left: 0.2em;position: relative;}#sk-container-id-10 div.sk-item {position: relative;z-index: 1;}#sk-container-id-10 div.sk-parallel {display: flex;align-items: stretch;justify-content: center;background-color: white;position: relative;}#sk-container-id-10 div.sk-item::before, #sk-container-id-10 div.sk-parallel-item::before {content: \"\";position: absolute;border-left: 1px solid gray;box-sizing: border-box;top: 0;bottom: 0;left: 50%;z-index: -1;}#sk-container-id-10 div.sk-parallel-item {display: flex;flex-direction: column;z-index: 1;position: relative;background-color: white;}#sk-container-id-10 div.sk-parallel-item:first-child::after {align-self: flex-end;width: 50%;}#sk-container-id-10 div.sk-parallel-item:last-child::after {align-self: flex-start;width: 50%;}#sk-container-id-10 div.sk-parallel-item:only-child::after {width: 0;}#sk-container-id-10 div.sk-dashed-wrapped {border: 1px dashed gray;margin: 0 0.4em 0.5em 0.4em;box-sizing: border-box;padding-bottom: 0.4em;background-color: white;}#sk-container-id-10 div.sk-label label {font-family: monospace;font-weight: bold;display: inline-block;line-height: 1.2em;}#sk-container-id-10 div.sk-label-container {text-align: center;}#sk-container-id-10 div.sk-container {/* jupyter's `normalize.less` sets `[hidden] { display: none; }` but bootstrap.min.css set `[hidden] { display: none !important; }` so we also need the `!important` here to be able to override the default hidden behavior on the sphinx rendered scikit-learn.org. See: https://github.com/scikit-learn/scikit-learn/issues/21755 */display: inline-block !important;position: relative;}#sk-container-id-10 div.sk-text-repr-fallback {display: none;}</style><div id=\"sk-container-id-10\" class=\"sk-top-container\"><div class=\"sk-text-repr-fallback\"><pre>ColumnTransformer(transformers=[(&#x27;feat_union&#x27;,\n",
       "                                 FeatureUnion(transformer_list=[(&#x27;scaler&#x27;,\n",
       "                                                                 StandardScaler()),\n",
       "                                                                (&#x27;pca&#x27;,\n",
       "                                                                 Pipeline(steps=[(&#x27;scaler&#x27;,\n",
       "                                                                                  StandardScaler()),\n",
       "                                                                                 (&#x27;pca&#x27;,\n",
       "                                                                                  PCA(n_components=10))]))]),\n",
       "                                 [&#x27;T_min&#x27;, &#x27;T_mean&#x27;, &#x27;T_max&#x27;, &#x27;P_min&#x27;, &#x27;P_mean&#x27;,\n",
       "                                  &#x27;P_max&#x27;, &#x27;U_min&#x27;, &#x27;U_mean&#x27;, &#x27;U_max&#x27;, &#x27;Ff_min&#x27;,\n",
       "                                  &#x27;Ff_mean&#x27;, &#x27;Ff_max&#x27;, &#x27;N_min&#x27;, &#x27;N_mean&#x27;,\n",
       "                                  &#x27;N_max&#x27;, &#x27;VV_min&#x27;, &#x27;VV_mean&#x27;, &#x27;VV_max&#x27;,\n",
       "                                  &#x27;RRR_min&#x27;, &#x27;RRR_mean&#x27;, &#x27;RRR_max&#x27;])])</pre><b>In a Jupyter environment, please rerun this cell to show the HTML representation or trust the notebook. <br />On GitHub, the HTML representation is unable to render, please try loading this page with nbviewer.org.</b></div><div class=\"sk-container\" hidden><div class=\"sk-item sk-dashed-wrapped\"><div class=\"sk-label-container\"><div class=\"sk-label sk-toggleable\"><input class=\"sk-toggleable__control sk-hidden--visually\" id=\"sk-estimator-id-24\" type=\"checkbox\" ><label for=\"sk-estimator-id-24\" class=\"sk-toggleable__label sk-toggleable__label-arrow\">ColumnTransformer</label><div class=\"sk-toggleable__content\"><pre>ColumnTransformer(transformers=[(&#x27;feat_union&#x27;,\n",
       "                                 FeatureUnion(transformer_list=[(&#x27;scaler&#x27;,\n",
       "                                                                 StandardScaler()),\n",
       "                                                                (&#x27;pca&#x27;,\n",
       "                                                                 Pipeline(steps=[(&#x27;scaler&#x27;,\n",
       "                                                                                  StandardScaler()),\n",
       "                                                                                 (&#x27;pca&#x27;,\n",
       "                                                                                  PCA(n_components=10))]))]),\n",
       "                                 [&#x27;T_min&#x27;, &#x27;T_mean&#x27;, &#x27;T_max&#x27;, &#x27;P_min&#x27;, &#x27;P_mean&#x27;,\n",
       "                                  &#x27;P_max&#x27;, &#x27;U_min&#x27;, &#x27;U_mean&#x27;, &#x27;U_max&#x27;, &#x27;Ff_min&#x27;,\n",
       "                                  &#x27;Ff_mean&#x27;, &#x27;Ff_max&#x27;, &#x27;N_min&#x27;, &#x27;N_mean&#x27;,\n",
       "                                  &#x27;N_max&#x27;, &#x27;VV_min&#x27;, &#x27;VV_mean&#x27;, &#x27;VV_max&#x27;,\n",
       "                                  &#x27;RRR_min&#x27;, &#x27;RRR_mean&#x27;, &#x27;RRR_max&#x27;])])</pre></div></div></div><div class=\"sk-parallel\"><div class=\"sk-parallel-item\"><div class=\"sk-item\"><div class=\"sk-label-container\"><div class=\"sk-label sk-toggleable\"><input class=\"sk-toggleable__control sk-hidden--visually\" id=\"sk-estimator-id-25\" type=\"checkbox\" ><label for=\"sk-estimator-id-25\" class=\"sk-toggleable__label sk-toggleable__label-arrow\">feat_union</label><div class=\"sk-toggleable__content\"><pre>[&#x27;T_min&#x27;, &#x27;T_mean&#x27;, &#x27;T_max&#x27;, &#x27;P_min&#x27;, &#x27;P_mean&#x27;, &#x27;P_max&#x27;, &#x27;U_min&#x27;, &#x27;U_mean&#x27;, &#x27;U_max&#x27;, &#x27;Ff_min&#x27;, &#x27;Ff_mean&#x27;, &#x27;Ff_max&#x27;, &#x27;N_min&#x27;, &#x27;N_mean&#x27;, &#x27;N_max&#x27;, &#x27;VV_min&#x27;, &#x27;VV_mean&#x27;, &#x27;VV_max&#x27;, &#x27;RRR_min&#x27;, &#x27;RRR_mean&#x27;, &#x27;RRR_max&#x27;]</pre></div></div></div><div class=\"sk-serial\"><div class=\"sk-item sk-dashed-wrapped\"><div class=\"sk-parallel\"><div class=\"sk-parallel-item\"><div class=\"sk-item\"><div class=\"sk-label-container\"><div class=\"sk-label sk-toggleable\"><label>scaler</label></div></div><div class=\"sk-serial\"><div class=\"sk-item\"><div class=\"sk-estimator sk-toggleable\"><input class=\"sk-toggleable__control sk-hidden--visually\" id=\"sk-estimator-id-26\" type=\"checkbox\" ><label for=\"sk-estimator-id-26\" class=\"sk-toggleable__label sk-toggleable__label-arrow\">StandardScaler</label><div class=\"sk-toggleable__content\"><pre>StandardScaler()</pre></div></div></div></div></div></div><div class=\"sk-parallel-item\"><div class=\"sk-item\"><div class=\"sk-label-container\"><div class=\"sk-label sk-toggleable\"><label>pca</label></div></div><div class=\"sk-serial\"><div class=\"sk-item\"><div class=\"sk-serial\"><div class=\"sk-item\"><div class=\"sk-estimator sk-toggleable\"><input class=\"sk-toggleable__control sk-hidden--visually\" id=\"sk-estimator-id-27\" type=\"checkbox\" ><label for=\"sk-estimator-id-27\" class=\"sk-toggleable__label sk-toggleable__label-arrow\">StandardScaler</label><div class=\"sk-toggleable__content\"><pre>StandardScaler()</pre></div></div></div><div class=\"sk-item\"><div class=\"sk-estimator sk-toggleable\"><input class=\"sk-toggleable__control sk-hidden--visually\" id=\"sk-estimator-id-28\" type=\"checkbox\" ><label for=\"sk-estimator-id-28\" class=\"sk-toggleable__label sk-toggleable__label-arrow\">PCA</label><div class=\"sk-toggleable__content\"><pre>PCA(n_components=10)</pre></div></div></div></div></div></div></div></div></div></div></div></div></div></div></div></div></div>"
      ],
      "text/plain": [
       "ColumnTransformer(transformers=[('feat_union',\n",
       "                                 FeatureUnion(transformer_list=[('scaler',\n",
       "                                                                 StandardScaler()),\n",
       "                                                                ('pca',\n",
       "                                                                 Pipeline(steps=[('scaler',\n",
       "                                                                                  StandardScaler()),\n",
       "                                                                                 ('pca',\n",
       "                                                                                  PCA(n_components=10))]))]),\n",
       "                                 ['T_min', 'T_mean', 'T_max', 'P_min', 'P_mean',\n",
       "                                  'P_max', 'U_min', 'U_mean', 'U_max', 'Ff_min',\n",
       "                                  'Ff_mean', 'Ff_max', 'N_min', 'N_mean',\n",
       "                                  'N_max', 'VV_min', 'VV_mean', 'VV_max',\n",
       "                                  'RRR_min', 'RRR_mean', 'RRR_max'])])"
      ]
     },
     "execution_count": 43,
     "metadata": {},
     "output_type": "execute_result"
    }
   ],
   "source": [
    "cl_instance = DataTransformer(PCA_OUT_NUM, ALL_COLS)\n",
    "cl_instance.all_feats_transform"
   ]
  },
  {
   "cell_type": "code",
   "execution_count": 44,
   "metadata": {},
   "outputs": [
    {
     "data": {
      "text/plain": [
       "array([[-0.17861102, -0.34241451, -0.36880956, ...,  0.43153732,\n",
       "        -0.2059403 , -0.34863841],\n",
       "       [ 0.67460995,  0.79387665,  0.85279701, ..., -0.12713696,\n",
       "         0.57769171,  0.3588663 ],\n",
       "       [ 1.08580078,  0.93023159,  0.89673969, ..., -0.11323214,\n",
       "        -0.38290128,  0.43460208],\n",
       "       ...,\n",
       "       [-0.09637285, -0.08764607, -0.113942  , ...,  0.60835837,\n",
       "        -1.35919595,  0.36146473],\n",
       "       [ 0.01670463, -0.19170642, -0.39517517, ..., -0.31331592,\n",
       "        -1.17553652, -0.03410665],\n",
       "       [-0.77483772, -0.95601173, -1.14220077, ..., -0.71312369,\n",
       "        -0.17221056, -0.74585302]])"
      ]
     },
     "execution_count": 44,
     "metadata": {},
     "output_type": "execute_result"
    }
   ],
   "source": [
    "raw_df = pd.read_csv('data_raw/train.csv')\n",
    "cl_instance.fit_transform(raw_df)"
   ]
  }
 ],
 "metadata": {
  "kernelspec": {
   "display_name": "rl_in_ksp_new",
   "language": "python",
   "name": "rl_in_ksp_new"
  },
  "language_info": {
   "codemirror_mode": {
    "name": "ipython",
    "version": 3
   },
   "file_extension": ".py",
   "mimetype": "text/x-python",
   "name": "python",
   "nbconvert_exporter": "python",
   "pygments_lexer": "ipython3",
   "version": "3.9.6"
  },
  "orig_nbformat": 4
 },
 "nbformat": 4,
 "nbformat_minor": 2
}
