{
 "cells": [
  {
   "cell_type": "code",
   "execution_count": 1,
   "metadata": {},
   "outputs": [],
   "source": [
    "import pandas as pd\n",
    "import torch\n",
    "import matplotlib.pyplot as plt\n",
    "from sklearn.model_selection import train_test_split\n",
    "\n",
    "from constants import ALL_COLS, LABEL\n",
    "from ETL_class import DataTransformer"
   ]
  },
  {
   "cell_type": "code",
   "execution_count": 18,
   "metadata": {},
   "outputs": [],
   "source": [
    "class model(torch.nn.Module):\n",
    "    \n",
    "    def __init__(self, all_cols):\n",
    "        super().__init__()\n",
    "        self.all_cols = all_cols\n",
    "        \n",
    "        self.nll_loss = torch.nn.NLLLoss()\n",
    "\n",
    "        self.lin_1 = torch.nn.Linear(len(self.all_cols), 64)\n",
    "        self.gelu_1 = torch.nn.GELU()\n",
    "\n",
    "        self.lin_2 = torch.nn.Linear(64, 32)\n",
    "        self.gelu_2 = torch.nn.GELU()\n",
    "\n",
    "        self.lin_3 = torch.nn.Linear(32, 2)\n",
    "        self.m = torch.nn.LogSoftmax(dim=1)\n",
    "\n",
    "        self.optimiser = torch.optim.Adam(self.parameters(), lr=5e-6)\n",
    "        \n",
    "    def forward(self, x):\n",
    "        x = self.lin_1(x)\n",
    "        x = self.gelu_1(x)\n",
    "        x = self.lin_2(x)\n",
    "        x = self.gelu_2(x)\n",
    "        x = self.lin_3(x)\n",
    "        return self.m(x)\n",
    "\n",
    "    def fit(self, X, y):\n",
    "        y_pred = self.forward(X)\n",
    "        loss = self.nll_loss(y_pred, y)\n",
    "\n",
    "        self.optimiser.zero_grad()\n",
    "        loss.backward()\n",
    "        self.optimiser.step()\n",
    "\n",
    "        return loss"
   ]
  },
  {
   "attachments": {},
   "cell_type": "markdown",
   "metadata": {},
   "source": [
    "# Train"
   ]
  },
  {
   "cell_type": "code",
   "execution_count": 19,
   "metadata": {},
   "outputs": [],
   "source": [
    "def select_batch(X, y, label_col, batch_size=60):\n",
    "    \"\"\"\n",
    "    Function that samples equal number of samples of each label from passed df \n",
    "    and returns X and y for train\n",
    "    \"\"\"\n",
    "    pos_df = X[y==1].sample(int(batch_size/2))\n",
    "    neg_df = X[y==0].sample(int(batch_size/2))\n",
    "    df = pd.concat([pos_df, neg_df])\n",
    "    y = y[df.index].values\n",
    "    return torch.tensor(df[ALL_COLS].values, dtype=torch.float32), torch.tensor(y, dtype=torch.long)\n",
    "\n",
    "def train_epoch(X, y, model, steps=8):\n",
    "    \"\"\"Function that iterates through data and trains the model for 1 epoch\"\"\"\n",
    "    for _ in range(steps):\n",
    "        x_batch, y_batch = select_batch(X, y, LABEL)\n",
    "        loss = model.fit(X=x_batch, y=y_batch)\n",
    "    \n",
    "    return model, loss"
   ]
  },
  {
   "cell_type": "code",
   "execution_count": 20,
   "metadata": {},
   "outputs": [],
   "source": [
    "model = model(all_cols=ALL_COLS)\n",
    "raw_df = pd.read_csv('data_raw/train.csv')\n",
    "X = raw_df[ALL_COLS]; y = raw_df[LABEL]"
   ]
  },
  {
   "cell_type": "code",
   "execution_count": 21,
   "metadata": {},
   "outputs": [
    {
     "name": "stdout",
     "output_type": "stream",
     "text": [
      "tensor(14.0036, grad_fn=<NllLossBackward0>)\n",
      "tensor(8.6939, grad_fn=<NllLossBackward0>)\n",
      "tensor(3.3656, grad_fn=<NllLossBackward0>)\n",
      "tensor(0.6823, grad_fn=<NllLossBackward0>)\n",
      "tensor(0.6587, grad_fn=<NllLossBackward0>)\n",
      "tensor(0.6716, grad_fn=<NllLossBackward0>)\n",
      "tensor(0.7207, grad_fn=<NllLossBackward0>)\n",
      "tensor(0.6919, grad_fn=<NllLossBackward0>)\n",
      "tensor(0.7233, grad_fn=<NllLossBackward0>)\n",
      "tensor(0.6937, grad_fn=<NllLossBackward0>)\n"
     ]
    }
   ],
   "source": [
    "total_eval_loss = []; total_train_loss = []\n",
    "\n",
    "for epoch in range(500):\n",
    "    X_train, X_eval, y_train, y_eval = train_test_split(X, y, test_size=0.3, stratify=y)\n",
    "    model, train_loss = train_epoch(X=X_train, y=y_train, model=model)\n",
    "\n",
    "    # testing on eval\n",
    "    nll_loss = torch.nn.NLLLoss()\n",
    "    eval_x_tens = torch.tensor(X_eval.values, dtype=torch.float32)\n",
    "    eval_y_tens = torch.tensor(y_eval.values, dtype=torch.long)\n",
    "    eval_loss = nll_loss(model(eval_x_tens), eval_y_tens)\n",
    "\n",
    "    # saving losses\n",
    "    total_eval_loss.append(eval_loss.detach().numpy())\n",
    "    total_train_loss.append(train_loss.detach().numpy())\n",
    "    if epoch%50==0:\n",
    "        print(eval_loss)"
   ]
  },
  {
   "cell_type": "code",
   "execution_count": 22,
   "metadata": {},
   "outputs": [
    {
     "data": {
      "text/plain": [
       "<matplotlib.legend.Legend at 0x180ff6130>"
      ]
     },
     "execution_count": 22,
     "metadata": {},
     "output_type": "execute_result"
    },
    {
     "data": {
      "image/png": "[encoded data removed]",
      "text/plain": [
       "<Figure size 640x480 with 1 Axes>"
      ]
     },
     "metadata": {},
     "output_type": "display_data"
    }
   ],
   "source": [
    "plt.plot(total_eval_loss, label='eval')\n",
    "plt.plot(total_train_loss, label='train')\n",
    "plt.legend()"
   ]
  },
  {
   "attachments": {},
   "cell_type": "markdown",
   "metadata": {},
   "source": [
    "# Test"
   ]
  },
  {
   "cell_type": "code",
   "execution_count": 364,
   "metadata": {},
   "outputs": [],
   "source": [
    "test_df = pd.read_csv('data_raw/test.csv')\n",
    "raw_test = torch.tensor(test_df[ALL_COLS].values, dtype=torch.float32)\n",
    "submit_df = test_df[['Id']].copy()"
   ]
  },
  {
   "cell_type": "code",
   "execution_count": 365,
   "metadata": {},
   "outputs": [],
   "source": [
    "submit_df.loc[:, 'y'] = model(raw_test).argmax(dim=1).reshape(-1,1).detach().numpy()"
   ]
  },
  {
   "cell_type": "code",
   "execution_count": 366,
   "metadata": {},
   "outputs": [],
   "source": [
    "submit_df.to_csv('data_submissions/2nd_submit.csv', index=False)"
   ]
  },
  {
   "cell_type": "code",
   "execution_count": null,
   "metadata": {},
   "outputs": [],
   "source": []
  }
 ],
 "metadata": {
  "kernelspec": {
   "display_name": "rl_in_ksp_new",
   "language": "python",
   "name": "rl_in_ksp_new"
  },
  "language_info": {
   "codemirror_mode": {
    "name": "ipython",
    "version": 3
   },
   "file_extension": ".py",
   "mimetype": "text/x-python",
   "name": "python",
   "nbconvert_exporter": "python",
   "pygments_lexer": "ipython3",
   "version": "3.9.6"
  },
  "orig_nbformat": 4
 },
 "nbformat": 4,
 "nbformat_minor": 2
}
