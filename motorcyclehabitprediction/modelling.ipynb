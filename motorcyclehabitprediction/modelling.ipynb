{
 "cells": [
  {
   "cell_type": "code",
   "execution_count": 56,
   "metadata": {},
   "outputs": [],
   "source": [
    "import pandas as pd\n",
    "import torch\n",
    "from constants import ALL_COLS, LABEL"
   ]
  },
  {
   "cell_type": "code",
   "execution_count": 81,
   "metadata": {},
   "outputs": [],
   "source": [
    "model = torch.nn.Sequential(\n",
    "    torch.nn.Linear(len(ALL_COLS), 64), \n",
    "    torch.nn.ReLU(),\n",
    "    \n",
    "    torch.nn.Linear(64, 32),\n",
    "    torch.nn.ReLU(),\n",
    "    \n",
    "    torch.nn.Linear(32, 2)   \n",
    ")"
   ]
  },
  {
   "cell_type": "code",
   "execution_count": 82,
   "metadata": {},
   "outputs": [],
   "source": [
    "opt = torch.optim.Adam(model.parameters(), lr=0.0005)\n",
    "m = torch.nn.LogSoftmax(dim=1)\n",
    "nll_loss = torch.nn.NLLLoss()\n",
    "\n",
    "raw_df = pd.read_csv('data_raw/train.csv')\n",
    "raw_train = torch.tensor(raw_df[ALL_COLS].values, dtype=torch.float32)\n",
    "raw_label = torch.tensor(raw_df[LABEL].values, dtype=torch.long)\n"
   ]
  },
  {
   "cell_type": "code",
   "execution_count": 83,
   "metadata": {},
   "outputs": [
    {
     "name": "stdout",
     "output_type": "stream",
     "text": [
      "tensor(12.5955, grad_fn=<NllLossBackward0>)\n",
      "tensor(11.1313, grad_fn=<NllLossBackward0>)\n",
      "tensor(9.7192, grad_fn=<NllLossBackward0>)\n",
      "tensor(8.3170, grad_fn=<NllLossBackward0>)\n",
      "tensor(6.9246, grad_fn=<NllLossBackward0>)\n",
      "tensor(5.5421, grad_fn=<NllLossBackward0>)\n",
      "tensor(4.1688, grad_fn=<NllLossBackward0>)\n",
      "tensor(2.8582, grad_fn=<NllLossBackward0>)\n",
      "tensor(1.7695, grad_fn=<NllLossBackward0>)\n",
      "tensor(0.8420, grad_fn=<NllLossBackward0>)\n",
      "tensor(0.8805, grad_fn=<NllLossBackward0>)\n",
      "tensor(1.8212, grad_fn=<NllLossBackward0>)\n",
      "tensor(2.2522, grad_fn=<NllLossBackward0>)\n",
      "tensor(2.1764, grad_fn=<NllLossBackward0>)\n",
      "tensor(1.7487, grad_fn=<NllLossBackward0>)\n"
     ]
    }
   ],
   "source": [
    "for _ in range(15):\n",
    "    loss = nll_loss(m(model(raw_train)), raw_label)\n",
    "\n",
    "    opt.zero_grad()\n",
    "    loss.backward()\n",
    "    opt.step()\n",
    "\n",
    "    print(loss)"
   ]
  },
  {
   "cell_type": "code",
   "execution_count": null,
   "metadata": {},
   "outputs": [],
   "source": []
  }
 ],
 "metadata": {
  "kernelspec": {
   "display_name": "rl_in_ksp_new",
   "language": "python",
   "name": "rl_in_ksp_new"
  },
  "language_info": {
   "codemirror_mode": {
    "name": "ipython",
    "version": 3
   },
   "file_extension": ".py",
   "mimetype": "text/x-python",
   "name": "python",
   "nbconvert_exporter": "python",
   "pygments_lexer": "ipython3",
   "version": "3.9.6"
  },
  "orig_nbformat": 4
 },
 "nbformat": 4,
 "nbformat_minor": 2
}
