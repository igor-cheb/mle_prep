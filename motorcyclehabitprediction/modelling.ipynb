{
 "cells": [
  {
   "cell_type": "code",
   "execution_count": 232,
   "metadata": {},
   "outputs": [],
   "source": [
    "import pandas as pd\n",
    "import torch\n",
    "import matplotlib.pyplot as plt\n",
    "from sklearn.model_selection import train_test_split\n",
    "\n",
    "from constants import ALL_COLS, LABEL\n",
    "from ETL_class import DataTransformer\n",
    "from NN_model_class import Model"
   ]
  },
  {
   "attachments": {},
   "cell_type": "markdown",
   "metadata": {},
   "source": [
    "# Train"
   ]
  },
  {
   "cell_type": "code",
   "execution_count": 234,
   "metadata": {},
   "outputs": [],
   "source": [
    "def select_batch(X, y, label_col, batch_size=60):\n",
    "    \"\"\"\n",
    "    Function that samples equal number of samples of each label from passed df \n",
    "    and returns X and y for train\n",
    "    \"\"\"\n",
    "    pos_df = X[y==1].sample(int(batch_size/2))\n",
    "    neg_df = X[y==0].sample(int(batch_size/2))\n",
    "    df = pd.concat([pos_df, neg_df])\n",
    "    y = y[df.index].values\n",
    "    return torch.tensor(df[ALL_COLS].values, dtype=torch.float32), torch.tensor(y, dtype=torch.long)\n",
    "\n",
    "def train_epoch(X, y, model, steps=10):\n",
    "    \"\"\"Function that iterates through data and trains the model for 1 epoch\"\"\"\n",
    "    for _ in range(steps):\n",
    "        x_batch, y_batch = select_batch(X, y, LABEL)\n",
    "        loss = model.fit(X=x_batch, y=y_batch)\n",
    "    \n",
    "    return model, loss"
   ]
  },
  {
   "cell_type": "code",
   "execution_count": 235,
   "metadata": {},
   "outputs": [],
   "source": [
    "model = Model(all_cols=ALL_COLS)\n",
    "raw_df = pd.read_csv('data_raw/train.csv')\n",
    "X = raw_df[ALL_COLS]; y = raw_df[LABEL]"
   ]
  },
  {
   "cell_type": "code",
   "execution_count": 236,
   "metadata": {},
   "outputs": [
    {
     "name": "stdout",
     "output_type": "stream",
     "text": [
      "tensor(29.2512, grad_fn=<NllLossBackward0>)\n",
      "tensor(0.8306, grad_fn=<NllLossBackward0>)\n",
      "tensor(0.7405, grad_fn=<NllLossBackward0>)\n",
      "tensor(0.6544, grad_fn=<NllLossBackward0>)\n",
      "tensor(0.7122, grad_fn=<NllLossBackward0>)\n",
      "tensor(0.6765, grad_fn=<NllLossBackward0>)\n",
      "tensor(0.6855, grad_fn=<NllLossBackward0>)\n",
      "tensor(0.7166, grad_fn=<NllLossBackward0>)\n",
      "tensor(0.6913, grad_fn=<NllLossBackward0>)\n",
      "tensor(0.7031, grad_fn=<NllLossBackward0>)\n"
     ]
    }
   ],
   "source": [
    "total_eval_loss = []; total_train_loss = []\n",
    "\n",
    "for epoch in range(500):\n",
    "    X_train, X_eval, y_train, y_eval = train_test_split(X, y, test_size=0.25, stratify=y)\n",
    "    model, train_loss = train_epoch(X=X_train, y=y_train, model=model)\n",
    "\n",
    "    # testing on eval\n",
    "    nll_loss = torch.nn.NLLLoss()\n",
    "    eval_x_tens = torch.tensor(X_eval.values, dtype=torch.float32)\n",
    "    eval_y_tens = torch.tensor(y_eval.values, dtype=torch.long)\n",
    "    eval_loss = nll_loss(model(eval_x_tens), eval_y_tens)\n",
    "\n",
    "    # saving losses\n",
    "    total_eval_loss.append(eval_loss.detach().numpy())\n",
    "    total_train_loss.append(train_loss.detach().numpy())\n",
    "    if epoch%50==0:\n",
    "        print(eval_loss)"
   ]
  },
  {
   "cell_type": "code",
   "execution_count": 238,
   "metadata": {},
   "outputs": [
    {
     "data": {
      "text/plain": [
       "<matplotlib.legend.Legend at 0x182c3b730>"
      ]
     },
     "execution_count": 238,
     "metadata": {},
     "output_type": "execute_result"
    },
    {
     "data": {
      "image/png": "[encoded data removed]",
      "text/plain": [
       "<Figure size 640x480 with 1 Axes>"
      ]
     },
     "metadata": {},
     "output_type": "display_data"
    }
   ],
   "source": [
    "plt.plot(total_eval_loss, label='eval')\n",
    "plt.plot(total_train_loss, label='train')\n",
    "plt.legend()"
   ]
  },
  {
   "attachments": {},
   "cell_type": "markdown",
   "metadata": {},
   "source": [
    "# Test"
   ]
  },
  {
   "cell_type": "code",
   "execution_count": 364,
   "metadata": {},
   "outputs": [],
   "source": [
    "test_df = pd.read_csv('data_raw/test.csv')\n",
    "raw_test = torch.tensor(test_df[ALL_COLS].values, dtype=torch.float32)\n",
    "submit_df = test_df[['Id']].copy()"
   ]
  },
  {
   "cell_type": "code",
   "execution_count": 365,
   "metadata": {},
   "outputs": [],
   "source": [
    "submit_df.loc[:, 'y'] = model(raw_test).argmax(dim=1).reshape(-1,1).detach().numpy()"
   ]
  },
  {
   "cell_type": "code",
   "execution_count": 366,
   "metadata": {},
   "outputs": [],
   "source": [
    "submit_df.to_csv('data_submissions/2nd_submit.csv', index=False)"
   ]
  },
  {
   "cell_type": "code",
   "execution_count": null,
   "metadata": {},
   "outputs": [],
   "source": []
  }
 ],
 "metadata": {
  "kernelspec": {
   "display_name": "rl_in_ksp_new",
   "language": "python",
   "name": "rl_in_ksp_new"
  },
  "language_info": {
   "codemirror_mode": {
    "name": "ipython",
    "version": 3
   },
   "file_extension": ".py",
   "mimetype": "text/x-python",
   "name": "python",
   "nbconvert_exporter": "python",
   "pygments_lexer": "ipython3",
   "version": "3.9.6"
  },
  "orig_nbformat": 4
 },
 "nbformat": 4,
 "nbformat_minor": 2
}
