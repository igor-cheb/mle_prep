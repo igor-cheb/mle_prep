{
 "cells": [
  {
   "cell_type": "code",
   "execution_count": 89,
   "metadata": {},
   "outputs": [],
   "source": [
    "import pandas as pd\n",
    "import torch\n",
    "import matplotlib.pyplot as plt\n",
    "\n",
    "from constants import ALL_COLS, LABEL"
   ]
  },
  {
   "cell_type": "code",
   "execution_count": 126,
   "metadata": {},
   "outputs": [],
   "source": [
    "model = torch.nn.Sequential(\n",
    "    torch.nn.Linear(len(ALL_COLS), 64), \n",
    "    torch.nn.ReLU(),\n",
    "    \n",
    "    torch.nn.Linear(64, 32),\n",
    "    torch.nn.ReLU(),\n",
    "    \n",
    "    torch.nn.Linear(32, 2)   \n",
    ")"
   ]
  },
  {
   "attachments": {},
   "cell_type": "markdown",
   "metadata": {},
   "source": [
    "# Train"
   ]
  },
  {
   "cell_type": "code",
   "execution_count": 127,
   "metadata": {},
   "outputs": [],
   "source": [
    "opt = torch.optim.Adam(model.parameters(), lr=0.0001)\n",
    "m = torch.nn.LogSoftmax(dim=1)\n",
    "nll_loss = torch.nn.NLLLoss()\n",
    "\n",
    "raw_df = pd.read_csv('data_raw/train.csv')\n",
    "raw_train = torch.tensor(raw_df[ALL_COLS].values, dtype=torch.float32)\n",
    "raw_label = torch.tensor(raw_df[LABEL].values, dtype=torch.long)\n"
   ]
  },
  {
   "cell_type": "code",
   "execution_count": 128,
   "metadata": {},
   "outputs": [
    {
     "name": "stdout",
     "output_type": "stream",
     "text": [
      "tensor(18.1457, grad_fn=<NllLossBackward0>)\n",
      "tensor(0.8336, grad_fn=<NllLossBackward0>)\n",
      "tensor(0.6426, grad_fn=<NllLossBackward0>)\n",
      "tensor(0.6348, grad_fn=<NllLossBackward0>)\n",
      "tensor(0.6243, grad_fn=<NllLossBackward0>)\n",
      "tensor(0.6189, grad_fn=<NllLossBackward0>)\n",
      "tensor(0.6140, grad_fn=<NllLossBackward0>)\n",
      "tensor(0.6098, grad_fn=<NllLossBackward0>)\n",
      "tensor(0.6065, grad_fn=<NllLossBackward0>)\n",
      "tensor(0.6038, grad_fn=<NllLossBackward0>)\n"
     ]
    }
   ],
   "source": [
    "all_loss = []\n",
    "for _ in range(500):\n",
    "    loss = nll_loss(m(model(raw_train)), raw_label)\n",
    "    all_loss.append(loss.detach().numpy())\n",
    "\n",
    "    opt.zero_grad()\n",
    "    loss.backward()\n",
    "    opt.step()\n",
    "\n",
    "    if _%50==0:\n",
    "        print(loss)"
   ]
  },
  {
   "cell_type": "code",
   "execution_count": 129,
   "metadata": {},
   "outputs": [
    {
     "data": {
      "text/plain": [
       "[<matplotlib.lines.Line2D at 0x169d7c430>]"
      ]
     },
     "execution_count": 129,
     "metadata": {},
     "output_type": "execute_result"
    },
    {
     "data": {
      "image/png": "[encoded data removed]",
      "text/plain": [
       "<Figure size 640x480 with 1 Axes>"
      ]
     },
     "metadata": {},
     "output_type": "display_data"
    }
   ],
   "source": [
    "plt.plot(all_loss)"
   ]
  },
  {
   "attachments": {},
   "cell_type": "markdown",
   "metadata": {},
   "source": [
    "# Test"
   ]
  },
  {
   "cell_type": "code",
   "execution_count": 152,
   "metadata": {},
   "outputs": [],
   "source": [
    "test_df = pd.read_csv('data_raw/test.csv')\n",
    "raw_test = torch.tensor(test_df[ALL_COLS].values, dtype=torch.float32)\n",
    "submit_df = test_df[['Id']].copy()"
   ]
  },
  {
   "cell_type": "code",
   "execution_count": 154,
   "metadata": {},
   "outputs": [],
   "source": [
    "submit_df.loc[:, 'y'] = model(raw_test).argmax(dim=1).reshape(-1,1).detach().numpy()"
   ]
  },
  {
   "cell_type": "code",
   "execution_count": 160,
   "metadata": {},
   "outputs": [],
   "source": [
    "submit_df.to_csv('data_submissions/init_submit.csv', index=False)"
   ]
  },
  {
   "cell_type": "code",
   "execution_count": null,
   "metadata": {},
   "outputs": [],
   "source": []
  }
 ],
 "metadata": {
  "kernelspec": {
   "display_name": "rl_in_ksp_new",
   "language": "python",
   "name": "rl_in_ksp_new"
  },
  "language_info": {
   "codemirror_mode": {
    "name": "ipython",
    "version": 3
   },
   "file_extension": ".py",
   "mimetype": "text/x-python",
   "name": "python",
   "nbconvert_exporter": "python",
   "pygments_lexer": "ipython3",
   "version": "3.9.6"
  },
  "orig_nbformat": 4
 },
 "nbformat": 4,
 "nbformat_minor": 2
}
