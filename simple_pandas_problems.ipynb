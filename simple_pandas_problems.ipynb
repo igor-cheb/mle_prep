{
 "cells": [
  {
   "cell_type": "code",
   "execution_count": 2,
   "metadata": {},
   "outputs": [],
   "source": [
    "import pandas as pd\n",
    "import numpy.random as rand\n",
    "import numpy as np"
   ]
  },
  {
   "cell_type": "code",
   "execution_count": 3,
   "metadata": {},
   "outputs": [
    {
     "data": {
      "text/html": [
       "<div>\n",
       "<style scoped>\n",
       "    .dataframe tbody tr th:only-of-type {\n",
       "        vertical-align: middle;\n",
       "    }\n",
       "\n",
       "    .dataframe tbody tr th {\n",
       "        vertical-align: top;\n",
       "    }\n",
       "\n",
       "    .dataframe thead th {\n",
       "        text-align: right;\n",
       "    }\n",
       "</style>\n",
       "<table border=\"1\" class=\"dataframe\">\n",
       "  <thead>\n",
       "    <tr style=\"text-align: right;\">\n",
       "      <th></th>\n",
       "      <th>a</th>\n",
       "      <th>b</th>\n",
       "      <th>c</th>\n",
       "      <th>d</th>\n",
       "      <th>e</th>\n",
       "    </tr>\n",
       "  </thead>\n",
       "  <tbody>\n",
       "    <tr>\n",
       "      <th>0</th>\n",
       "      <td>-1.269977</td>\n",
       "      <td>-1.177370</td>\n",
       "      <td>1.158399</td>\n",
       "      <td>-0.016085</td>\n",
       "      <td>0.203176</td>\n",
       "    </tr>\n",
       "    <tr>\n",
       "      <th>1</th>\n",
       "      <td>-0.519371</td>\n",
       "      <td>-0.260523</td>\n",
       "      <td>-0.215049</td>\n",
       "      <td>-0.487501</td>\n",
       "      <td>1.459452</td>\n",
       "    </tr>\n",
       "    <tr>\n",
       "      <th>2</th>\n",
       "      <td>0.428743</td>\n",
       "      <td>0.699861</td>\n",
       "      <td>-0.112447</td>\n",
       "      <td>0.096921</td>\n",
       "      <td>-0.798860</td>\n",
       "    </tr>\n",
       "    <tr>\n",
       "      <th>3</th>\n",
       "      <td>-2.234911</td>\n",
       "      <td>-0.776609</td>\n",
       "      <td>-0.083039</td>\n",
       "      <td>0.412606</td>\n",
       "      <td>-0.847500</td>\n",
       "    </tr>\n",
       "  </tbody>\n",
       "</table>\n",
       "</div>"
      ],
      "text/plain": [
       "          a         b         c         d         e\n",
       "0 -1.269977 -1.177370  1.158399 -0.016085  0.203176\n",
       "1 -0.519371 -0.260523 -0.215049 -0.487501  1.459452\n",
       "2  0.428743  0.699861 -0.112447  0.096921 -0.798860\n",
       "3 -2.234911 -0.776609 -0.083039  0.412606 -0.847500"
      ]
     },
     "execution_count": 3,
     "metadata": {},
     "output_type": "execute_result"
    }
   ],
   "source": [
    "test_df = pd.DataFrame(rand.randn(4,5), columns=['a','b','c','d','e'])\n",
    "test_df\n"
   ]
  },
  {
   "cell_type": "code",
   "execution_count": 89,
   "metadata": {},
   "outputs": [
    {
     "data": {
      "text/plain": [
       "Index(['a', 'b', 'c', 'd', 'e'], dtype='object')"
      ]
     },
     "execution_count": 89,
     "metadata": {},
     "output_type": "execute_result"
    }
   ],
   "source": [
    "test_df.columns"
   ]
  },
  {
   "attachments": {},
   "cell_type": "markdown",
   "metadata": {},
   "source": [
    "How to create new columns derived from existing columns in Pandas?"
   ]
  },
  {
   "cell_type": "code",
   "execution_count": 90,
   "metadata": {},
   "outputs": [
    {
     "data": {
      "text/html": [
       "<div>\n",
       "<style scoped>\n",
       "    .dataframe tbody tr th:only-of-type {\n",
       "        vertical-align: middle;\n",
       "    }\n",
       "\n",
       "    .dataframe tbody tr th {\n",
       "        vertical-align: top;\n",
       "    }\n",
       "\n",
       "    .dataframe thead th {\n",
       "        text-align: right;\n",
       "    }\n",
       "</style>\n",
       "<table border=\"1\" class=\"dataframe\">\n",
       "  <thead>\n",
       "    <tr style=\"text-align: right;\">\n",
       "      <th></th>\n",
       "      <th>a</th>\n",
       "      <th>b</th>\n",
       "      <th>c</th>\n",
       "      <th>d</th>\n",
       "      <th>e</th>\n",
       "      <th>f</th>\n",
       "    </tr>\n",
       "  </thead>\n",
       "  <tbody>\n",
       "    <tr>\n",
       "      <th>0</th>\n",
       "      <td>-0.898224</td>\n",
       "      <td>-1.221238</td>\n",
       "      <td>0.972089</td>\n",
       "      <td>1.408249</td>\n",
       "      <td>0.305752</td>\n",
       "      <td>-0.592472</td>\n",
       "    </tr>\n",
       "    <tr>\n",
       "      <th>1</th>\n",
       "      <td>0.326077</td>\n",
       "      <td>-0.664637</td>\n",
       "      <td>-1.171334</td>\n",
       "      <td>0.581604</td>\n",
       "      <td>-0.095679</td>\n",
       "      <td>0.230398</td>\n",
       "    </tr>\n",
       "    <tr>\n",
       "      <th>2</th>\n",
       "      <td>1.263796</td>\n",
       "      <td>0.225799</td>\n",
       "      <td>0.359943</td>\n",
       "      <td>-0.235585</td>\n",
       "      <td>-1.416931</td>\n",
       "      <td>-0.153135</td>\n",
       "    </tr>\n",
       "    <tr>\n",
       "      <th>3</th>\n",
       "      <td>0.996124</td>\n",
       "      <td>0.641902</td>\n",
       "      <td>-0.937678</td>\n",
       "      <td>-0.968739</td>\n",
       "      <td>0.235575</td>\n",
       "      <td>1.231699</td>\n",
       "    </tr>\n",
       "  </tbody>\n",
       "</table>\n",
       "</div>"
      ],
      "text/plain": [
       "          a         b         c         d         e         f\n",
       "0 -0.898224 -1.221238  0.972089  1.408249  0.305752 -0.592472\n",
       "1  0.326077 -0.664637 -1.171334  0.581604 -0.095679  0.230398\n",
       "2  1.263796  0.225799  0.359943 -0.235585 -1.416931 -0.153135\n",
       "3  0.996124  0.641902 -0.937678 -0.968739  0.235575  1.231699"
      ]
     },
     "execution_count": 90,
     "metadata": {},
     "output_type": "execute_result"
    }
   ],
   "source": [
    "test_df.loc[:, 'f'] = test_df.loc[:, 'a'].values + test_df.loc[:, 'e'].values\n",
    "test_df"
   ]
  },
  {
   "cell_type": "markdown",
   "metadata": {},
   "source": [
    "A column in a df has boolean True/False values, but for further calculations, we need 1/0 representation. How would you transform it?"
   ]
  },
  {
   "cell_type": "code",
   "execution_count": 91,
   "metadata": {},
   "outputs": [
    {
     "data": {
      "text/html": [
       "<div>\n",
       "<style scoped>\n",
       "    .dataframe tbody tr th:only-of-type {\n",
       "        vertical-align: middle;\n",
       "    }\n",
       "\n",
       "    .dataframe tbody tr th {\n",
       "        vertical-align: top;\n",
       "    }\n",
       "\n",
       "    .dataframe thead th {\n",
       "        text-align: right;\n",
       "    }\n",
       "</style>\n",
       "<table border=\"1\" class=\"dataframe\">\n",
       "  <thead>\n",
       "    <tr style=\"text-align: right;\">\n",
       "      <th></th>\n",
       "      <th>a</th>\n",
       "      <th>b</th>\n",
       "      <th>c</th>\n",
       "      <th>d</th>\n",
       "      <th>e</th>\n",
       "      <th>f</th>\n",
       "      <th>bool</th>\n",
       "    </tr>\n",
       "  </thead>\n",
       "  <tbody>\n",
       "    <tr>\n",
       "      <th>0</th>\n",
       "      <td>-0.898224</td>\n",
       "      <td>-1.221238</td>\n",
       "      <td>0.972089</td>\n",
       "      <td>1.408249</td>\n",
       "      <td>0.305752</td>\n",
       "      <td>-0.592472</td>\n",
       "      <td>False</td>\n",
       "    </tr>\n",
       "    <tr>\n",
       "      <th>1</th>\n",
       "      <td>0.326077</td>\n",
       "      <td>-0.664637</td>\n",
       "      <td>-1.171334</td>\n",
       "      <td>0.581604</td>\n",
       "      <td>-0.095679</td>\n",
       "      <td>0.230398</td>\n",
       "      <td>False</td>\n",
       "    </tr>\n",
       "    <tr>\n",
       "      <th>2</th>\n",
       "      <td>1.263796</td>\n",
       "      <td>0.225799</td>\n",
       "      <td>0.359943</td>\n",
       "      <td>-0.235585</td>\n",
       "      <td>-1.416931</td>\n",
       "      <td>-0.153135</td>\n",
       "      <td>True</td>\n",
       "    </tr>\n",
       "    <tr>\n",
       "      <th>3</th>\n",
       "      <td>0.996124</td>\n",
       "      <td>0.641902</td>\n",
       "      <td>-0.937678</td>\n",
       "      <td>-0.968739</td>\n",
       "      <td>0.235575</td>\n",
       "      <td>1.231699</td>\n",
       "      <td>True</td>\n",
       "    </tr>\n",
       "  </tbody>\n",
       "</table>\n",
       "</div>"
      ],
      "text/plain": [
       "          a         b         c         d         e         f   bool\n",
       "0 -0.898224 -1.221238  0.972089  1.408249  0.305752 -0.592472  False\n",
       "1  0.326077 -0.664637 -1.171334  0.581604 -0.095679  0.230398  False\n",
       "2  1.263796  0.225799  0.359943 -0.235585 -1.416931 -0.153135   True\n",
       "3  0.996124  0.641902 -0.937678 -0.968739  0.235575  1.231699   True"
      ]
     },
     "execution_count": 91,
     "metadata": {},
     "output_type": "execute_result"
    }
   ],
   "source": [
    "test_df['bool'] = test_df['b'].values > 0\n",
    "test_df"
   ]
  },
  {
   "cell_type": "code",
   "execution_count": 92,
   "metadata": {},
   "outputs": [],
   "source": [
    "test_df.loc[:, 'bool'] = test_df['bool'].astype('int')"
   ]
  },
  {
   "cell_type": "markdown",
   "metadata": {},
   "source": [
    "Describe how you will get the names of columns of a DataFrame in Pandas"
   ]
  },
  {
   "cell_type": "code",
   "execution_count": 93,
   "metadata": {},
   "outputs": [
    {
     "data": {
      "text/plain": [
       "['a', 'b', 'c', 'd', 'e', 'f', 'bool']"
      ]
     },
     "execution_count": 93,
     "metadata": {},
     "output_type": "execute_result"
    }
   ],
   "source": [
    "[el for el in test_df.columns]"
   ]
  },
  {
   "cell_type": "code",
   "execution_count": 94,
   "metadata": {},
   "outputs": [
    {
     "data": {
      "text/plain": [
       "['a', 'b', 'bool', 'c', 'd', 'e', 'f']"
      ]
     },
     "execution_count": 94,
     "metadata": {},
     "output_type": "execute_result"
    }
   ],
   "source": [
    "sorted(test_df.columns)"
   ]
  },
  {
   "attachments": {},
   "cell_type": "markdown",
   "metadata": {},
   "source": [
    "How are `iloc()` and `loc()` different?"
   ]
  },
  {
   "cell_type": "code",
   "execution_count": 79,
   "metadata": {},
   "outputs": [
    {
     "data": {
      "text/html": [
       "<div>\n",
       "<style scoped>\n",
       "    .dataframe tbody tr th:only-of-type {\n",
       "        vertical-align: middle;\n",
       "    }\n",
       "\n",
       "    .dataframe tbody tr th {\n",
       "        vertical-align: top;\n",
       "    }\n",
       "\n",
       "    .dataframe thead tr th {\n",
       "        text-align: left;\n",
       "    }\n",
       "</style>\n",
       "<table border=\"1\" class=\"dataframe\">\n",
       "  <thead>\n",
       "    <tr>\n",
       "      <th></th>\n",
       "      <th>a</th>\n",
       "      <th>e</th>\n",
       "    </tr>\n",
       "  </thead>\n",
       "  <tbody>\n",
       "    <tr>\n",
       "      <th>0</th>\n",
       "      <td>0.817888</td>\n",
       "      <td>-0.985605</td>\n",
       "    </tr>\n",
       "    <tr>\n",
       "      <th>1</th>\n",
       "      <td>-1.201152</td>\n",
       "      <td>-0.205126</td>\n",
       "    </tr>\n",
       "    <tr>\n",
       "      <th>2</th>\n",
       "      <td>2.479945</td>\n",
       "      <td>-0.360293</td>\n",
       "    </tr>\n",
       "  </tbody>\n",
       "</table>\n",
       "</div>"
      ],
      "text/plain": [
       "          a         e\n",
       "0  0.817888 -0.985605\n",
       "1 -1.201152 -0.205126\n",
       "2  2.479945 -0.360293"
      ]
     },
     "execution_count": 79,
     "metadata": {},
     "output_type": "execute_result"
    }
   ],
   "source": [
    "# returns rows and cols by number\n",
    "test_df.iloc[1:3,0:2]\n",
    "\n",
    "# returns values by col name and row index\n",
    "test_df.loc[:2, ['a', 'e']]"
   ]
  },
  {
   "cell_type": "markdown",
   "metadata": {},
   "source": [
    " How can you sort the DataFrame?"
   ]
  },
  {
   "cell_type": "code",
   "execution_count": 97,
   "metadata": {},
   "outputs": [
    {
     "data": {
      "text/html": [
       "<div>\n",
       "<style scoped>\n",
       "    .dataframe tbody tr th:only-of-type {\n",
       "        vertical-align: middle;\n",
       "    }\n",
       "\n",
       "    .dataframe tbody tr th {\n",
       "        vertical-align: top;\n",
       "    }\n",
       "\n",
       "    .dataframe thead th {\n",
       "        text-align: right;\n",
       "    }\n",
       "</style>\n",
       "<table border=\"1\" class=\"dataframe\">\n",
       "  <thead>\n",
       "    <tr style=\"text-align: right;\">\n",
       "      <th></th>\n",
       "      <th>a</th>\n",
       "      <th>b</th>\n",
       "      <th>c</th>\n",
       "      <th>d</th>\n",
       "      <th>e</th>\n",
       "      <th>f</th>\n",
       "      <th>bool</th>\n",
       "    </tr>\n",
       "  </thead>\n",
       "  <tbody>\n",
       "    <tr>\n",
       "      <th>0</th>\n",
       "      <td>-0.898224</td>\n",
       "      <td>-1.221238</td>\n",
       "      <td>0.972089</td>\n",
       "      <td>1.408249</td>\n",
       "      <td>0.305752</td>\n",
       "      <td>-0.592472</td>\n",
       "      <td>0</td>\n",
       "    </tr>\n",
       "    <tr>\n",
       "      <th>1</th>\n",
       "      <td>0.326077</td>\n",
       "      <td>-0.664637</td>\n",
       "      <td>-1.171334</td>\n",
       "      <td>0.581604</td>\n",
       "      <td>-0.095679</td>\n",
       "      <td>0.230398</td>\n",
       "      <td>0</td>\n",
       "    </tr>\n",
       "    <tr>\n",
       "      <th>3</th>\n",
       "      <td>0.996124</td>\n",
       "      <td>0.641902</td>\n",
       "      <td>-0.937678</td>\n",
       "      <td>-0.968739</td>\n",
       "      <td>0.235575</td>\n",
       "      <td>1.231699</td>\n",
       "      <td>1</td>\n",
       "    </tr>\n",
       "    <tr>\n",
       "      <th>2</th>\n",
       "      <td>1.263796</td>\n",
       "      <td>0.225799</td>\n",
       "      <td>0.359943</td>\n",
       "      <td>-0.235585</td>\n",
       "      <td>-1.416931</td>\n",
       "      <td>-0.153135</td>\n",
       "      <td>1</td>\n",
       "    </tr>\n",
       "  </tbody>\n",
       "</table>\n",
       "</div>"
      ],
      "text/plain": [
       "          a         b         c         d         e         f  bool\n",
       "0 -0.898224 -1.221238  0.972089  1.408249  0.305752 -0.592472     0\n",
       "1  0.326077 -0.664637 -1.171334  0.581604 -0.095679  0.230398     0\n",
       "3  0.996124  0.641902 -0.937678 -0.968739  0.235575  1.231699     1\n",
       "2  1.263796  0.225799  0.359943 -0.235585 -1.416931 -0.153135     1"
      ]
     },
     "execution_count": 97,
     "metadata": {},
     "output_type": "execute_result"
    }
   ],
   "source": [
    "test_df.sort_values(['a', 'b'])"
   ]
  },
  {
   "cell_type": "markdown",
   "metadata": {},
   "source": [
    "How can you find the row for which the value of a specific column is max or min?"
   ]
  },
  {
   "cell_type": "code",
   "execution_count": 101,
   "metadata": {},
   "outputs": [
    {
     "data": {
      "text/plain": [
       "2"
      ]
     },
     "execution_count": 101,
     "metadata": {},
     "output_type": "execute_result"
    }
   ],
   "source": [
    "test_df[test_df['a'] == test_df['a'].max()].index[0]"
   ]
  },
  {
   "cell_type": "code",
   "execution_count": 102,
   "metadata": {},
   "outputs": [
    {
     "data": {
      "text/plain": [
       "2"
      ]
     },
     "execution_count": 102,
     "metadata": {},
     "output_type": "execute_result"
    }
   ],
   "source": [
    "test_df['a'].idxmax()"
   ]
  },
  {
   "cell_type": "markdown",
   "metadata": {},
   "source": [
    "How can you get a list of Pandas DataFrame columns based on data type?"
   ]
  },
  {
   "cell_type": "code",
   "execution_count": 108,
   "metadata": {},
   "outputs": [
    {
     "data": {
      "text/plain": [
       "Index(['bool'], dtype='object')"
      ]
     },
     "execution_count": 108,
     "metadata": {},
     "output_type": "execute_result"
    }
   ],
   "source": [
    "test_df.dtypes[test_df.dtypes == 'int64'].index"
   ]
  },
  {
   "cell_type": "code",
   "execution_count": 111,
   "metadata": {},
   "outputs": [
    {
     "data": {
      "text/plain": [
       "['a', 'b', 'c', 'd', 'e', 'f']"
      ]
     },
     "execution_count": 111,
     "metadata": {},
     "output_type": "execute_result"
    }
   ],
   "source": [
    "sorted(test_df.select_dtypes(['float64']))"
   ]
  },
  {
   "cell_type": "markdown",
   "metadata": {},
   "source": [
    "How does the groupby() method works in Pandas?"
   ]
  },
  {
   "cell_type": "code",
   "execution_count": 115,
   "metadata": {},
   "outputs": [
    {
     "data": {
      "text/plain": [
       "bool\n",
       "0   -0.286074\n",
       "1    1.129960\n",
       "Name: a, dtype: float64"
      ]
     },
     "execution_count": 115,
     "metadata": {},
     "output_type": "execute_result"
    }
   ],
   "source": [
    "test_df.groupby('bool')['a'].mean()\n",
    "\n",
    "# SPLIT df into subgroups of rows \n",
    "# APPLY function to each subgroup \n",
    "# COMBINE the result by the values of the col the df is grouped by"
   ]
  },
  {
   "cell_type": "markdown",
   "metadata": {},
   "source": [
    "How to split a string column in a DataFrame into two columns?"
   ]
  },
  {
   "cell_type": "code",
   "execution_count": 30,
   "metadata": {},
   "outputs": [],
   "source": [
    "test_df['str_col'] = np.array('f d  s d  w e  l k'.split('  ')).reshape(-1,1)"
   ]
  },
  {
   "cell_type": "code",
   "execution_count": 28,
   "metadata": {},
   "outputs": [
    {
     "data": {
      "text/html": [
       "<div>\n",
       "<style scoped>\n",
       "    .dataframe tbody tr th:only-of-type {\n",
       "        vertical-align: middle;\n",
       "    }\n",
       "\n",
       "    .dataframe tbody tr th {\n",
       "        vertical-align: top;\n",
       "    }\n",
       "\n",
       "    .dataframe thead th {\n",
       "        text-align: right;\n",
       "    }\n",
       "</style>\n",
       "<table border=\"1\" class=\"dataframe\">\n",
       "  <thead>\n",
       "    <tr style=\"text-align: right;\">\n",
       "      <th></th>\n",
       "      <th>a</th>\n",
       "      <th>b</th>\n",
       "      <th>c</th>\n",
       "      <th>d</th>\n",
       "      <th>e</th>\n",
       "      <th>str_col</th>\n",
       "    </tr>\n",
       "  </thead>\n",
       "  <tbody>\n",
       "    <tr>\n",
       "      <th>0</th>\n",
       "      <td>-1.269977</td>\n",
       "      <td>-1.177370</td>\n",
       "      <td>1.158399</td>\n",
       "      <td>-0.016085</td>\n",
       "      <td>0.203176</td>\n",
       "      <td>f d</td>\n",
       "    </tr>\n",
       "    <tr>\n",
       "      <th>1</th>\n",
       "      <td>-0.519371</td>\n",
       "      <td>-0.260523</td>\n",
       "      <td>-0.215049</td>\n",
       "      <td>-0.487501</td>\n",
       "      <td>1.459452</td>\n",
       "      <td>s d</td>\n",
       "    </tr>\n",
       "    <tr>\n",
       "      <th>2</th>\n",
       "      <td>0.428743</td>\n",
       "      <td>0.699861</td>\n",
       "      <td>-0.112447</td>\n",
       "      <td>0.096921</td>\n",
       "      <td>-0.798860</td>\n",
       "      <td>w e</td>\n",
       "    </tr>\n",
       "    <tr>\n",
       "      <th>3</th>\n",
       "      <td>-2.234911</td>\n",
       "      <td>-0.776609</td>\n",
       "      <td>-0.083039</td>\n",
       "      <td>0.412606</td>\n",
       "      <td>-0.847500</td>\n",
       "      <td>lk</td>\n",
       "    </tr>\n",
       "  </tbody>\n",
       "</table>\n",
       "</div>"
      ],
      "text/plain": [
       "          a         b         c         d         e str_col\n",
       "0 -1.269977 -1.177370  1.158399 -0.016085  0.203176     f d\n",
       "1 -0.519371 -0.260523 -0.215049 -0.487501  1.459452     s d\n",
       "2  0.428743  0.699861 -0.112447  0.096921 -0.798860     w e\n",
       "3 -2.234911 -0.776609 -0.083039  0.412606 -0.847500      lk"
      ]
     },
     "execution_count": 28,
     "metadata": {},
     "output_type": "execute_result"
    }
   ],
   "source": [
    "test_df"
   ]
  },
  {
   "cell_type": "code",
   "execution_count": 18,
   "metadata": {},
   "outputs": [],
   "source": [
    "test_df['str_col_2'] = test_df['str_col'].apply(lambda x: x[1])\n",
    "test_df['str_col'] = test_df['str_col'].apply(lambda x: x[0])"
   ]
  },
  {
   "cell_type": "code",
   "execution_count": 22,
   "metadata": {},
   "outputs": [],
   "source": [
    "del test_df['str_col_2']"
   ]
  },
  {
   "cell_type": "code",
   "execution_count": 32,
   "metadata": {},
   "outputs": [
    {
     "data": {
      "text/html": [
       "<div>\n",
       "<style scoped>\n",
       "    .dataframe tbody tr th:only-of-type {\n",
       "        vertical-align: middle;\n",
       "    }\n",
       "\n",
       "    .dataframe tbody tr th {\n",
       "        vertical-align: top;\n",
       "    }\n",
       "\n",
       "    .dataframe thead th {\n",
       "        text-align: right;\n",
       "    }\n",
       "</style>\n",
       "<table border=\"1\" class=\"dataframe\">\n",
       "  <thead>\n",
       "    <tr style=\"text-align: right;\">\n",
       "      <th></th>\n",
       "      <th>0</th>\n",
       "      <th>1</th>\n",
       "    </tr>\n",
       "  </thead>\n",
       "  <tbody>\n",
       "    <tr>\n",
       "      <th>0</th>\n",
       "      <td>f</td>\n",
       "      <td>d</td>\n",
       "    </tr>\n",
       "    <tr>\n",
       "      <th>1</th>\n",
       "      <td>s</td>\n",
       "      <td>d</td>\n",
       "    </tr>\n",
       "    <tr>\n",
       "      <th>2</th>\n",
       "      <td>w</td>\n",
       "      <td>e</td>\n",
       "    </tr>\n",
       "    <tr>\n",
       "      <th>3</th>\n",
       "      <td>l</td>\n",
       "      <td>k</td>\n",
       "    </tr>\n",
       "  </tbody>\n",
       "</table>\n",
       "</div>"
      ],
      "text/plain": [
       "   0  1\n",
       "0  f  d\n",
       "1  s  d\n",
       "2  w  e\n",
       "3  l  k"
      ]
     },
     "execution_count": 32,
     "metadata": {},
     "output_type": "execute_result"
    }
   ],
   "source": [
    "test_df['str_col'].str.split(expand=True)"
   ]
  },
  {
   "cell_type": "markdown",
   "metadata": {},
   "source": [
    "How to check whether a Pandas DataFrame is empty?"
   ]
  },
  {
   "cell_type": "code",
   "execution_count": 34,
   "metadata": {},
   "outputs": [],
   "source": [
    "empt_df = pd.DataFrame(None)"
   ]
  },
  {
   "cell_type": "code",
   "execution_count": 44,
   "metadata": {},
   "outputs": [
    {
     "data": {
      "text/plain": [
       "True"
      ]
     },
     "execution_count": 44,
     "metadata": {},
     "output_type": "execute_result"
    }
   ],
   "source": [
    "empt_df.empty"
   ]
  },
  {
   "cell_type": "markdown",
   "metadata": {},
   "source": [
    "How would you iterate over rows in a DataFrame in Pandas?"
   ]
  },
  {
   "cell_type": "code",
   "execution_count": 45,
   "metadata": {},
   "outputs": [
    {
     "data": {
      "text/html": [
       "<div>\n",
       "<style scoped>\n",
       "    .dataframe tbody tr th:only-of-type {\n",
       "        vertical-align: middle;\n",
       "    }\n",
       "\n",
       "    .dataframe tbody tr th {\n",
       "        vertical-align: top;\n",
       "    }\n",
       "\n",
       "    .dataframe thead th {\n",
       "        text-align: right;\n",
       "    }\n",
       "</style>\n",
       "<table border=\"1\" class=\"dataframe\">\n",
       "  <thead>\n",
       "    <tr style=\"text-align: right;\">\n",
       "      <th></th>\n",
       "      <th>a</th>\n",
       "      <th>b</th>\n",
       "      <th>c</th>\n",
       "      <th>d</th>\n",
       "      <th>e</th>\n",
       "      <th>str_col</th>\n",
       "    </tr>\n",
       "  </thead>\n",
       "  <tbody>\n",
       "    <tr>\n",
       "      <th>0</th>\n",
       "      <td>-1.269977</td>\n",
       "      <td>-1.177370</td>\n",
       "      <td>1.158399</td>\n",
       "      <td>-0.016085</td>\n",
       "      <td>0.203176</td>\n",
       "      <td>f d</td>\n",
       "    </tr>\n",
       "    <tr>\n",
       "      <th>1</th>\n",
       "      <td>-0.519371</td>\n",
       "      <td>-0.260523</td>\n",
       "      <td>-0.215049</td>\n",
       "      <td>-0.487501</td>\n",
       "      <td>1.459452</td>\n",
       "      <td>s d</td>\n",
       "    </tr>\n",
       "    <tr>\n",
       "      <th>2</th>\n",
       "      <td>0.428743</td>\n",
       "      <td>0.699861</td>\n",
       "      <td>-0.112447</td>\n",
       "      <td>0.096921</td>\n",
       "      <td>-0.798860</td>\n",
       "      <td>w e</td>\n",
       "    </tr>\n",
       "    <tr>\n",
       "      <th>3</th>\n",
       "      <td>-2.234911</td>\n",
       "      <td>-0.776609</td>\n",
       "      <td>-0.083039</td>\n",
       "      <td>0.412606</td>\n",
       "      <td>-0.847500</td>\n",
       "      <td>l k</td>\n",
       "    </tr>\n",
       "  </tbody>\n",
       "</table>\n",
       "</div>"
      ],
      "text/plain": [
       "          a         b         c         d         e str_col\n",
       "0 -1.269977 -1.177370  1.158399 -0.016085  0.203176     f d\n",
       "1 -0.519371 -0.260523 -0.215049 -0.487501  1.459452     s d\n",
       "2  0.428743  0.699861 -0.112447  0.096921 -0.798860     w e\n",
       "3 -2.234911 -0.776609 -0.083039  0.412606 -0.847500     l k"
      ]
     },
     "execution_count": 45,
     "metadata": {},
     "output_type": "execute_result"
    }
   ],
   "source": [
    "test_df"
   ]
  },
  {
   "cell_type": "code",
   "execution_count": 58,
   "metadata": {},
   "outputs": [
    {
     "name": "stdout",
     "output_type": "stream",
     "text": [
      "-1.2699773996930952 f d\n",
      "-0.5193712753001253 s d\n",
      "0.4287425536418248 w e\n",
      "-2.234911469783308 l k\n"
     ]
    }
   ],
   "source": [
    "for n, el in test_df.iterrows():\n",
    "    print(el['a'], el['str_col'])"
   ]
  },
  {
   "cell_type": "markdown",
   "metadata": {},
   "source": [
    "What are the operations that Pandas Groupby method is based on ?"
   ]
  },
  {
   "cell_type": "code",
   "execution_count": null,
   "metadata": {},
   "outputs": [],
   "source": [
    "Split Apply Group"
   ]
  },
  {
   "cell_type": "markdown",
   "metadata": {},
   "source": [
    "What does describe() percentiles values tell about our data?"
   ]
  },
  {
   "cell_type": "code",
   "execution_count": 59,
   "metadata": {},
   "outputs": [
    {
     "data": {
      "text/html": [
       "<div>\n",
       "<style scoped>\n",
       "    .dataframe tbody tr th:only-of-type {\n",
       "        vertical-align: middle;\n",
       "    }\n",
       "\n",
       "    .dataframe tbody tr th {\n",
       "        vertical-align: top;\n",
       "    }\n",
       "\n",
       "    .dataframe thead th {\n",
       "        text-align: right;\n",
       "    }\n",
       "</style>\n",
       "<table border=\"1\" class=\"dataframe\">\n",
       "  <thead>\n",
       "    <tr style=\"text-align: right;\">\n",
       "      <th></th>\n",
       "      <th>a</th>\n",
       "      <th>b</th>\n",
       "      <th>c</th>\n",
       "      <th>d</th>\n",
       "      <th>e</th>\n",
       "    </tr>\n",
       "  </thead>\n",
       "  <tbody>\n",
       "    <tr>\n",
       "      <th>count</th>\n",
       "      <td>4.000000</td>\n",
       "      <td>4.000000</td>\n",
       "      <td>4.000000</td>\n",
       "      <td>4.000000</td>\n",
       "      <td>4.000000</td>\n",
       "    </tr>\n",
       "    <tr>\n",
       "      <th>mean</th>\n",
       "      <td>-0.898879</td>\n",
       "      <td>-0.378661</td>\n",
       "      <td>0.186966</td>\n",
       "      <td>0.001485</td>\n",
       "      <td>0.004067</td>\n",
       "    </tr>\n",
       "    <tr>\n",
       "      <th>std</th>\n",
       "      <td>1.129794</td>\n",
       "      <td>0.811062</td>\n",
       "      <td>0.650090</td>\n",
       "      <td>0.373070</td>\n",
       "      <td>1.084381</td>\n",
       "    </tr>\n",
       "    <tr>\n",
       "      <th>min</th>\n",
       "      <td>-2.234911</td>\n",
       "      <td>-1.177370</td>\n",
       "      <td>-0.215049</td>\n",
       "      <td>-0.487501</td>\n",
       "      <td>-0.847500</td>\n",
       "    </tr>\n",
       "    <tr>\n",
       "      <th>25%</th>\n",
       "      <td>-1.511211</td>\n",
       "      <td>-0.876800</td>\n",
       "      <td>-0.138097</td>\n",
       "      <td>-0.133939</td>\n",
       "      <td>-0.811020</td>\n",
       "    </tr>\n",
       "    <tr>\n",
       "      <th>50%</th>\n",
       "      <td>-0.894674</td>\n",
       "      <td>-0.518566</td>\n",
       "      <td>-0.097743</td>\n",
       "      <td>0.040418</td>\n",
       "      <td>-0.297842</td>\n",
       "    </tr>\n",
       "    <tr>\n",
       "      <th>75%</th>\n",
       "      <td>-0.282343</td>\n",
       "      <td>-0.020427</td>\n",
       "      <td>0.227321</td>\n",
       "      <td>0.175842</td>\n",
       "      <td>0.517245</td>\n",
       "    </tr>\n",
       "    <tr>\n",
       "      <th>max</th>\n",
       "      <td>0.428743</td>\n",
       "      <td>0.699861</td>\n",
       "      <td>1.158399</td>\n",
       "      <td>0.412606</td>\n",
       "      <td>1.459452</td>\n",
       "    </tr>\n",
       "  </tbody>\n",
       "</table>\n",
       "</div>"
      ],
      "text/plain": [
       "              a         b         c         d         e\n",
       "count  4.000000  4.000000  4.000000  4.000000  4.000000\n",
       "mean  -0.898879 -0.378661  0.186966  0.001485  0.004067\n",
       "std    1.129794  0.811062  0.650090  0.373070  1.084381\n",
       "min   -2.234911 -1.177370 -0.215049 -0.487501 -0.847500\n",
       "25%   -1.511211 -0.876800 -0.138097 -0.133939 -0.811020\n",
       "50%   -0.894674 -0.518566 -0.097743  0.040418 -0.297842\n",
       "75%   -0.282343 -0.020427  0.227321  0.175842  0.517245\n",
       "max    0.428743  0.699861  1.158399  0.412606  1.459452"
      ]
     },
     "execution_count": 59,
     "metadata": {},
     "output_type": "execute_result"
    }
   ],
   "source": [
    "test_df.describe()"
   ]
  },
  {
   "cell_type": "markdown",
   "metadata": {},
   "source": [
    " Compare the Pandas methods: map(), applymap(), apply()"
   ]
  },
  {
   "cell_type": "code",
   "execution_count": 61,
   "metadata": {},
   "outputs": [
    {
     "data": {
      "text/plain": [
       "0    val1\n",
       "1     NaN\n",
       "2    val2\n",
       "3     NaN\n",
       "Name: str_col, dtype: object"
      ]
     },
     "execution_count": 61,
     "metadata": {},
     "output_type": "execute_result"
    }
   ],
   "source": [
    "# replaces values in the column, returnes NaN for values that ar enot in the mapping\n",
    "test_df.str_col.map({'f d':'val1', 'w e':'val2'})"
   ]
  },
  {
   "cell_type": "code",
   "execution_count": 64,
   "metadata": {},
   "outputs": [
    {
     "data": {
      "text/plain": [
       "0   -0.269977\n",
       "1    0.480629\n",
       "2    1.428743\n",
       "3   -1.234911\n",
       "Name: a, dtype: float64"
      ]
     },
     "execution_count": 64,
     "metadata": {},
     "output_type": "execute_result"
    }
   ],
   "source": [
    "# applies a function to a value from the column selected\n",
    "test_df.a.apply(lambda x: x+1)"
   ]
  },
  {
   "cell_type": "code",
   "execution_count": 66,
   "metadata": {},
   "outputs": [
    {
     "data": {
      "text/html": [
       "<div>\n",
       "<style scoped>\n",
       "    .dataframe tbody tr th:only-of-type {\n",
       "        vertical-align: middle;\n",
       "    }\n",
       "\n",
       "    .dataframe tbody tr th {\n",
       "        vertical-align: top;\n",
       "    }\n",
       "\n",
       "    .dataframe thead th {\n",
       "        text-align: right;\n",
       "    }\n",
       "</style>\n",
       "<table border=\"1\" class=\"dataframe\">\n",
       "  <thead>\n",
       "    <tr style=\"text-align: right;\">\n",
       "      <th></th>\n",
       "      <th>a</th>\n",
       "      <th>b</th>\n",
       "      <th>c</th>\n",
       "    </tr>\n",
       "  </thead>\n",
       "  <tbody>\n",
       "    <tr>\n",
       "      <th>0</th>\n",
       "      <td>-0.269977</td>\n",
       "      <td>-0.177370</td>\n",
       "      <td>2.158399</td>\n",
       "    </tr>\n",
       "    <tr>\n",
       "      <th>1</th>\n",
       "      <td>0.480629</td>\n",
       "      <td>0.739477</td>\n",
       "      <td>0.784951</td>\n",
       "    </tr>\n",
       "    <tr>\n",
       "      <th>2</th>\n",
       "      <td>1.428743</td>\n",
       "      <td>1.699861</td>\n",
       "      <td>0.887553</td>\n",
       "    </tr>\n",
       "    <tr>\n",
       "      <th>3</th>\n",
       "      <td>-1.234911</td>\n",
       "      <td>0.223391</td>\n",
       "      <td>0.916961</td>\n",
       "    </tr>\n",
       "  </tbody>\n",
       "</table>\n",
       "</div>"
      ],
      "text/plain": [
       "          a         b         c\n",
       "0 -0.269977 -0.177370  2.158399\n",
       "1  0.480629  0.739477  0.784951\n",
       "2  1.428743  1.699861  0.887553\n",
       "3 -1.234911  0.223391  0.916961"
      ]
     },
     "execution_count": 66,
     "metadata": {},
     "output_type": "execute_result"
    }
   ],
   "source": [
    "# applies a function to a value from the all columns row by row elementwise\n",
    "test_df[['a','b','c']].applymap(lambda x: x+1)"
   ]
  },
  {
   "cell_type": "markdown",
   "metadata": {},
   "source": [
    "Describe how you can combine (merge) data on Common Columns or Indices?"
   ]
  },
  {
   "cell_type": "code",
   "execution_count": 215,
   "metadata": {},
   "outputs": [
    {
     "data": {
      "text/html": [
       "<div>\n",
       "<style scoped>\n",
       "    .dataframe tbody tr th:only-of-type {\n",
       "        vertical-align: middle;\n",
       "    }\n",
       "\n",
       "    .dataframe tbody tr th {\n",
       "        vertical-align: top;\n",
       "    }\n",
       "\n",
       "    .dataframe thead th {\n",
       "        text-align: right;\n",
       "    }\n",
       "</style>\n",
       "<table border=\"1\" class=\"dataframe\">\n",
       "  <thead>\n",
       "    <tr style=\"text-align: right;\">\n",
       "      <th></th>\n",
       "      <th>0</th>\n",
       "      <th>1</th>\n",
       "      <th>2</th>\n",
       "    </tr>\n",
       "  </thead>\n",
       "  <tbody>\n",
       "    <tr>\n",
       "      <th>0</th>\n",
       "      <td>1</td>\n",
       "      <td>2</td>\n",
       "      <td>3</td>\n",
       "    </tr>\n",
       "    <tr>\n",
       "      <th>1</th>\n",
       "      <td>1</td>\n",
       "      <td>2</td>\n",
       "      <td>3</td>\n",
       "    </tr>\n",
       "  </tbody>\n",
       "</table>\n",
       "</div>"
      ],
      "text/plain": [
       "   0  1  2\n",
       "0  1  2  3\n",
       "1  1  2  3"
      ]
     },
     "execution_count": 215,
     "metadata": {},
     "output_type": "execute_result"
    }
   ],
   "source": [
    "pd.DataFrame([[1,2,3], [1,2,3]])"
   ]
  },
  {
   "cell_type": "code",
   "execution_count": 70,
   "metadata": {},
   "outputs": [
    {
     "data": {
      "text/html": [
       "<div>\n",
       "<style scoped>\n",
       "    .dataframe tbody tr th:only-of-type {\n",
       "        vertical-align: middle;\n",
       "    }\n",
       "\n",
       "    .dataframe tbody tr th {\n",
       "        vertical-align: top;\n",
       "    }\n",
       "\n",
       "    .dataframe thead th {\n",
       "        text-align: right;\n",
       "    }\n",
       "</style>\n",
       "<table border=\"1\" class=\"dataframe\">\n",
       "  <thead>\n",
       "    <tr style=\"text-align: right;\">\n",
       "      <th></th>\n",
       "      <th>m1</th>\n",
       "      <th>m2</th>\n",
       "      <th>m3</th>\n",
       "    </tr>\n",
       "  </thead>\n",
       "  <tbody>\n",
       "    <tr>\n",
       "      <th>0</th>\n",
       "      <td>0.303826</td>\n",
       "      <td>-1.916549</td>\n",
       "      <td>0.629954</td>\n",
       "    </tr>\n",
       "    <tr>\n",
       "      <th>1</th>\n",
       "      <td>1.448148</td>\n",
       "      <td>-1.350026</td>\n",
       "      <td>0.965585</td>\n",
       "    </tr>\n",
       "    <tr>\n",
       "      <th>2</th>\n",
       "      <td>0.910323</td>\n",
       "      <td>-0.421423</td>\n",
       "      <td>0.103911</td>\n",
       "    </tr>\n",
       "    <tr>\n",
       "      <th>3</th>\n",
       "      <td>-0.484875</td>\n",
       "      <td>-0.436535</td>\n",
       "      <td>-0.881022</td>\n",
       "    </tr>\n",
       "    <tr>\n",
       "      <th>4</th>\n",
       "      <td>0.708399</td>\n",
       "      <td>-1.977286</td>\n",
       "      <td>-0.504605</td>\n",
       "    </tr>\n",
       "    <tr>\n",
       "      <th>5</th>\n",
       "      <td>0.416926</td>\n",
       "      <td>0.409516</td>\n",
       "      <td>-1.226937</td>\n",
       "    </tr>\n",
       "    <tr>\n",
       "      <th>6</th>\n",
       "      <td>-0.809526</td>\n",
       "      <td>0.529010</td>\n",
       "      <td>0.690958</td>\n",
       "    </tr>\n",
       "    <tr>\n",
       "      <th>7</th>\n",
       "      <td>-1.067186</td>\n",
       "      <td>0.359408</td>\n",
       "      <td>1.167650</td>\n",
       "    </tr>\n",
       "    <tr>\n",
       "      <th>8</th>\n",
       "      <td>1.481487</td>\n",
       "      <td>1.065856</td>\n",
       "      <td>0.468982</td>\n",
       "    </tr>\n",
       "    <tr>\n",
       "      <th>9</th>\n",
       "      <td>0.236708</td>\n",
       "      <td>-0.468079</td>\n",
       "      <td>2.557090</td>\n",
       "    </tr>\n",
       "  </tbody>\n",
       "</table>\n",
       "</div>"
      ],
      "text/plain": [
       "         m1        m2        m3\n",
       "0  0.303826 -1.916549  0.629954\n",
       "1  1.448148 -1.350026  0.965585\n",
       "2  0.910323 -0.421423  0.103911\n",
       "3 -0.484875 -0.436535 -0.881022\n",
       "4  0.708399 -1.977286 -0.504605\n",
       "5  0.416926  0.409516 -1.226937\n",
       "6 -0.809526  0.529010  0.690958\n",
       "7 -1.067186  0.359408  1.167650\n",
       "8  1.481487  1.065856  0.468982\n",
       "9  0.236708 -0.468079  2.557090"
      ]
     },
     "execution_count": 70,
     "metadata": {},
     "output_type": "execute_result"
    }
   ],
   "source": [
    "df_to_merge = pd.DataFrame(rand.randn(10,3), columns=['m1','m2','m3'])\n",
    "df_to_merge"
   ]
  },
  {
   "cell_type": "code",
   "execution_count": 78,
   "metadata": {},
   "outputs": [
    {
     "data": {
      "text/html": [
       "<div>\n",
       "<style scoped>\n",
       "    .dataframe tbody tr th:only-of-type {\n",
       "        vertical-align: middle;\n",
       "    }\n",
       "\n",
       "    .dataframe tbody tr th {\n",
       "        vertical-align: top;\n",
       "    }\n",
       "\n",
       "    .dataframe thead th {\n",
       "        text-align: right;\n",
       "    }\n",
       "</style>\n",
       "<table border=\"1\" class=\"dataframe\">\n",
       "  <thead>\n",
       "    <tr style=\"text-align: right;\">\n",
       "      <th></th>\n",
       "      <th>a</th>\n",
       "      <th>b</th>\n",
       "      <th>c</th>\n",
       "      <th>d</th>\n",
       "      <th>e</th>\n",
       "      <th>str_col</th>\n",
       "      <th>m1</th>\n",
       "      <th>m2</th>\n",
       "      <th>m3</th>\n",
       "    </tr>\n",
       "  </thead>\n",
       "  <tbody>\n",
       "    <tr>\n",
       "      <th>0</th>\n",
       "      <td>-1.269977</td>\n",
       "      <td>-1.177370</td>\n",
       "      <td>1.158399</td>\n",
       "      <td>-0.016085</td>\n",
       "      <td>0.203176</td>\n",
       "      <td>f d</td>\n",
       "      <td>0.303826</td>\n",
       "      <td>-1.916549</td>\n",
       "      <td>0.629954</td>\n",
       "    </tr>\n",
       "    <tr>\n",
       "      <th>1</th>\n",
       "      <td>-0.519371</td>\n",
       "      <td>-0.260523</td>\n",
       "      <td>-0.215049</td>\n",
       "      <td>-0.487501</td>\n",
       "      <td>1.459452</td>\n",
       "      <td>s d</td>\n",
       "      <td>1.448148</td>\n",
       "      <td>-1.350026</td>\n",
       "      <td>0.965585</td>\n",
       "    </tr>\n",
       "    <tr>\n",
       "      <th>2</th>\n",
       "      <td>0.428743</td>\n",
       "      <td>0.699861</td>\n",
       "      <td>-0.112447</td>\n",
       "      <td>0.096921</td>\n",
       "      <td>-0.798860</td>\n",
       "      <td>w e</td>\n",
       "      <td>0.910323</td>\n",
       "      <td>-0.421423</td>\n",
       "      <td>0.103911</td>\n",
       "    </tr>\n",
       "    <tr>\n",
       "      <th>3</th>\n",
       "      <td>-2.234911</td>\n",
       "      <td>-0.776609</td>\n",
       "      <td>-0.083039</td>\n",
       "      <td>0.412606</td>\n",
       "      <td>-0.847500</td>\n",
       "      <td>l k</td>\n",
       "      <td>-0.484875</td>\n",
       "      <td>-0.436535</td>\n",
       "      <td>-0.881022</td>\n",
       "    </tr>\n",
       "  </tbody>\n",
       "</table>\n",
       "</div>"
      ],
      "text/plain": [
       "          a         b         c         d         e str_col        m1  \\\n",
       "0 -1.269977 -1.177370  1.158399 -0.016085  0.203176     f d  0.303826   \n",
       "1 -0.519371 -0.260523 -0.215049 -0.487501  1.459452     s d  1.448148   \n",
       "2  0.428743  0.699861 -0.112447  0.096921 -0.798860     w e  0.910323   \n",
       "3 -2.234911 -0.776609 -0.083039  0.412606 -0.847500     l k -0.484875   \n",
       "\n",
       "         m2        m3  \n",
       "0 -1.916549  0.629954  \n",
       "1 -1.350026  0.965585  \n",
       "2 -0.421423  0.103911  \n",
       "3 -0.436535 -0.881022  "
      ]
     },
     "execution_count": 78,
     "metadata": {},
     "output_type": "execute_result"
    }
   ],
   "source": [
    "# apart from corresponding rows, only rows that do no match from the left df are preserved\n",
    "test_df.merge(df_to_merge, how='left', left_index=True, right_index=True)"
   ]
  },
  {
   "cell_type": "code",
   "execution_count": 79,
   "metadata": {},
   "outputs": [
    {
     "data": {
      "text/html": [
       "<div>\n",
       "<style scoped>\n",
       "    .dataframe tbody tr th:only-of-type {\n",
       "        vertical-align: middle;\n",
       "    }\n",
       "\n",
       "    .dataframe tbody tr th {\n",
       "        vertical-align: top;\n",
       "    }\n",
       "\n",
       "    .dataframe thead th {\n",
       "        text-align: right;\n",
       "    }\n",
       "</style>\n",
       "<table border=\"1\" class=\"dataframe\">\n",
       "  <thead>\n",
       "    <tr style=\"text-align: right;\">\n",
       "      <th></th>\n",
       "      <th>a</th>\n",
       "      <th>b</th>\n",
       "      <th>c</th>\n",
       "      <th>d</th>\n",
       "      <th>e</th>\n",
       "      <th>str_col</th>\n",
       "      <th>m1</th>\n",
       "      <th>m2</th>\n",
       "      <th>m3</th>\n",
       "    </tr>\n",
       "  </thead>\n",
       "  <tbody>\n",
       "    <tr>\n",
       "      <th>0</th>\n",
       "      <td>-1.269977</td>\n",
       "      <td>-1.177370</td>\n",
       "      <td>1.158399</td>\n",
       "      <td>-0.016085</td>\n",
       "      <td>0.203176</td>\n",
       "      <td>f d</td>\n",
       "      <td>0.303826</td>\n",
       "      <td>-1.916549</td>\n",
       "      <td>0.629954</td>\n",
       "    </tr>\n",
       "    <tr>\n",
       "      <th>1</th>\n",
       "      <td>-0.519371</td>\n",
       "      <td>-0.260523</td>\n",
       "      <td>-0.215049</td>\n",
       "      <td>-0.487501</td>\n",
       "      <td>1.459452</td>\n",
       "      <td>s d</td>\n",
       "      <td>1.448148</td>\n",
       "      <td>-1.350026</td>\n",
       "      <td>0.965585</td>\n",
       "    </tr>\n",
       "    <tr>\n",
       "      <th>2</th>\n",
       "      <td>0.428743</td>\n",
       "      <td>0.699861</td>\n",
       "      <td>-0.112447</td>\n",
       "      <td>0.096921</td>\n",
       "      <td>-0.798860</td>\n",
       "      <td>w e</td>\n",
       "      <td>0.910323</td>\n",
       "      <td>-0.421423</td>\n",
       "      <td>0.103911</td>\n",
       "    </tr>\n",
       "    <tr>\n",
       "      <th>3</th>\n",
       "      <td>-2.234911</td>\n",
       "      <td>-0.776609</td>\n",
       "      <td>-0.083039</td>\n",
       "      <td>0.412606</td>\n",
       "      <td>-0.847500</td>\n",
       "      <td>l k</td>\n",
       "      <td>-0.484875</td>\n",
       "      <td>-0.436535</td>\n",
       "      <td>-0.881022</td>\n",
       "    </tr>\n",
       "    <tr>\n",
       "      <th>4</th>\n",
       "      <td>NaN</td>\n",
       "      <td>NaN</td>\n",
       "      <td>NaN</td>\n",
       "      <td>NaN</td>\n",
       "      <td>NaN</td>\n",
       "      <td>NaN</td>\n",
       "      <td>0.708399</td>\n",
       "      <td>-1.977286</td>\n",
       "      <td>-0.504605</td>\n",
       "    </tr>\n",
       "    <tr>\n",
       "      <th>5</th>\n",
       "      <td>NaN</td>\n",
       "      <td>NaN</td>\n",
       "      <td>NaN</td>\n",
       "      <td>NaN</td>\n",
       "      <td>NaN</td>\n",
       "      <td>NaN</td>\n",
       "      <td>0.416926</td>\n",
       "      <td>0.409516</td>\n",
       "      <td>-1.226937</td>\n",
       "    </tr>\n",
       "    <tr>\n",
       "      <th>6</th>\n",
       "      <td>NaN</td>\n",
       "      <td>NaN</td>\n",
       "      <td>NaN</td>\n",
       "      <td>NaN</td>\n",
       "      <td>NaN</td>\n",
       "      <td>NaN</td>\n",
       "      <td>-0.809526</td>\n",
       "      <td>0.529010</td>\n",
       "      <td>0.690958</td>\n",
       "    </tr>\n",
       "    <tr>\n",
       "      <th>7</th>\n",
       "      <td>NaN</td>\n",
       "      <td>NaN</td>\n",
       "      <td>NaN</td>\n",
       "      <td>NaN</td>\n",
       "      <td>NaN</td>\n",
       "      <td>NaN</td>\n",
       "      <td>-1.067186</td>\n",
       "      <td>0.359408</td>\n",
       "      <td>1.167650</td>\n",
       "    </tr>\n",
       "    <tr>\n",
       "      <th>8</th>\n",
       "      <td>NaN</td>\n",
       "      <td>NaN</td>\n",
       "      <td>NaN</td>\n",
       "      <td>NaN</td>\n",
       "      <td>NaN</td>\n",
       "      <td>NaN</td>\n",
       "      <td>1.481487</td>\n",
       "      <td>1.065856</td>\n",
       "      <td>0.468982</td>\n",
       "    </tr>\n",
       "    <tr>\n",
       "      <th>9</th>\n",
       "      <td>NaN</td>\n",
       "      <td>NaN</td>\n",
       "      <td>NaN</td>\n",
       "      <td>NaN</td>\n",
       "      <td>NaN</td>\n",
       "      <td>NaN</td>\n",
       "      <td>0.236708</td>\n",
       "      <td>-0.468079</td>\n",
       "      <td>2.557090</td>\n",
       "    </tr>\n",
       "  </tbody>\n",
       "</table>\n",
       "</div>"
      ],
      "text/plain": [
       "          a         b         c         d         e str_col        m1  \\\n",
       "0 -1.269977 -1.177370  1.158399 -0.016085  0.203176     f d  0.303826   \n",
       "1 -0.519371 -0.260523 -0.215049 -0.487501  1.459452     s d  1.448148   \n",
       "2  0.428743  0.699861 -0.112447  0.096921 -0.798860     w e  0.910323   \n",
       "3 -2.234911 -0.776609 -0.083039  0.412606 -0.847500     l k -0.484875   \n",
       "4       NaN       NaN       NaN       NaN       NaN     NaN  0.708399   \n",
       "5       NaN       NaN       NaN       NaN       NaN     NaN  0.416926   \n",
       "6       NaN       NaN       NaN       NaN       NaN     NaN -0.809526   \n",
       "7       NaN       NaN       NaN       NaN       NaN     NaN -1.067186   \n",
       "8       NaN       NaN       NaN       NaN       NaN     NaN  1.481487   \n",
       "9       NaN       NaN       NaN       NaN       NaN     NaN  0.236708   \n",
       "\n",
       "         m2        m3  \n",
       "0 -1.916549  0.629954  \n",
       "1 -1.350026  0.965585  \n",
       "2 -0.421423  0.103911  \n",
       "3 -0.436535 -0.881022  \n",
       "4 -1.977286 -0.504605  \n",
       "5  0.409516 -1.226937  \n",
       "6  0.529010  0.690958  \n",
       "7  0.359408  1.167650  \n",
       "8  1.065856  0.468982  \n",
       "9 -0.468079  2.557090  "
      ]
     },
     "execution_count": 79,
     "metadata": {},
     "output_type": "execute_result"
    }
   ],
   "source": [
    "# apart from corresponding rows, only rows that do no match from the right df are preserved\n",
    "test_df.merge(df_to_merge, how='right', left_index=True, right_index=True)"
   ]
  },
  {
   "cell_type": "code",
   "execution_count": 80,
   "metadata": {},
   "outputs": [
    {
     "data": {
      "text/html": [
       "<div>\n",
       "<style scoped>\n",
       "    .dataframe tbody tr th:only-of-type {\n",
       "        vertical-align: middle;\n",
       "    }\n",
       "\n",
       "    .dataframe tbody tr th {\n",
       "        vertical-align: top;\n",
       "    }\n",
       "\n",
       "    .dataframe thead th {\n",
       "        text-align: right;\n",
       "    }\n",
       "</style>\n",
       "<table border=\"1\" class=\"dataframe\">\n",
       "  <thead>\n",
       "    <tr style=\"text-align: right;\">\n",
       "      <th></th>\n",
       "      <th>a</th>\n",
       "      <th>b</th>\n",
       "      <th>c</th>\n",
       "      <th>d</th>\n",
       "      <th>e</th>\n",
       "      <th>str_col</th>\n",
       "      <th>m1</th>\n",
       "      <th>m2</th>\n",
       "      <th>m3</th>\n",
       "    </tr>\n",
       "  </thead>\n",
       "  <tbody>\n",
       "    <tr>\n",
       "      <th>0</th>\n",
       "      <td>-1.269977</td>\n",
       "      <td>-1.177370</td>\n",
       "      <td>1.158399</td>\n",
       "      <td>-0.016085</td>\n",
       "      <td>0.203176</td>\n",
       "      <td>f d</td>\n",
       "      <td>0.303826</td>\n",
       "      <td>-1.916549</td>\n",
       "      <td>0.629954</td>\n",
       "    </tr>\n",
       "    <tr>\n",
       "      <th>1</th>\n",
       "      <td>-0.519371</td>\n",
       "      <td>-0.260523</td>\n",
       "      <td>-0.215049</td>\n",
       "      <td>-0.487501</td>\n",
       "      <td>1.459452</td>\n",
       "      <td>s d</td>\n",
       "      <td>1.448148</td>\n",
       "      <td>-1.350026</td>\n",
       "      <td>0.965585</td>\n",
       "    </tr>\n",
       "    <tr>\n",
       "      <th>2</th>\n",
       "      <td>0.428743</td>\n",
       "      <td>0.699861</td>\n",
       "      <td>-0.112447</td>\n",
       "      <td>0.096921</td>\n",
       "      <td>-0.798860</td>\n",
       "      <td>w e</td>\n",
       "      <td>0.910323</td>\n",
       "      <td>-0.421423</td>\n",
       "      <td>0.103911</td>\n",
       "    </tr>\n",
       "    <tr>\n",
       "      <th>3</th>\n",
       "      <td>-2.234911</td>\n",
       "      <td>-0.776609</td>\n",
       "      <td>-0.083039</td>\n",
       "      <td>0.412606</td>\n",
       "      <td>-0.847500</td>\n",
       "      <td>l k</td>\n",
       "      <td>-0.484875</td>\n",
       "      <td>-0.436535</td>\n",
       "      <td>-0.881022</td>\n",
       "    </tr>\n",
       "  </tbody>\n",
       "</table>\n",
       "</div>"
      ],
      "text/plain": [
       "          a         b         c         d         e str_col        m1  \\\n",
       "0 -1.269977 -1.177370  1.158399 -0.016085  0.203176     f d  0.303826   \n",
       "1 -0.519371 -0.260523 -0.215049 -0.487501  1.459452     s d  1.448148   \n",
       "2  0.428743  0.699861 -0.112447  0.096921 -0.798860     w e  0.910323   \n",
       "3 -2.234911 -0.776609 -0.083039  0.412606 -0.847500     l k -0.484875   \n",
       "\n",
       "         m2        m3  \n",
       "0 -1.916549  0.629954  \n",
       "1 -1.350026  0.965585  \n",
       "2 -0.421423  0.103911  \n",
       "3 -0.436535 -0.881022  "
      ]
     },
     "execution_count": 80,
     "metadata": {},
     "output_type": "execute_result"
    }
   ],
   "source": [
    "# only corresponding rows are preserved from left and right\n",
    "test_df.merge(df_to_merge, how='inner', left_index=True, right_index=True)"
   ]
  },
  {
   "cell_type": "code",
   "execution_count": 81,
   "metadata": {},
   "outputs": [
    {
     "data": {
      "text/html": [
       "<div>\n",
       "<style scoped>\n",
       "    .dataframe tbody tr th:only-of-type {\n",
       "        vertical-align: middle;\n",
       "    }\n",
       "\n",
       "    .dataframe tbody tr th {\n",
       "        vertical-align: top;\n",
       "    }\n",
       "\n",
       "    .dataframe thead th {\n",
       "        text-align: right;\n",
       "    }\n",
       "</style>\n",
       "<table border=\"1\" class=\"dataframe\">\n",
       "  <thead>\n",
       "    <tr style=\"text-align: right;\">\n",
       "      <th></th>\n",
       "      <th>a</th>\n",
       "      <th>b</th>\n",
       "      <th>c</th>\n",
       "      <th>d</th>\n",
       "      <th>e</th>\n",
       "      <th>str_col</th>\n",
       "      <th>m1</th>\n",
       "      <th>m2</th>\n",
       "      <th>m3</th>\n",
       "    </tr>\n",
       "  </thead>\n",
       "  <tbody>\n",
       "    <tr>\n",
       "      <th>0</th>\n",
       "      <td>-1.269977</td>\n",
       "      <td>-1.177370</td>\n",
       "      <td>1.158399</td>\n",
       "      <td>-0.016085</td>\n",
       "      <td>0.203176</td>\n",
       "      <td>f d</td>\n",
       "      <td>0.303826</td>\n",
       "      <td>-1.916549</td>\n",
       "      <td>0.629954</td>\n",
       "    </tr>\n",
       "    <tr>\n",
       "      <th>1</th>\n",
       "      <td>-0.519371</td>\n",
       "      <td>-0.260523</td>\n",
       "      <td>-0.215049</td>\n",
       "      <td>-0.487501</td>\n",
       "      <td>1.459452</td>\n",
       "      <td>s d</td>\n",
       "      <td>1.448148</td>\n",
       "      <td>-1.350026</td>\n",
       "      <td>0.965585</td>\n",
       "    </tr>\n",
       "    <tr>\n",
       "      <th>2</th>\n",
       "      <td>0.428743</td>\n",
       "      <td>0.699861</td>\n",
       "      <td>-0.112447</td>\n",
       "      <td>0.096921</td>\n",
       "      <td>-0.798860</td>\n",
       "      <td>w e</td>\n",
       "      <td>0.910323</td>\n",
       "      <td>-0.421423</td>\n",
       "      <td>0.103911</td>\n",
       "    </tr>\n",
       "    <tr>\n",
       "      <th>3</th>\n",
       "      <td>-2.234911</td>\n",
       "      <td>-0.776609</td>\n",
       "      <td>-0.083039</td>\n",
       "      <td>0.412606</td>\n",
       "      <td>-0.847500</td>\n",
       "      <td>l k</td>\n",
       "      <td>-0.484875</td>\n",
       "      <td>-0.436535</td>\n",
       "      <td>-0.881022</td>\n",
       "    </tr>\n",
       "    <tr>\n",
       "      <th>4</th>\n",
       "      <td>NaN</td>\n",
       "      <td>NaN</td>\n",
       "      <td>NaN</td>\n",
       "      <td>NaN</td>\n",
       "      <td>NaN</td>\n",
       "      <td>NaN</td>\n",
       "      <td>0.708399</td>\n",
       "      <td>-1.977286</td>\n",
       "      <td>-0.504605</td>\n",
       "    </tr>\n",
       "    <tr>\n",
       "      <th>5</th>\n",
       "      <td>NaN</td>\n",
       "      <td>NaN</td>\n",
       "      <td>NaN</td>\n",
       "      <td>NaN</td>\n",
       "      <td>NaN</td>\n",
       "      <td>NaN</td>\n",
       "      <td>0.416926</td>\n",
       "      <td>0.409516</td>\n",
       "      <td>-1.226937</td>\n",
       "    </tr>\n",
       "    <tr>\n",
       "      <th>6</th>\n",
       "      <td>NaN</td>\n",
       "      <td>NaN</td>\n",
       "      <td>NaN</td>\n",
       "      <td>NaN</td>\n",
       "      <td>NaN</td>\n",
       "      <td>NaN</td>\n",
       "      <td>-0.809526</td>\n",
       "      <td>0.529010</td>\n",
       "      <td>0.690958</td>\n",
       "    </tr>\n",
       "    <tr>\n",
       "      <th>7</th>\n",
       "      <td>NaN</td>\n",
       "      <td>NaN</td>\n",
       "      <td>NaN</td>\n",
       "      <td>NaN</td>\n",
       "      <td>NaN</td>\n",
       "      <td>NaN</td>\n",
       "      <td>-1.067186</td>\n",
       "      <td>0.359408</td>\n",
       "      <td>1.167650</td>\n",
       "    </tr>\n",
       "    <tr>\n",
       "      <th>8</th>\n",
       "      <td>NaN</td>\n",
       "      <td>NaN</td>\n",
       "      <td>NaN</td>\n",
       "      <td>NaN</td>\n",
       "      <td>NaN</td>\n",
       "      <td>NaN</td>\n",
       "      <td>1.481487</td>\n",
       "      <td>1.065856</td>\n",
       "      <td>0.468982</td>\n",
       "    </tr>\n",
       "    <tr>\n",
       "      <th>9</th>\n",
       "      <td>NaN</td>\n",
       "      <td>NaN</td>\n",
       "      <td>NaN</td>\n",
       "      <td>NaN</td>\n",
       "      <td>NaN</td>\n",
       "      <td>NaN</td>\n",
       "      <td>0.236708</td>\n",
       "      <td>-0.468079</td>\n",
       "      <td>2.557090</td>\n",
       "    </tr>\n",
       "  </tbody>\n",
       "</table>\n",
       "</div>"
      ],
      "text/plain": [
       "          a         b         c         d         e str_col        m1  \\\n",
       "0 -1.269977 -1.177370  1.158399 -0.016085  0.203176     f d  0.303826   \n",
       "1 -0.519371 -0.260523 -0.215049 -0.487501  1.459452     s d  1.448148   \n",
       "2  0.428743  0.699861 -0.112447  0.096921 -0.798860     w e  0.910323   \n",
       "3 -2.234911 -0.776609 -0.083039  0.412606 -0.847500     l k -0.484875   \n",
       "4       NaN       NaN       NaN       NaN       NaN     NaN  0.708399   \n",
       "5       NaN       NaN       NaN       NaN       NaN     NaN  0.416926   \n",
       "6       NaN       NaN       NaN       NaN       NaN     NaN -0.809526   \n",
       "7       NaN       NaN       NaN       NaN       NaN     NaN -1.067186   \n",
       "8       NaN       NaN       NaN       NaN       NaN     NaN  1.481487   \n",
       "9       NaN       NaN       NaN       NaN       NaN     NaN  0.236708   \n",
       "\n",
       "         m2        m3  \n",
       "0 -1.916549  0.629954  \n",
       "1 -1.350026  0.965585  \n",
       "2 -0.421423  0.103911  \n",
       "3 -0.436535 -0.881022  \n",
       "4 -1.977286 -0.504605  \n",
       "5  0.409516 -1.226937  \n",
       "6  0.529010  0.690958  \n",
       "7  0.359408  1.167650  \n",
       "8  1.065856  0.468982  \n",
       "9 -0.468079  2.557090  "
      ]
     },
     "execution_count": 81,
     "metadata": {},
     "output_type": "execute_result"
    }
   ],
   "source": [
    "#both left and right rows are preserved, coresponding rows are mtached by index\n",
    "test_df.merge(df_to_merge, how='outer', left_index=True, right_index=True)"
   ]
  },
  {
   "cell_type": "markdown",
   "metadata": {},
   "source": [
    "Find a way to binary encode multi-valued categorical variables from a Pandas dataframe"
   ]
  },
  {
   "cell_type": "code",
   "execution_count": 83,
   "metadata": {},
   "outputs": [],
   "source": [
    "test_df['cat'] = ['a', 'b', 'a', 'c']"
   ]
  },
  {
   "cell_type": "code",
   "execution_count": 90,
   "metadata": {},
   "outputs": [
    {
     "data": {
      "text/html": [
       "<div>\n",
       "<style scoped>\n",
       "    .dataframe tbody tr th:only-of-type {\n",
       "        vertical-align: middle;\n",
       "    }\n",
       "\n",
       "    .dataframe tbody tr th {\n",
       "        vertical-align: top;\n",
       "    }\n",
       "\n",
       "    .dataframe thead th {\n",
       "        text-align: right;\n",
       "    }\n",
       "</style>\n",
       "<table border=\"1\" class=\"dataframe\">\n",
       "  <thead>\n",
       "    <tr style=\"text-align: right;\">\n",
       "      <th></th>\n",
       "      <th>a</th>\n",
       "      <th>b</th>\n",
       "      <th>c</th>\n",
       "      <th>d</th>\n",
       "      <th>e</th>\n",
       "      <th>str_col</th>\n",
       "      <th>cat</th>\n",
       "      <th>cat_a</th>\n",
       "      <th>cat_b</th>\n",
       "      <th>cat_c</th>\n",
       "    </tr>\n",
       "  </thead>\n",
       "  <tbody>\n",
       "    <tr>\n",
       "      <th>0</th>\n",
       "      <td>-1.269977</td>\n",
       "      <td>-1.177370</td>\n",
       "      <td>1.158399</td>\n",
       "      <td>-0.016085</td>\n",
       "      <td>0.203176</td>\n",
       "      <td>f d</td>\n",
       "      <td>a</td>\n",
       "      <td>1</td>\n",
       "      <td>0</td>\n",
       "      <td>0</td>\n",
       "    </tr>\n",
       "    <tr>\n",
       "      <th>1</th>\n",
       "      <td>-0.519371</td>\n",
       "      <td>-0.260523</td>\n",
       "      <td>-0.215049</td>\n",
       "      <td>-0.487501</td>\n",
       "      <td>1.459452</td>\n",
       "      <td>s d</td>\n",
       "      <td>b</td>\n",
       "      <td>0</td>\n",
       "      <td>1</td>\n",
       "      <td>0</td>\n",
       "    </tr>\n",
       "    <tr>\n",
       "      <th>2</th>\n",
       "      <td>0.428743</td>\n",
       "      <td>0.699861</td>\n",
       "      <td>-0.112447</td>\n",
       "      <td>0.096921</td>\n",
       "      <td>-0.798860</td>\n",
       "      <td>w e</td>\n",
       "      <td>a</td>\n",
       "      <td>1</td>\n",
       "      <td>0</td>\n",
       "      <td>0</td>\n",
       "    </tr>\n",
       "    <tr>\n",
       "      <th>3</th>\n",
       "      <td>-2.234911</td>\n",
       "      <td>-0.776609</td>\n",
       "      <td>-0.083039</td>\n",
       "      <td>0.412606</td>\n",
       "      <td>-0.847500</td>\n",
       "      <td>l k</td>\n",
       "      <td>c</td>\n",
       "      <td>0</td>\n",
       "      <td>0</td>\n",
       "      <td>1</td>\n",
       "    </tr>\n",
       "  </tbody>\n",
       "</table>\n",
       "</div>"
      ],
      "text/plain": [
       "          a         b         c         d         e str_col cat  cat_a  cat_b  \\\n",
       "0 -1.269977 -1.177370  1.158399 -0.016085  0.203176     f d   a      1      0   \n",
       "1 -0.519371 -0.260523 -0.215049 -0.487501  1.459452     s d   b      0      1   \n",
       "2  0.428743  0.699861 -0.112447  0.096921 -0.798860     w e   a      1      0   \n",
       "3 -2.234911 -0.776609 -0.083039  0.412606 -0.847500     l k   c      0      0   \n",
       "\n",
       "   cat_c  \n",
       "0      0  \n",
       "1      0  \n",
       "2      0  \n",
       "3      1  "
      ]
     },
     "execution_count": 90,
     "metadata": {},
     "output_type": "execute_result"
    }
   ],
   "source": [
    "test_df.merge(pd.get_dummies(test_df['cat'], prefix='cat'), left_index=True, right_index=True)\n"
   ]
  },
  {
   "cell_type": "code",
   "execution_count": 92,
   "metadata": {},
   "outputs": [],
   "source": [
    "tst = pd.DataFrame.from_records(\n",
    "    [[0, 'A'], [0, 'B'], [1, 'B'], [1, 'C'], [1, 'D'], [2, 'B'], [2, 'D']],\n",
    "    columns=['number_label', 'category'])"
   ]
  },
  {
   "cell_type": "code",
   "execution_count": 121,
   "metadata": {},
   "outputs": [
    {
     "data": {
      "text/html": [
       "<div>\n",
       "<style scoped>\n",
       "    .dataframe tbody tr th:only-of-type {\n",
       "        vertical-align: middle;\n",
       "    }\n",
       "\n",
       "    .dataframe tbody tr th {\n",
       "        vertical-align: top;\n",
       "    }\n",
       "\n",
       "    .dataframe thead th {\n",
       "        text-align: right;\n",
       "    }\n",
       "</style>\n",
       "<table border=\"1\" class=\"dataframe\">\n",
       "  <thead>\n",
       "    <tr style=\"text-align: right;\">\n",
       "      <th></th>\n",
       "      <th>number_label</th>\n",
       "      <th>category</th>\n",
       "    </tr>\n",
       "  </thead>\n",
       "  <tbody>\n",
       "    <tr>\n",
       "      <th>0</th>\n",
       "      <td>0</td>\n",
       "      <td>A</td>\n",
       "    </tr>\n",
       "    <tr>\n",
       "      <th>1</th>\n",
       "      <td>0</td>\n",
       "      <td>B</td>\n",
       "    </tr>\n",
       "    <tr>\n",
       "      <th>2</th>\n",
       "      <td>1</td>\n",
       "      <td>B</td>\n",
       "    </tr>\n",
       "    <tr>\n",
       "      <th>3</th>\n",
       "      <td>1</td>\n",
       "      <td>C</td>\n",
       "    </tr>\n",
       "    <tr>\n",
       "      <th>4</th>\n",
       "      <td>1</td>\n",
       "      <td>D</td>\n",
       "    </tr>\n",
       "    <tr>\n",
       "      <th>5</th>\n",
       "      <td>2</td>\n",
       "      <td>B</td>\n",
       "    </tr>\n",
       "    <tr>\n",
       "      <th>6</th>\n",
       "      <td>2</td>\n",
       "      <td>D</td>\n",
       "    </tr>\n",
       "  </tbody>\n",
       "</table>\n",
       "</div>"
      ],
      "text/plain": [
       "   number_label category\n",
       "0             0        A\n",
       "1             0        B\n",
       "2             1        B\n",
       "3             1        C\n",
       "4             1        D\n",
       "5             2        B\n",
       "6             2        D"
      ]
     },
     "execution_count": 121,
     "metadata": {},
     "output_type": "execute_result"
    }
   ],
   "source": [
    "tst"
   ]
  },
  {
   "cell_type": "code",
   "execution_count": 120,
   "metadata": {},
   "outputs": [
    {
     "data": {
      "text/html": [
       "<div>\n",
       "<style scoped>\n",
       "    .dataframe tbody tr th:only-of-type {\n",
       "        vertical-align: middle;\n",
       "    }\n",
       "\n",
       "    .dataframe tbody tr th {\n",
       "        vertical-align: top;\n",
       "    }\n",
       "\n",
       "    .dataframe thead th {\n",
       "        text-align: right;\n",
       "    }\n",
       "</style>\n",
       "<table border=\"1\" class=\"dataframe\">\n",
       "  <thead>\n",
       "    <tr style=\"text-align: right;\">\n",
       "      <th></th>\n",
       "      <th>A</th>\n",
       "      <th>B</th>\n",
       "      <th>C</th>\n",
       "      <th>D</th>\n",
       "    </tr>\n",
       "  </thead>\n",
       "  <tbody>\n",
       "    <tr>\n",
       "      <th>0</th>\n",
       "      <td>1</td>\n",
       "      <td>0</td>\n",
       "      <td>0</td>\n",
       "      <td>0</td>\n",
       "    </tr>\n",
       "    <tr>\n",
       "      <th>1</th>\n",
       "      <td>0</td>\n",
       "      <td>1</td>\n",
       "      <td>0</td>\n",
       "      <td>0</td>\n",
       "    </tr>\n",
       "    <tr>\n",
       "      <th>2</th>\n",
       "      <td>0</td>\n",
       "      <td>1</td>\n",
       "      <td>0</td>\n",
       "      <td>0</td>\n",
       "    </tr>\n",
       "    <tr>\n",
       "      <th>3</th>\n",
       "      <td>0</td>\n",
       "      <td>0</td>\n",
       "      <td>1</td>\n",
       "      <td>0</td>\n",
       "    </tr>\n",
       "    <tr>\n",
       "      <th>4</th>\n",
       "      <td>0</td>\n",
       "      <td>0</td>\n",
       "      <td>0</td>\n",
       "      <td>1</td>\n",
       "    </tr>\n",
       "    <tr>\n",
       "      <th>5</th>\n",
       "      <td>0</td>\n",
       "      <td>1</td>\n",
       "      <td>0</td>\n",
       "      <td>0</td>\n",
       "    </tr>\n",
       "    <tr>\n",
       "      <th>6</th>\n",
       "      <td>0</td>\n",
       "      <td>0</td>\n",
       "      <td>0</td>\n",
       "      <td>1</td>\n",
       "    </tr>\n",
       "  </tbody>\n",
       "</table>\n",
       "</div>"
      ],
      "text/plain": [
       "   A  B  C  D\n",
       "0  1  0  0  0\n",
       "1  0  1  0  0\n",
       "2  0  1  0  0\n",
       "3  0  0  1  0\n",
       "4  0  0  0  1\n",
       "5  0  1  0  0\n",
       "6  0  0  0  1"
      ]
     },
     "execution_count": 120,
     "metadata": {},
     "output_type": "execute_result"
    }
   ],
   "source": [
    "pd.get_dummies(tst['category'])"
   ]
  },
  {
   "cell_type": "code",
   "execution_count": 117,
   "metadata": {},
   "outputs": [
    {
     "data": {
      "text/html": [
       "<div>\n",
       "<style scoped>\n",
       "    .dataframe tbody tr th:only-of-type {\n",
       "        vertical-align: middle;\n",
       "    }\n",
       "\n",
       "    .dataframe tbody tr th {\n",
       "        vertical-align: top;\n",
       "    }\n",
       "\n",
       "    .dataframe thead th {\n",
       "        text-align: right;\n",
       "    }\n",
       "</style>\n",
       "<table border=\"1\" class=\"dataframe\">\n",
       "  <thead>\n",
       "    <tr style=\"text-align: right;\">\n",
       "      <th>category</th>\n",
       "      <th>A</th>\n",
       "      <th>B</th>\n",
       "      <th>C</th>\n",
       "      <th>D</th>\n",
       "    </tr>\n",
       "    <tr>\n",
       "      <th>number_label</th>\n",
       "      <th></th>\n",
       "      <th></th>\n",
       "      <th></th>\n",
       "      <th></th>\n",
       "    </tr>\n",
       "  </thead>\n",
       "  <tbody>\n",
       "    <tr>\n",
       "      <th>0</th>\n",
       "      <td>1</td>\n",
       "      <td>1</td>\n",
       "      <td>0</td>\n",
       "      <td>0</td>\n",
       "    </tr>\n",
       "    <tr>\n",
       "      <th>1</th>\n",
       "      <td>0</td>\n",
       "      <td>1</td>\n",
       "      <td>1</td>\n",
       "      <td>1</td>\n",
       "    </tr>\n",
       "    <tr>\n",
       "      <th>2</th>\n",
       "      <td>0</td>\n",
       "      <td>1</td>\n",
       "      <td>0</td>\n",
       "      <td>1</td>\n",
       "    </tr>\n",
       "  </tbody>\n",
       "</table>\n",
       "</div>"
      ],
      "text/plain": [
       "category      A  B  C  D\n",
       "number_label            \n",
       "0             1  1  0  0\n",
       "1             0  1  1  1\n",
       "2             0  1  0  1"
      ]
     },
     "execution_count": 117,
     "metadata": {},
     "output_type": "execute_result"
    }
   ],
   "source": [
    "tst.pivot_table(columns='category', index='number_label', aggfunc='size', fill_value=0)"
   ]
  },
  {
   "cell_type": "code",
   "execution_count": 112,
   "metadata": {},
   "outputs": [
    {
     "data": {
      "text/html": [
       "<div>\n",
       "<style scoped>\n",
       "    .dataframe tbody tr th:only-of-type {\n",
       "        vertical-align: middle;\n",
       "    }\n",
       "\n",
       "    .dataframe tbody tr th {\n",
       "        vertical-align: top;\n",
       "    }\n",
       "\n",
       "    .dataframe thead th {\n",
       "        text-align: right;\n",
       "    }\n",
       "</style>\n",
       "<table border=\"1\" class=\"dataframe\">\n",
       "  <thead>\n",
       "    <tr style=\"text-align: right;\">\n",
       "      <th>category</th>\n",
       "      <th>A</th>\n",
       "      <th>B</th>\n",
       "      <th>C</th>\n",
       "      <th>D</th>\n",
       "    </tr>\n",
       "    <tr>\n",
       "      <th>number_label</th>\n",
       "      <th></th>\n",
       "      <th></th>\n",
       "      <th></th>\n",
       "      <th></th>\n",
       "    </tr>\n",
       "  </thead>\n",
       "  <tbody>\n",
       "    <tr>\n",
       "      <th>0</th>\n",
       "      <td>1</td>\n",
       "      <td>1</td>\n",
       "      <td>0</td>\n",
       "      <td>0</td>\n",
       "    </tr>\n",
       "    <tr>\n",
       "      <th>1</th>\n",
       "      <td>0</td>\n",
       "      <td>1</td>\n",
       "      <td>1</td>\n",
       "      <td>1</td>\n",
       "    </tr>\n",
       "    <tr>\n",
       "      <th>2</th>\n",
       "      <td>0</td>\n",
       "      <td>1</td>\n",
       "      <td>0</td>\n",
       "      <td>1</td>\n",
       "    </tr>\n",
       "  </tbody>\n",
       "</table>\n",
       "</div>"
      ],
      "text/plain": [
       "category      A  B  C  D\n",
       "number_label            \n",
       "0             1  1  0  0\n",
       "1             0  1  1  1\n",
       "2             0  1  0  1"
      ]
     },
     "execution_count": 112,
     "metadata": {},
     "output_type": "execute_result"
    }
   ],
   "source": [
    "tst.pivot_table(columns='category', index='number_label', aggfunc='size', fill_value=0)"
   ]
  },
  {
   "cell_type": "code",
   "execution_count": 118,
   "metadata": {},
   "outputs": [
    {
     "data": {
      "text/plain": [
       "cat\n",
       "a    2\n",
       "b    1\n",
       "c    1\n",
       "dtype: int64"
      ]
     },
     "execution_count": 118,
     "metadata": {},
     "output_type": "execute_result"
    }
   ],
   "source": [
    "test_df[['cat', 'a', \n",
    "         'b',   'c']].pivot_table(columns='cat', aggfunc='size')"
   ]
  },
  {
   "cell_type": "code",
   "execution_count": 123,
   "metadata": {},
   "outputs": [
    {
     "data": {
      "text/html": [
       "<div>\n",
       "<style scoped>\n",
       "    .dataframe tbody tr th:only-of-type {\n",
       "        vertical-align: middle;\n",
       "    }\n",
       "\n",
       "    .dataframe tbody tr th {\n",
       "        vertical-align: top;\n",
       "    }\n",
       "\n",
       "    .dataframe thead th {\n",
       "        text-align: right;\n",
       "    }\n",
       "</style>\n",
       "<table border=\"1\" class=\"dataframe\">\n",
       "  <thead>\n",
       "    <tr style=\"text-align: right;\">\n",
       "      <th></th>\n",
       "      <th>Account_number</th>\n",
       "      <th>Product</th>\n",
       "    </tr>\n",
       "  </thead>\n",
       "  <tbody>\n",
       "    <tr>\n",
       "      <th>0</th>\n",
       "      <td>1</td>\n",
       "      <td>A</td>\n",
       "    </tr>\n",
       "    <tr>\n",
       "      <th>1</th>\n",
       "      <td>1</td>\n",
       "      <td>A</td>\n",
       "    </tr>\n",
       "    <tr>\n",
       "      <th>2</th>\n",
       "      <td>2</td>\n",
       "      <td>A</td>\n",
       "    </tr>\n",
       "    <tr>\n",
       "      <th>3</th>\n",
       "      <td>2</td>\n",
       "      <td>B</td>\n",
       "    </tr>\n",
       "    <tr>\n",
       "      <th>4</th>\n",
       "      <td>2</td>\n",
       "      <td>B</td>\n",
       "    </tr>\n",
       "    <tr>\n",
       "      <th>5</th>\n",
       "      <td>3</td>\n",
       "      <td>A</td>\n",
       "    </tr>\n",
       "    <tr>\n",
       "      <th>6</th>\n",
       "      <td>3</td>\n",
       "      <td>B</td>\n",
       "    </tr>\n",
       "  </tbody>\n",
       "</table>\n",
       "</div>"
      ],
      "text/plain": [
       "   Account_number Product\n",
       "0               1       A\n",
       "1               1       A\n",
       "2               2       A\n",
       "3               2       B\n",
       "4               2       B\n",
       "5               3       A\n",
       "6               3       B"
      ]
     },
     "execution_count": 123,
     "metadata": {},
     "output_type": "execute_result"
    }
   ],
   "source": [
    "df = pd.DataFrame({'Account_number':[1,1,2,2,2,3,3],\n",
    "                   'Product':['A', 'A', 'A', 'B', 'B','A', 'B']\n",
    "                  })\n",
    "df"
   ]
  },
  {
   "cell_type": "code",
   "execution_count": 125,
   "metadata": {},
   "outputs": [
    {
     "data": {
      "text/html": [
       "<div>\n",
       "<style scoped>\n",
       "    .dataframe tbody tr th:only-of-type {\n",
       "        vertical-align: middle;\n",
       "    }\n",
       "\n",
       "    .dataframe tbody tr th {\n",
       "        vertical-align: top;\n",
       "    }\n",
       "\n",
       "    .dataframe thead th {\n",
       "        text-align: right;\n",
       "    }\n",
       "</style>\n",
       "<table border=\"1\" class=\"dataframe\">\n",
       "  <thead>\n",
       "    <tr style=\"text-align: right;\">\n",
       "      <th>Product</th>\n",
       "      <th>A</th>\n",
       "      <th>B</th>\n",
       "    </tr>\n",
       "    <tr>\n",
       "      <th>Account_number</th>\n",
       "      <th></th>\n",
       "      <th></th>\n",
       "    </tr>\n",
       "  </thead>\n",
       "  <tbody>\n",
       "    <tr>\n",
       "      <th>1</th>\n",
       "      <td>2</td>\n",
       "      <td>0</td>\n",
       "    </tr>\n",
       "    <tr>\n",
       "      <th>2</th>\n",
       "      <td>1</td>\n",
       "      <td>2</td>\n",
       "    </tr>\n",
       "    <tr>\n",
       "      <th>3</th>\n",
       "      <td>1</td>\n",
       "      <td>1</td>\n",
       "    </tr>\n",
       "  </tbody>\n",
       "</table>\n",
       "</div>"
      ],
      "text/plain": [
       "Product         A  B\n",
       "Account_number      \n",
       "1               2  0\n",
       "2               1  2\n",
       "3               1  1"
      ]
     },
     "execution_count": 125,
     "metadata": {},
     "output_type": "execute_result"
    }
   ],
   "source": [
    "df.pivot_table(index='Account_number', columns='Product', aggfunc='size', fill_value=0)"
   ]
  },
  {
   "cell_type": "markdown",
   "metadata": {},
   "source": [
    "Group DataFrame Rows into a List"
   ]
  },
  {
   "cell_type": "code",
   "execution_count": 127,
   "metadata": {},
   "outputs": [
    {
     "data": {
      "text/html": [
       "<div>\n",
       "<style scoped>\n",
       "    .dataframe tbody tr th:only-of-type {\n",
       "        vertical-align: middle;\n",
       "    }\n",
       "\n",
       "    .dataframe tbody tr th {\n",
       "        vertical-align: top;\n",
       "    }\n",
       "\n",
       "    .dataframe thead th {\n",
       "        text-align: right;\n",
       "    }\n",
       "</style>\n",
       "<table border=\"1\" class=\"dataframe\">\n",
       "  <thead>\n",
       "    <tr style=\"text-align: right;\">\n",
       "      <th></th>\n",
       "      <th>a</th>\n",
       "      <th>b</th>\n",
       "    </tr>\n",
       "  </thead>\n",
       "  <tbody>\n",
       "    <tr>\n",
       "      <th>0</th>\n",
       "      <td>A</td>\n",
       "      <td>1</td>\n",
       "    </tr>\n",
       "    <tr>\n",
       "      <th>1</th>\n",
       "      <td>A</td>\n",
       "      <td>2</td>\n",
       "    </tr>\n",
       "    <tr>\n",
       "      <th>2</th>\n",
       "      <td>B</td>\n",
       "      <td>5</td>\n",
       "    </tr>\n",
       "    <tr>\n",
       "      <th>3</th>\n",
       "      <td>B</td>\n",
       "      <td>5</td>\n",
       "    </tr>\n",
       "    <tr>\n",
       "      <th>4</th>\n",
       "      <td>B</td>\n",
       "      <td>4</td>\n",
       "    </tr>\n",
       "    <tr>\n",
       "      <th>5</th>\n",
       "      <td>C</td>\n",
       "      <td>6</td>\n",
       "    </tr>\n",
       "  </tbody>\n",
       "</table>\n",
       "</div>"
      ],
      "text/plain": [
       "   a  b\n",
       "0  A  1\n",
       "1  A  2\n",
       "2  B  5\n",
       "3  B  5\n",
       "4  B  4\n",
       "5  C  6"
      ]
     },
     "execution_count": 127,
     "metadata": {},
     "output_type": "execute_result"
    }
   ],
   "source": [
    "df = pd.DataFrame( {'a':['A','A','B','B','B','C'], 'b':[1,2,5,5,4,6]})\n",
    "df"
   ]
  },
  {
   "cell_type": "code",
   "execution_count": 131,
   "metadata": {},
   "outputs": [
    {
     "data": {
      "text/html": [
       "<div>\n",
       "<style scoped>\n",
       "    .dataframe tbody tr th:only-of-type {\n",
       "        vertical-align: middle;\n",
       "    }\n",
       "\n",
       "    .dataframe tbody tr th {\n",
       "        vertical-align: top;\n",
       "    }\n",
       "\n",
       "    .dataframe thead th {\n",
       "        text-align: right;\n",
       "    }\n",
       "</style>\n",
       "<table border=\"1\" class=\"dataframe\">\n",
       "  <thead>\n",
       "    <tr style=\"text-align: right;\">\n",
       "      <th></th>\n",
       "      <th>a</th>\n",
       "      <th>new</th>\n",
       "    </tr>\n",
       "  </thead>\n",
       "  <tbody>\n",
       "    <tr>\n",
       "      <th>0</th>\n",
       "      <td>A</td>\n",
       "      <td>[1, 2]</td>\n",
       "    </tr>\n",
       "    <tr>\n",
       "      <th>1</th>\n",
       "      <td>B</td>\n",
       "      <td>[5, 5, 4]</td>\n",
       "    </tr>\n",
       "    <tr>\n",
       "      <th>2</th>\n",
       "      <td>C</td>\n",
       "      <td>[6]</td>\n",
       "    </tr>\n",
       "  </tbody>\n",
       "</table>\n",
       "</div>"
      ],
      "text/plain": [
       "   a        new\n",
       "0  A     [1, 2]\n",
       "1  B  [5, 5, 4]\n",
       "2  C        [6]"
      ]
     },
     "execution_count": 131,
     "metadata": {},
     "output_type": "execute_result"
    }
   ],
   "source": [
    "df.groupby('a')['b'].apply(list).reset_index(name='new')"
   ]
  },
  {
   "cell_type": "markdown",
   "metadata": {},
   "source": [
    "How can I achieve the equivalents of SQL's IN and NOT IN in Pandas?"
   ]
  },
  {
   "cell_type": "code",
   "execution_count": 133,
   "metadata": {},
   "outputs": [
    {
     "data": {
      "text/html": [
       "<div>\n",
       "<style scoped>\n",
       "    .dataframe tbody tr th:only-of-type {\n",
       "        vertical-align: middle;\n",
       "    }\n",
       "\n",
       "    .dataframe tbody tr th {\n",
       "        vertical-align: top;\n",
       "    }\n",
       "\n",
       "    .dataframe thead th {\n",
       "        text-align: right;\n",
       "    }\n",
       "</style>\n",
       "<table border=\"1\" class=\"dataframe\">\n",
       "  <thead>\n",
       "    <tr style=\"text-align: right;\">\n",
       "      <th></th>\n",
       "      <th>a</th>\n",
       "      <th>b</th>\n",
       "      <th>c</th>\n",
       "      <th>d</th>\n",
       "      <th>e</th>\n",
       "      <th>str_col</th>\n",
       "      <th>cat</th>\n",
       "    </tr>\n",
       "  </thead>\n",
       "  <tbody>\n",
       "    <tr>\n",
       "      <th>0</th>\n",
       "      <td>-1.269977</td>\n",
       "      <td>-1.177370</td>\n",
       "      <td>1.158399</td>\n",
       "      <td>-0.016085</td>\n",
       "      <td>0.203176</td>\n",
       "      <td>f d</td>\n",
       "      <td>a</td>\n",
       "    </tr>\n",
       "    <tr>\n",
       "      <th>2</th>\n",
       "      <td>0.428743</td>\n",
       "      <td>0.699861</td>\n",
       "      <td>-0.112447</td>\n",
       "      <td>0.096921</td>\n",
       "      <td>-0.798860</td>\n",
       "      <td>w e</td>\n",
       "      <td>a</td>\n",
       "    </tr>\n",
       "  </tbody>\n",
       "</table>\n",
       "</div>"
      ],
      "text/plain": [
       "          a         b         c         d         e str_col cat\n",
       "0 -1.269977 -1.177370  1.158399 -0.016085  0.203176     f d   a\n",
       "2  0.428743  0.699861 -0.112447  0.096921 -0.798860     w e   a"
      ]
     },
     "execution_count": 133,
     "metadata": {},
     "output_type": "execute_result"
    }
   ],
   "source": [
    "test_df[test_df['cat'].isin(['a'])]"
   ]
  },
  {
   "cell_type": "code",
   "execution_count": 134,
   "metadata": {},
   "outputs": [
    {
     "data": {
      "text/html": [
       "<div>\n",
       "<style scoped>\n",
       "    .dataframe tbody tr th:only-of-type {\n",
       "        vertical-align: middle;\n",
       "    }\n",
       "\n",
       "    .dataframe tbody tr th {\n",
       "        vertical-align: top;\n",
       "    }\n",
       "\n",
       "    .dataframe thead th {\n",
       "        text-align: right;\n",
       "    }\n",
       "</style>\n",
       "<table border=\"1\" class=\"dataframe\">\n",
       "  <thead>\n",
       "    <tr style=\"text-align: right;\">\n",
       "      <th></th>\n",
       "      <th>a</th>\n",
       "      <th>b</th>\n",
       "      <th>c</th>\n",
       "      <th>d</th>\n",
       "      <th>e</th>\n",
       "      <th>str_col</th>\n",
       "      <th>cat</th>\n",
       "    </tr>\n",
       "  </thead>\n",
       "  <tbody>\n",
       "    <tr>\n",
       "      <th>1</th>\n",
       "      <td>-0.519371</td>\n",
       "      <td>-0.260523</td>\n",
       "      <td>-0.215049</td>\n",
       "      <td>-0.487501</td>\n",
       "      <td>1.459452</td>\n",
       "      <td>s d</td>\n",
       "      <td>b</td>\n",
       "    </tr>\n",
       "    <tr>\n",
       "      <th>3</th>\n",
       "      <td>-2.234911</td>\n",
       "      <td>-0.776609</td>\n",
       "      <td>-0.083039</td>\n",
       "      <td>0.412606</td>\n",
       "      <td>-0.847500</td>\n",
       "      <td>l k</td>\n",
       "      <td>c</td>\n",
       "    </tr>\n",
       "  </tbody>\n",
       "</table>\n",
       "</div>"
      ],
      "text/plain": [
       "          a         b         c         d         e str_col cat\n",
       "1 -0.519371 -0.260523 -0.215049 -0.487501  1.459452     s d   b\n",
       "3 -2.234911 -0.776609 -0.083039  0.412606 -0.847500     l k   c"
      ]
     },
     "execution_count": 134,
     "metadata": {},
     "output_type": "execute_result"
    }
   ],
   "source": [
    "test_df[~test_df['cat'].isin(['a'])]"
   ]
  },
  {
   "cell_type": "code",
   "execution_count": 143,
   "metadata": {},
   "outputs": [
    {
     "data": {
      "text/html": [
       "<div>\n",
       "<style scoped>\n",
       "    .dataframe tbody tr th:only-of-type {\n",
       "        vertical-align: middle;\n",
       "    }\n",
       "\n",
       "    .dataframe tbody tr th {\n",
       "        vertical-align: top;\n",
       "    }\n",
       "\n",
       "    .dataframe thead th {\n",
       "        text-align: right;\n",
       "    }\n",
       "</style>\n",
       "<table border=\"1\" class=\"dataframe\">\n",
       "  <thead>\n",
       "    <tr style=\"text-align: right;\">\n",
       "      <th></th>\n",
       "      <th>a</th>\n",
       "      <th>b</th>\n",
       "      <th>c</th>\n",
       "      <th>d</th>\n",
       "      <th>e</th>\n",
       "      <th>str_col</th>\n",
       "      <th>cat</th>\n",
       "    </tr>\n",
       "  </thead>\n",
       "  <tbody>\n",
       "    <tr>\n",
       "      <th>0</th>\n",
       "      <td>-1.269977</td>\n",
       "      <td>-1.177370</td>\n",
       "      <td>1.158399</td>\n",
       "      <td>-0.016085</td>\n",
       "      <td>0.203176</td>\n",
       "      <td>f d</td>\n",
       "      <td>a</td>\n",
       "    </tr>\n",
       "    <tr>\n",
       "      <th>2</th>\n",
       "      <td>0.428743</td>\n",
       "      <td>0.699861</td>\n",
       "      <td>-0.112447</td>\n",
       "      <td>0.096921</td>\n",
       "      <td>-0.798860</td>\n",
       "      <td>w e</td>\n",
       "      <td>a</td>\n",
       "    </tr>\n",
       "    <tr>\n",
       "      <th>3</th>\n",
       "      <td>-2.234911</td>\n",
       "      <td>-0.776609</td>\n",
       "      <td>-0.083039</td>\n",
       "      <td>0.412606</td>\n",
       "      <td>-0.847500</td>\n",
       "      <td>l k</td>\n",
       "      <td>c</td>\n",
       "    </tr>\n",
       "  </tbody>\n",
       "</table>\n",
       "</div>"
      ],
      "text/plain": [
       "          a         b         c         d         e str_col cat\n",
       "0 -1.269977 -1.177370  1.158399 -0.016085  0.203176     f d   a\n",
       "2  0.428743  0.699861 -0.112447  0.096921 -0.798860     w e   a\n",
       "3 -2.234911 -0.776609 -0.083039  0.412606 -0.847500     l k   c"
      ]
     },
     "execution_count": 143,
     "metadata": {},
     "output_type": "execute_result"
    }
   ],
   "source": [
    "cat_vals = ['a', 'c']\n",
    "test_df.query('cat in @cat_vals')"
   ]
  },
  {
   "attachments": {},
   "cell_type": "markdown",
   "metadata": {},
   "source": [
    "How would you convert continuous values into discrete values in Pandas?"
   ]
  },
  {
   "cell_type": "code",
   "execution_count": 158,
   "metadata": {},
   "outputs": [],
   "source": [
    "b_cat = pd.cut(test_df['b'], 3, labels=['small', 'mid', 'large'])"
   ]
  },
  {
   "cell_type": "code",
   "execution_count": 159,
   "metadata": {},
   "outputs": [
    {
     "data": {
      "text/plain": [
       "0    small\n",
       "1      mid\n",
       "2    large\n",
       "3    small\n",
       "Name: b, dtype: category\n",
       "Categories (3, object): ['small' < 'mid' < 'large']"
      ]
     },
     "execution_count": 159,
     "metadata": {},
     "output_type": "execute_result"
    }
   ],
   "source": [
    "b_cat"
   ]
  },
  {
   "cell_type": "code",
   "execution_count": 162,
   "metadata": {},
   "outputs": [],
   "source": [
    "test_df.insert(2, 'b_cat', b_cat)"
   ]
  },
  {
   "cell_type": "markdown",
   "metadata": {},
   "source": [
    "How would you create Test (20%) and Train (80%) Datasets with Pandas?"
   ]
  },
  {
   "cell_type": "code",
   "execution_count": 170,
   "metadata": {},
   "outputs": [],
   "source": [
    "from sklearn.model_selection import train_test_split"
   ]
  },
  {
   "cell_type": "code",
   "execution_count": 171,
   "metadata": {},
   "outputs": [
    {
     "data": {
      "text/plain": [
       "(4, 8)"
      ]
     },
     "execution_count": 171,
     "metadata": {},
     "output_type": "execute_result"
    }
   ],
   "source": [
    "test_df.shape"
   ]
  },
  {
   "cell_type": "code",
   "execution_count": 176,
   "metadata": {},
   "outputs": [],
   "source": [
    "test, train = train_test_split(test_df, test_size=.2)"
   ]
  },
  {
   "cell_type": "code",
   "execution_count": 178,
   "metadata": {},
   "outputs": [
    {
     "data": {
      "text/html": [
       "<div>\n",
       "<style scoped>\n",
       "    .dataframe tbody tr th:only-of-type {\n",
       "        vertical-align: middle;\n",
       "    }\n",
       "\n",
       "    .dataframe tbody tr th {\n",
       "        vertical-align: top;\n",
       "    }\n",
       "\n",
       "    .dataframe thead th {\n",
       "        text-align: right;\n",
       "    }\n",
       "</style>\n",
       "<table border=\"1\" class=\"dataframe\">\n",
       "  <thead>\n",
       "    <tr style=\"text-align: right;\">\n",
       "      <th></th>\n",
       "      <th>a</th>\n",
       "      <th>b</th>\n",
       "      <th>b_cat</th>\n",
       "      <th>c</th>\n",
       "      <th>d</th>\n",
       "      <th>e</th>\n",
       "      <th>str_col</th>\n",
       "      <th>cat</th>\n",
       "    </tr>\n",
       "  </thead>\n",
       "  <tbody>\n",
       "    <tr>\n",
       "      <th>2</th>\n",
       "      <td>0.428743</td>\n",
       "      <td>0.699861</td>\n",
       "      <td>large</td>\n",
       "      <td>-0.112447</td>\n",
       "      <td>0.096921</td>\n",
       "      <td>-0.798860</td>\n",
       "      <td>w e</td>\n",
       "      <td>a</td>\n",
       "    </tr>\n",
       "    <tr>\n",
       "      <th>3</th>\n",
       "      <td>-2.234911</td>\n",
       "      <td>-0.776609</td>\n",
       "      <td>small</td>\n",
       "      <td>-0.083039</td>\n",
       "      <td>0.412606</td>\n",
       "      <td>-0.847500</td>\n",
       "      <td>l k</td>\n",
       "      <td>c</td>\n",
       "    </tr>\n",
       "    <tr>\n",
       "      <th>0</th>\n",
       "      <td>-1.269977</td>\n",
       "      <td>-1.177370</td>\n",
       "      <td>small</td>\n",
       "      <td>1.158399</td>\n",
       "      <td>-0.016085</td>\n",
       "      <td>0.203176</td>\n",
       "      <td>f d</td>\n",
       "      <td>a</td>\n",
       "    </tr>\n",
       "  </tbody>\n",
       "</table>\n",
       "</div>"
      ],
      "text/plain": [
       "          a         b  b_cat         c         d         e str_col cat\n",
       "2  0.428743  0.699861  large -0.112447  0.096921 -0.798860     w e   a\n",
       "3 -2.234911 -0.776609  small -0.083039  0.412606 -0.847500     l k   c\n",
       "0 -1.269977 -1.177370  small  1.158399 -0.016085  0.203176     f d   a"
      ]
     },
     "execution_count": 178,
     "metadata": {},
     "output_type": "execute_result"
    }
   ],
   "source": [
    "test"
   ]
  },
  {
   "cell_type": "markdown",
   "metadata": {},
   "source": [
    "Pivot Table Challenge"
   ]
  },
  {
   "cell_type": "code",
   "execution_count": 180,
   "metadata": {},
   "outputs": [
    {
     "data": {
      "text/html": [
       "<div>\n",
       "<style scoped>\n",
       "    .dataframe tbody tr th:only-of-type {\n",
       "        vertical-align: middle;\n",
       "    }\n",
       "\n",
       "    .dataframe tbody tr th {\n",
       "        vertical-align: top;\n",
       "    }\n",
       "\n",
       "    .dataframe thead th {\n",
       "        text-align: right;\n",
       "    }\n",
       "</style>\n",
       "<table border=\"1\" class=\"dataframe\">\n",
       "  <thead>\n",
       "    <tr style=\"text-align: right;\">\n",
       "      <th></th>\n",
       "      <th>Col X</th>\n",
       "      <th>Col Y</th>\n",
       "    </tr>\n",
       "  </thead>\n",
       "  <tbody>\n",
       "    <tr>\n",
       "      <th>0</th>\n",
       "      <td>class 1</td>\n",
       "      <td>cat 1</td>\n",
       "    </tr>\n",
       "    <tr>\n",
       "      <th>1</th>\n",
       "      <td>class 2</td>\n",
       "      <td>cat 1</td>\n",
       "    </tr>\n",
       "    <tr>\n",
       "      <th>2</th>\n",
       "      <td>class 3</td>\n",
       "      <td>cat 2</td>\n",
       "    </tr>\n",
       "    <tr>\n",
       "      <th>3</th>\n",
       "      <td>class 2</td>\n",
       "      <td>cat 3</td>\n",
       "    </tr>\n",
       "  </tbody>\n",
       "</table>\n",
       "</div>"
      ],
      "text/plain": [
       "     Col X  Col Y\n",
       "0  class 1  cat 1\n",
       "1  class 2  cat 1\n",
       "2  class 3  cat 2\n",
       "3  class 2  cat 3"
      ]
     },
     "execution_count": 180,
     "metadata": {},
     "output_type": "execute_result"
    }
   ],
   "source": [
    "df = pd.DataFrame({\"Col X\": ['class 1', 'class 2', 'class 3', 'class 2'],\n",
    "                   \"Col Y\": ['cat 1', 'cat 1', 'cat 2', 'cat 3']})\n",
    "df"
   ]
  },
  {
   "cell_type": "code",
   "execution_count": 182,
   "metadata": {},
   "outputs": [
    {
     "data": {
      "text/html": [
       "<div>\n",
       "<style scoped>\n",
       "    .dataframe tbody tr th:only-of-type {\n",
       "        vertical-align: middle;\n",
       "    }\n",
       "\n",
       "    .dataframe tbody tr th {\n",
       "        vertical-align: top;\n",
       "    }\n",
       "\n",
       "    .dataframe thead th {\n",
       "        text-align: right;\n",
       "    }\n",
       "</style>\n",
       "<table border=\"1\" class=\"dataframe\">\n",
       "  <thead>\n",
       "    <tr style=\"text-align: right;\">\n",
       "      <th>Col Y</th>\n",
       "      <th>cat 1</th>\n",
       "      <th>cat 2</th>\n",
       "      <th>cat 3</th>\n",
       "    </tr>\n",
       "    <tr>\n",
       "      <th>Col X</th>\n",
       "      <th></th>\n",
       "      <th></th>\n",
       "      <th></th>\n",
       "    </tr>\n",
       "  </thead>\n",
       "  <tbody>\n",
       "    <tr>\n",
       "      <th>class 1</th>\n",
       "      <td>1</td>\n",
       "      <td>0</td>\n",
       "      <td>0</td>\n",
       "    </tr>\n",
       "    <tr>\n",
       "      <th>class 2</th>\n",
       "      <td>1</td>\n",
       "      <td>0</td>\n",
       "      <td>1</td>\n",
       "    </tr>\n",
       "    <tr>\n",
       "      <th>class 3</th>\n",
       "      <td>0</td>\n",
       "      <td>1</td>\n",
       "      <td>0</td>\n",
       "    </tr>\n",
       "  </tbody>\n",
       "</table>\n",
       "</div>"
      ],
      "text/plain": [
       "Col Y    cat 1  cat 2  cat 3\n",
       "Col X                       \n",
       "class 1      1      0      0\n",
       "class 2      1      0      1\n",
       "class 3      0      1      0"
      ]
     },
     "execution_count": 182,
     "metadata": {},
     "output_type": "execute_result"
    }
   ],
   "source": [
    "df.pivot_table(index='Col X', columns='Col Y', aggfunc='size', fill_value=0)"
   ]
  },
  {
   "cell_type": "markdown",
   "metadata": {},
   "source": [
    "What's the difference between at and iat in Pandas?"
   ]
  },
  {
   "cell_type": "code",
   "execution_count": 189,
   "metadata": {},
   "outputs": [
    {
     "data": {
      "text/plain": [
       "-0.7766094574500988"
      ]
     },
     "execution_count": 189,
     "metadata": {},
     "output_type": "execute_result"
    }
   ],
   "source": [
    "# call single value by labels\n",
    "test_df.at[3,'b']"
   ]
  },
  {
   "cell_type": "code",
   "execution_count": 190,
   "metadata": {},
   "outputs": [
    {
     "data": {
      "text/plain": [
       "-0.08303863587609807"
      ]
     },
     "execution_count": 190,
     "metadata": {},
     "output_type": "execute_result"
    }
   ],
   "source": [
    "# call single value by indices\n",
    "test_df.iat[3,3]"
   ]
  },
  {
   "attachments": {},
   "cell_type": "markdown",
   "metadata": {},
   "source": [
    "Suppose df2 is a subset of df1. How can you get the rows of df1 which are not in df2?"
   ]
  },
  {
   "cell_type": "code",
   "execution_count": 195,
   "metadata": {},
   "outputs": [],
   "source": [
    "test_df_1 = test_df.copy()"
   ]
  },
  {
   "cell_type": "code",
   "execution_count": 197,
   "metadata": {},
   "outputs": [],
   "source": [
    "test_df_2 = test_df_1[:3]"
   ]
  },
  {
   "cell_type": "code",
   "execution_count": 210,
   "metadata": {},
   "outputs": [
    {
     "data": {
      "text/html": [
       "<div>\n",
       "<style scoped>\n",
       "    .dataframe tbody tr th:only-of-type {\n",
       "        vertical-align: middle;\n",
       "    }\n",
       "\n",
       "    .dataframe tbody tr th {\n",
       "        vertical-align: top;\n",
       "    }\n",
       "\n",
       "    .dataframe thead th {\n",
       "        text-align: right;\n",
       "    }\n",
       "</style>\n",
       "<table border=\"1\" class=\"dataframe\">\n",
       "  <thead>\n",
       "    <tr style=\"text-align: right;\">\n",
       "      <th></th>\n",
       "      <th>a</th>\n",
       "      <th>b</th>\n",
       "      <th>b_cat</th>\n",
       "      <th>c</th>\n",
       "      <th>d</th>\n",
       "      <th>e</th>\n",
       "      <th>str_col</th>\n",
       "      <th>cat</th>\n",
       "    </tr>\n",
       "  </thead>\n",
       "  <tbody>\n",
       "    <tr>\n",
       "      <th>3</th>\n",
       "      <td>-2.234911</td>\n",
       "      <td>-0.776609</td>\n",
       "      <td>small</td>\n",
       "      <td>-0.083039</td>\n",
       "      <td>0.412606</td>\n",
       "      <td>-0.8475</td>\n",
       "      <td>l k</td>\n",
       "      <td>c</td>\n",
       "    </tr>\n",
       "  </tbody>\n",
       "</table>\n",
       "</div>"
      ],
      "text/plain": [
       "          a         b  b_cat         c         d       e str_col cat\n",
       "3 -2.234911 -0.776609  small -0.083039  0.412606 -0.8475     l k   c"
      ]
     },
     "execution_count": 210,
     "metadata": {},
     "output_type": "execute_result"
    }
   ],
   "source": [
    "test_df_1[~test_df_1.index.isin(test_df_2.index)]"
   ]
  },
  {
   "cell_type": "code",
   "execution_count": 212,
   "metadata": {},
   "outputs": [
    {
     "data": {
      "text/html": [
       "<div>\n",
       "<style scoped>\n",
       "    .dataframe tbody tr th:only-of-type {\n",
       "        vertical-align: middle;\n",
       "    }\n",
       "\n",
       "    .dataframe tbody tr th {\n",
       "        vertical-align: top;\n",
       "    }\n",
       "\n",
       "    .dataframe thead th {\n",
       "        text-align: right;\n",
       "    }\n",
       "</style>\n",
       "<table border=\"1\" class=\"dataframe\">\n",
       "  <thead>\n",
       "    <tr style=\"text-align: right;\">\n",
       "      <th></th>\n",
       "      <th>a</th>\n",
       "      <th>b</th>\n",
       "      <th>b_cat</th>\n",
       "      <th>c</th>\n",
       "      <th>d</th>\n",
       "      <th>e</th>\n",
       "      <th>str_col</th>\n",
       "      <th>cat</th>\n",
       "    </tr>\n",
       "  </thead>\n",
       "  <tbody>\n",
       "    <tr>\n",
       "      <th>3</th>\n",
       "      <td>-2.234911</td>\n",
       "      <td>-0.776609</td>\n",
       "      <td>small</td>\n",
       "      <td>-0.083039</td>\n",
       "      <td>0.412606</td>\n",
       "      <td>-0.8475</td>\n",
       "      <td>l k</td>\n",
       "      <td>c</td>\n",
       "    </tr>\n",
       "  </tbody>\n",
       "</table>\n",
       "</div>"
      ],
      "text/plain": [
       "          a         b  b_cat         c         d       e str_col cat\n",
       "3 -2.234911 -0.776609  small -0.083039  0.412606 -0.8475     l k   c"
      ]
     },
     "execution_count": 212,
     "metadata": {},
     "output_type": "execute_result"
    }
   ],
   "source": [
    "test_df_1[~test_df_1.isin(test_df_2)].dropna()"
   ]
  },
  {
   "attachments": {},
   "cell_type": "markdown",
   "metadata": {},
   "source": [
    "How do you construct a MultiIndex for a DataFrame? Provide an example"
   ]
  },
  {
   "cell_type": "code",
   "execution_count": 214,
   "metadata": {},
   "outputs": [
    {
     "data": {
      "text/html": [
       "<div>\n",
       "<style scoped>\n",
       "    .dataframe tbody tr th:only-of-type {\n",
       "        vertical-align: middle;\n",
       "    }\n",
       "\n",
       "    .dataframe tbody tr th {\n",
       "        vertical-align: top;\n",
       "    }\n",
       "\n",
       "    .dataframe thead th {\n",
       "        text-align: right;\n",
       "    }\n",
       "</style>\n",
       "<table border=\"1\" class=\"dataframe\">\n",
       "  <thead>\n",
       "    <tr style=\"text-align: right;\">\n",
       "      <th></th>\n",
       "      <th></th>\n",
       "      <th>a</th>\n",
       "      <th>b</th>\n",
       "      <th>c</th>\n",
       "      <th>d</th>\n",
       "      <th>e</th>\n",
       "      <th>str_col</th>\n",
       "    </tr>\n",
       "    <tr>\n",
       "      <th>b_cat</th>\n",
       "      <th>cat</th>\n",
       "      <th></th>\n",
       "      <th></th>\n",
       "      <th></th>\n",
       "      <th></th>\n",
       "      <th></th>\n",
       "      <th></th>\n",
       "    </tr>\n",
       "  </thead>\n",
       "  <tbody>\n",
       "    <tr>\n",
       "      <th>small</th>\n",
       "      <th>a</th>\n",
       "      <td>-1.269977</td>\n",
       "      <td>-1.177370</td>\n",
       "      <td>1.158399</td>\n",
       "      <td>-0.016085</td>\n",
       "      <td>0.203176</td>\n",
       "      <td>f d</td>\n",
       "    </tr>\n",
       "    <tr>\n",
       "      <th>mid</th>\n",
       "      <th>b</th>\n",
       "      <td>-0.519371</td>\n",
       "      <td>-0.260523</td>\n",
       "      <td>-0.215049</td>\n",
       "      <td>-0.487501</td>\n",
       "      <td>1.459452</td>\n",
       "      <td>s d</td>\n",
       "    </tr>\n",
       "    <tr>\n",
       "      <th>large</th>\n",
       "      <th>a</th>\n",
       "      <td>0.428743</td>\n",
       "      <td>0.699861</td>\n",
       "      <td>-0.112447</td>\n",
       "      <td>0.096921</td>\n",
       "      <td>-0.798860</td>\n",
       "      <td>w e</td>\n",
       "    </tr>\n",
       "    <tr>\n",
       "      <th>small</th>\n",
       "      <th>c</th>\n",
       "      <td>-2.234911</td>\n",
       "      <td>-0.776609</td>\n",
       "      <td>-0.083039</td>\n",
       "      <td>0.412606</td>\n",
       "      <td>-0.847500</td>\n",
       "      <td>l k</td>\n",
       "    </tr>\n",
       "  </tbody>\n",
       "</table>\n",
       "</div>"
      ],
      "text/plain": [
       "                  a         b         c         d         e str_col\n",
       "b_cat cat                                                          \n",
       "small a   -1.269977 -1.177370  1.158399 -0.016085  0.203176     f d\n",
       "mid   b   -0.519371 -0.260523 -0.215049 -0.487501  1.459452     s d\n",
       "large a    0.428743  0.699861 -0.112447  0.096921 -0.798860     w e\n",
       "small c   -2.234911 -0.776609 -0.083039  0.412606 -0.847500     l k"
      ]
     },
     "execution_count": 214,
     "metadata": {},
     "output_type": "execute_result"
    }
   ],
   "source": [
    "test_df.set_index(['b_cat', 'cat'])"
   ]
  },
  {
   "cell_type": "code",
   "execution_count": null,
   "metadata": {},
   "outputs": [],
   "source": []
  }
 ],
 "metadata": {
  "kernelspec": {
   "display_name": "rl_in_ksp_new",
   "language": "python",
   "name": "rl_in_ksp_new"
  },
  "language_info": {
   "codemirror_mode": {
    "name": "ipython",
    "version": 3
   },
   "file_extension": ".py",
   "mimetype": "text/x-python",
   "name": "python",
   "nbconvert_exporter": "python",
   "pygments_lexer": "ipython3",
   "version": "3.9.6"
  },
  "orig_nbformat": 4
 },
 "nbformat": 4,
 "nbformat_minor": 2
}
