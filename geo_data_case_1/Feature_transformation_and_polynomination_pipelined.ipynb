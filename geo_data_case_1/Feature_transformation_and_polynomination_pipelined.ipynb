{
 "cells": [
  {
   "attachments": {},
   "cell_type": "markdown",
   "metadata": {},
   "source": [
    "This is a pathfinder notebook, where we will search for a better class structure to implement 4 things:\n",
    "- continuous features binarisation\n",
    "- categorical features LeaveOneOut encoding\n",
    "- feature standartisation\n",
    "- polynomial features transformation\n",
    "\n",
    "They need to be implemented in the same order as listed."
   ]
  },
  {
   "cell_type": "code",
   "execution_count": 14,
   "metadata": {},
   "outputs": [],
   "source": [
    "import pandas as pd\n",
    "from category_encoders import LeaveOneOutEncoder\n",
    "\n",
    "from sklearn.compose import ColumnTransformer\n",
    "from sklearn.compose import TransformedTargetRegressor\n",
    "from sklearn.model_selection import cross_validate\n",
    "from sklearn.model_selection import RepeatedKFold\n",
    "from sklearn.model_selection import train_test_split\n",
    "from sklearn.preprocessing import PolynomialFeatures\n",
    "from sklearn.preprocessing import RobustScaler\n",
    "from sklearn.preprocessing import QuantileTransformer\n",
    "from sklearn.pipeline import Pipeline\n",
    "from sklearn.linear_model import Ridge\n"
   ]
  },
  {
   "cell_type": "code",
   "execution_count": 4,
   "metadata": {},
   "outputs": [],
   "source": [
    "raw_df =  pd.read_csv('datasets/geo_solar_panels.csv').dropna().reset_index(drop=True)\n",
    "raw_label = 'potential_kwh_total'"
   ]
  },
  {
   "cell_type": "code",
   "execution_count": 29,
   "metadata": {},
   "outputs": [],
   "source": [
    "numeric_features = [ \n",
    "    'lat_max',\n",
    "    'lat_min',\n",
    "    'long_max',\n",
    "    'long_min',\n",
    "    'number_of_panels_north',\n",
    "    'number_of_panels_south',\n",
    "    'number_of_panels_east',\n",
    "    'number_of_panels_west',\n",
    "    'number_of_panels_flat',\n",
    "    'number_of_panels_total'\n",
    "]\n",
    "\n",
    "numeric_transformer = Pipeline(\n",
    "    steps=[(\"binariser\", QuantileTransformer()), \n",
    "           (\"scaler\", RobustScaler(unit_variance=True))]\n",
    ")\n",
    "\n",
    "categorical_features = ['state']\n",
    "categorical_transformer = Pipeline(\n",
    "    steps=[(\"encoder\", LeaveOneOutEncoder())]\n",
    ")\n",
    "\n",
    "preprocessor = ColumnTransformer(\n",
    "    transformers=[\n",
    "        (\"num\", numeric_transformer, numeric_features),\n",
    "        (\"cat\", categorical_transformer, categorical_features),\n",
    "    ]\n",
    ")\n",
    "\n",
    "\n",
    "pipeline = Pipeline(steps=[(\"preprocessor\", preprocessor), (\"regressor\", Ridge())])\n",
    "regr = TransformedTargetRegressor(regressor=pipeline, transformer=RobustScaler(unit_variance=True))"
   ]
  },
  {
   "cell_type": "code",
   "execution_count": 30,
   "metadata": {},
   "outputs": [
    {
     "name": "stdout",
     "output_type": "stream",
     "text": [
      "model score: 0.865\n"
     ]
    }
   ],
   "source": [
    "X = raw_df[numeric_features + categorical_features]\n",
    "y = raw_df[raw_label]\n",
    "\n",
    "X_train, X_test, y_train, y_test = train_test_split(X, y, test_size=0.2)\n",
    "\n",
    "regr.fit(X_train, y_train)\n",
    "print(\"model score: %.3f\" % regr.score(X_test, y_test))"
   ]
  },
  {
   "cell_type": "code",
   "execution_count": null,
   "metadata": {},
   "outputs": [],
   "source": []
  }
 ],
 "metadata": {
  "kernelspec": {
   "display_name": "rl_in_ksp_new",
   "language": "python",
   "name": "rl_in_ksp_new"
  },
  "language_info": {
   "codemirror_mode": {
    "name": "ipython",
    "version": 3
   },
   "file_extension": ".py",
   "mimetype": "text/x-python",
   "name": "python",
   "nbconvert_exporter": "python",
   "pygments_lexer": "ipython3",
   "version": "3.9.6"
  },
  "orig_nbformat": 4
 },
 "nbformat": 4,
 "nbformat_minor": 2
}
