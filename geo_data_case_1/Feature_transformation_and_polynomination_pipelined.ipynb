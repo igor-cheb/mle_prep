{
 "cells": [
  {
   "attachments": {},
   "cell_type": "markdown",
   "metadata": {},
   "source": [
    "This is a pathfinder notebook, where we will search for a better class structure to implement 4 things:\n",
    "- continuous features binarisation\n",
    "- categorical features LeaveOneOut encoding\n",
    "- feature standartisation\n",
    "- polynomial features transformation\n",
    "\n",
    "They need to be implemented in the same order as listed."
   ]
  },
  {
   "cell_type": "code",
   "execution_count": 157,
   "metadata": {},
   "outputs": [],
   "source": [
    "import pandas as pd\n",
    "import numpy as np\n",
    "from category_encoders import LeaveOneOutEncoder\n",
    "\n",
    "from sklearn.compose import ColumnTransformer\n",
    "from sklearn.compose import TransformedTargetRegressor\n",
    "from sklearn.model_selection import cross_validate\n",
    "from sklearn.model_selection import RepeatedKFold\n",
    "from sklearn.model_selection import train_test_split\n",
    "from sklearn.preprocessing import PolynomialFeatures\n",
    "from sklearn.preprocessing import RobustScaler\n",
    "from sklearn.preprocessing import QuantileTransformer\n",
    "from sklearn.pipeline import Pipeline\n",
    "from sklearn.linear_model import Ridge, Lasso\n",
    "from sklearn.pipeline import FeatureUnion\n",
    "from sklearn.decomposition import PCA\n",
    "from sklearn.preprocessing import PolynomialFeatures\n",
    "from sklearn.metrics import r2_score\n",
    "from sklearn.metrics import mean_squared_error\n",
    "\n",
    "import seaborn as sns\n"
   ]
  },
  {
   "cell_type": "code",
   "execution_count": 161,
   "metadata": {},
   "outputs": [],
   "source": [
    "raw_df =  pd.read_csv('datasets/geo_solar_panels.csv').dropna().reset_index(drop=True)\n",
    "raw_label = 'potential_kwh_total'"
   ]
  },
  {
   "cell_type": "code",
   "execution_count": 145,
   "metadata": {},
   "outputs": [],
   "source": [
    "# pca_pipe = Pipeline(\n",
    "#     steps=[\n",
    "#     (\"scaler\", RobustScaler(unit_variance=True)), \n",
    "#     ('pca', PCA())\n",
    "#     ]\n",
    "# )\n",
    "\n",
    "# numeric_union = FeatureUnion([\n",
    "#     (\"scaler\", RobustScaler(unit_variance=True)),\n",
    "#     (\"binariser\", QuantileTransformer()),\n",
    "#     ('pca', pca_pipe)\n",
    "# ])\n",
    "\n",
    "# numeric_polinomisation = Pipeline(\n",
    "#     steps=[\n",
    "#     ('numeric_union', numeric_union), \n",
    "#     ('poly', PolynomialFeatures(degree=2))\n",
    "#     ]\n",
    "# )\n",
    "\n",
    "# categorical_transformer = Pipeline(\n",
    "#     steps=[(\"encoder\", LeaveOneOutEncoder())]\n",
    "# )\n",
    "\n",
    "# preprocessor = ColumnTransformer(\n",
    "#     transformers=[\n",
    "#         ('numeric_polinomisation', numeric_polinomisation, numeric_features),\n",
    "#         ('cat', categorical_transformer, categorical_features),\n",
    "#     ]\n",
    "# )\n",
    "\n"
   ]
  },
  {
   "cell_type": "code",
   "execution_count": 168,
   "metadata": {},
   "outputs": [],
   "source": [
    "class Experiment:\n",
    "    \"\"\"Class to conduct and score an experiment using passed model, and data\"\"\"\n",
    "    def __init__(self, X: np.ndarray, label: np.ndarray,  pipe):\n",
    "        self.label = label\n",
    "        self.pipe = pipe\n",
    "        self.X = X\n",
    "\n",
    "    def _score(self, estimator, X_test, y_test):\n",
    "        \"\"\"Method to score the passed model on passed data. Only tb used as input to self.run_exp\"\"\"\n",
    "        y_pred = estimator.predict(X_test)\n",
    "        naive_baseline_rmse = np.sqrt(mean_squared_error(y_pred=y_pred, y_true=y_test))\n",
    "        return {'nrmse': naive_baseline_rmse / np.std(y_test),\n",
    "                'r2': r2_score(y_pred=y_pred, y_true=y_test)}\n",
    "\n",
    "    def run_exp(self):\n",
    "        \"\"\"Method to run cross validation \"\"\"\n",
    "        kfold = RepeatedKFold(n_splits=5, n_repeats=1)\n",
    "        test_res = cross_validate(self.pipe, \n",
    "                                X=self.X, \n",
    "                                y=self.label, \n",
    "                                scoring = self._score,\n",
    "                                cv=kfold,\n",
    "                                error_score='raise')\n",
    "        return {'NRMSE': test_res['test_nrmse'].mean(), 'R2': test_res['test_r2'].mean()}"
   ]
  },
  {
   "cell_type": "code",
   "execution_count": 169,
   "metadata": {},
   "outputs": [],
   "source": [
    "numeric_features = [ \n",
    "    'lat_max',\n",
    "    'lat_min',\n",
    "    'long_max',\n",
    "    'long_min',\n",
    "    'number_of_panels_north',\n",
    "    'number_of_panels_south',\n",
    "    'number_of_panels_east',\n",
    "    'number_of_panels_west',\n",
    "    'number_of_panels_flat',\n",
    "    'number_of_panels_total'\n",
    "]\n",
    "\n",
    "categorical_features = [\n",
    "    'state'\n",
    "]\n",
    "\n",
    "numeric_transformer = Pipeline(\n",
    "    steps=[\n",
    "    ('numeric_union', FeatureUnion([\n",
    "                            (\"scaler\", RobustScaler(unit_variance=True)),\n",
    "                            (\"binariser\", QuantileTransformer()),\n",
    "                            ('pca', Pipeline(\n",
    "                                        steps=[\n",
    "                                        (\"scaler\", RobustScaler(unit_variance=True)), \n",
    "                                        ('pca', PCA())\n",
    "                                        ]\n",
    "                                    ))\n",
    "                        ])), \n",
    "    ('poly', PolynomialFeatures(degree=2))\n",
    "    ]\n",
    ")\n",
    "\n",
    "categorical_transformer = Pipeline(\n",
    "    steps=[(\"encoder\", LeaveOneOutEncoder())]\n",
    ")\n",
    "\n",
    "preprocessor = ColumnTransformer(\n",
    "    transformers=[\n",
    "        ('numeric_polinomisation', numeric_transformer, numeric_features),\n",
    "        ('cat', categorical_transformer, categorical_features),\n",
    "    ]\n",
    ")"
   ]
  },
  {
   "cell_type": "code",
   "execution_count": 170,
   "metadata": {},
   "outputs": [
    {
     "data": {
      "text/html": [
       "<style>#sk-container-id-32 {color: black;background-color: white;}#sk-container-id-32 pre{padding: 0;}#sk-container-id-32 div.sk-toggleable {background-color: white;}#sk-container-id-32 label.sk-toggleable__label {cursor: pointer;display: block;width: 100%;margin-bottom: 0;padding: 0.3em;box-sizing: border-box;text-align: center;}#sk-container-id-32 label.sk-toggleable__label-arrow:before {content: \"▸\";float: left;margin-right: 0.25em;color: #696969;}#sk-container-id-32 label.sk-toggleable__label-arrow:hover:before {color: black;}#sk-container-id-32 div.sk-estimator:hover label.sk-toggleable__label-arrow:before {color: black;}#sk-container-id-32 div.sk-toggleable__content {max-height: 0;max-width: 0;overflow: hidden;text-align: left;background-color: #f0f8ff;}#sk-container-id-32 div.sk-toggleable__content pre {margin: 0.2em;color: black;border-radius: 0.25em;background-color: #f0f8ff;}#sk-container-id-32 input.sk-toggleable__control:checked~div.sk-toggleable__content {max-height: 200px;max-width: 100%;overflow: auto;}#sk-container-id-32 input.sk-toggleable__control:checked~label.sk-toggleable__label-arrow:before {content: \"▾\";}#sk-container-id-32 div.sk-estimator input.sk-toggleable__control:checked~label.sk-toggleable__label {background-color: #d4ebff;}#sk-container-id-32 div.sk-label input.sk-toggleable__control:checked~label.sk-toggleable__label {background-color: #d4ebff;}#sk-container-id-32 input.sk-hidden--visually {border: 0;clip: rect(1px 1px 1px 1px);clip: rect(1px, 1px, 1px, 1px);height: 1px;margin: -1px;overflow: hidden;padding: 0;position: absolute;width: 1px;}#sk-container-id-32 div.sk-estimator {font-family: monospace;background-color: #f0f8ff;border: 1px dotted black;border-radius: 0.25em;box-sizing: border-box;margin-bottom: 0.5em;}#sk-container-id-32 div.sk-estimator:hover {background-color: #d4ebff;}#sk-container-id-32 div.sk-parallel-item::after {content: \"\";width: 100%;border-bottom: 1px solid gray;flex-grow: 1;}#sk-container-id-32 div.sk-label:hover label.sk-toggleable__label {background-color: #d4ebff;}#sk-container-id-32 div.sk-serial::before {content: \"\";position: absolute;border-left: 1px solid gray;box-sizing: border-box;top: 0;bottom: 0;left: 50%;z-index: 0;}#sk-container-id-32 div.sk-serial {display: flex;flex-direction: column;align-items: center;background-color: white;padding-right: 0.2em;padding-left: 0.2em;position: relative;}#sk-container-id-32 div.sk-item {position: relative;z-index: 1;}#sk-container-id-32 div.sk-parallel {display: flex;align-items: stretch;justify-content: center;background-color: white;position: relative;}#sk-container-id-32 div.sk-item::before, #sk-container-id-32 div.sk-parallel-item::before {content: \"\";position: absolute;border-left: 1px solid gray;box-sizing: border-box;top: 0;bottom: 0;left: 50%;z-index: -1;}#sk-container-id-32 div.sk-parallel-item {display: flex;flex-direction: column;z-index: 1;position: relative;background-color: white;}#sk-container-id-32 div.sk-parallel-item:first-child::after {align-self: flex-end;width: 50%;}#sk-container-id-32 div.sk-parallel-item:last-child::after {align-self: flex-start;width: 50%;}#sk-container-id-32 div.sk-parallel-item:only-child::after {width: 0;}#sk-container-id-32 div.sk-dashed-wrapped {border: 1px dashed gray;margin: 0 0.4em 0.5em 0.4em;box-sizing: border-box;padding-bottom: 0.4em;background-color: white;}#sk-container-id-32 div.sk-label label {font-family: monospace;font-weight: bold;display: inline-block;line-height: 1.2em;}#sk-container-id-32 div.sk-label-container {text-align: center;}#sk-container-id-32 div.sk-container {/* jupyter's `normalize.less` sets `[hidden] { display: none; }` but bootstrap.min.css set `[hidden] { display: none !important; }` so we also need the `!important` here to be able to override the default hidden behavior on the sphinx rendered scikit-learn.org. See: https://github.com/scikit-learn/scikit-learn/issues/21755 */display: inline-block !important;position: relative;}#sk-container-id-32 div.sk-text-repr-fallback {display: none;}</style><div id=\"sk-container-id-32\" class=\"sk-top-container\"><div class=\"sk-text-repr-fallback\"><pre>Pipeline(steps=[(&#x27;preprocessor&#x27;,\n",
       "                 ColumnTransformer(transformers=[(&#x27;numeric_polinomisation&#x27;,\n",
       "                                                  Pipeline(steps=[(&#x27;numeric_union&#x27;,\n",
       "                                                                   FeatureUnion(transformer_list=[(&#x27;scaler&#x27;,\n",
       "                                                                                                   RobustScaler(unit_variance=True)),\n",
       "                                                                                                  (&#x27;binariser&#x27;,\n",
       "                                                                                                   QuantileTransformer()),\n",
       "                                                                                                  (&#x27;pca&#x27;,\n",
       "                                                                                                   Pipeline(steps=[(&#x27;scaler&#x27;,\n",
       "                                                                                                                    RobustScaler(unit_variance=True)),\n",
       "                                                                                                                   (&#x27;pca&#x27;,\n",
       "                                                                                                                    PCA())]))])),\n",
       "                                                                  (&#x27;poly&#x27;,\n",
       "                                                                   PolynomialFeatures())]),\n",
       "                                                  [&#x27;lat_max&#x27;, &#x27;lat_min&#x27;,\n",
       "                                                   &#x27;long_max&#x27;, &#x27;long_min&#x27;,\n",
       "                                                   &#x27;number_of_panels_north&#x27;,\n",
       "                                                   &#x27;number_of_panels_south&#x27;,\n",
       "                                                   &#x27;number_of_panels_east&#x27;,\n",
       "                                                   &#x27;number_of_panels_west&#x27;,\n",
       "                                                   &#x27;number_of_panels_flat&#x27;,\n",
       "                                                   &#x27;number_of_panels_total&#x27;]),\n",
       "                                                 (&#x27;cat&#x27;,\n",
       "                                                  Pipeline(steps=[(&#x27;encoder&#x27;,\n",
       "                                                                   LeaveOneOutEncoder())]),\n",
       "                                                  [&#x27;state&#x27;])])),\n",
       "                (&#x27;regressor&#x27;, Ridge())])</pre><b>In a Jupyter environment, please rerun this cell to show the HTML representation or trust the notebook. <br />On GitHub, the HTML representation is unable to render, please try loading this page with nbviewer.org.</b></div><div class=\"sk-container\" hidden><div class=\"sk-item sk-dashed-wrapped\"><div class=\"sk-label-container\"><div class=\"sk-label sk-toggleable\"><input class=\"sk-toggleable__control sk-hidden--visually\" id=\"sk-estimator-id-291\" type=\"checkbox\" ><label for=\"sk-estimator-id-291\" class=\"sk-toggleable__label sk-toggleable__label-arrow\">Pipeline</label><div class=\"sk-toggleable__content\"><pre>Pipeline(steps=[(&#x27;preprocessor&#x27;,\n",
       "                 ColumnTransformer(transformers=[(&#x27;numeric_polinomisation&#x27;,\n",
       "                                                  Pipeline(steps=[(&#x27;numeric_union&#x27;,\n",
       "                                                                   FeatureUnion(transformer_list=[(&#x27;scaler&#x27;,\n",
       "                                                                                                   RobustScaler(unit_variance=True)),\n",
       "                                                                                                  (&#x27;binariser&#x27;,\n",
       "                                                                                                   QuantileTransformer()),\n",
       "                                                                                                  (&#x27;pca&#x27;,\n",
       "                                                                                                   Pipeline(steps=[(&#x27;scaler&#x27;,\n",
       "                                                                                                                    RobustScaler(unit_variance=True)),\n",
       "                                                                                                                   (&#x27;pca&#x27;,\n",
       "                                                                                                                    PCA())]))])),\n",
       "                                                                  (&#x27;poly&#x27;,\n",
       "                                                                   PolynomialFeatures())]),\n",
       "                                                  [&#x27;lat_max&#x27;, &#x27;lat_min&#x27;,\n",
       "                                                   &#x27;long_max&#x27;, &#x27;long_min&#x27;,\n",
       "                                                   &#x27;number_of_panels_north&#x27;,\n",
       "                                                   &#x27;number_of_panels_south&#x27;,\n",
       "                                                   &#x27;number_of_panels_east&#x27;,\n",
       "                                                   &#x27;number_of_panels_west&#x27;,\n",
       "                                                   &#x27;number_of_panels_flat&#x27;,\n",
       "                                                   &#x27;number_of_panels_total&#x27;]),\n",
       "                                                 (&#x27;cat&#x27;,\n",
       "                                                  Pipeline(steps=[(&#x27;encoder&#x27;,\n",
       "                                                                   LeaveOneOutEncoder())]),\n",
       "                                                  [&#x27;state&#x27;])])),\n",
       "                (&#x27;regressor&#x27;, Ridge())])</pre></div></div></div><div class=\"sk-serial\"><div class=\"sk-item sk-dashed-wrapped\"><div class=\"sk-label-container\"><div class=\"sk-label sk-toggleable\"><input class=\"sk-toggleable__control sk-hidden--visually\" id=\"sk-estimator-id-292\" type=\"checkbox\" ><label for=\"sk-estimator-id-292\" class=\"sk-toggleable__label sk-toggleable__label-arrow\">preprocessor: ColumnTransformer</label><div class=\"sk-toggleable__content\"><pre>ColumnTransformer(transformers=[(&#x27;numeric_polinomisation&#x27;,\n",
       "                                 Pipeline(steps=[(&#x27;numeric_union&#x27;,\n",
       "                                                  FeatureUnion(transformer_list=[(&#x27;scaler&#x27;,\n",
       "                                                                                  RobustScaler(unit_variance=True)),\n",
       "                                                                                 (&#x27;binariser&#x27;,\n",
       "                                                                                  QuantileTransformer()),\n",
       "                                                                                 (&#x27;pca&#x27;,\n",
       "                                                                                  Pipeline(steps=[(&#x27;scaler&#x27;,\n",
       "                                                                                                   RobustScaler(unit_variance=True)),\n",
       "                                                                                                  (&#x27;pca&#x27;,\n",
       "                                                                                                   PCA())]))])),\n",
       "                                                 (&#x27;poly&#x27;,\n",
       "                                                  PolynomialFeatures())]),\n",
       "                                 [&#x27;lat_max&#x27;, &#x27;lat_min&#x27;, &#x27;long_max&#x27;, &#x27;long_min&#x27;,\n",
       "                                  &#x27;number_of_panels_north&#x27;,\n",
       "                                  &#x27;number_of_panels_south&#x27;,\n",
       "                                  &#x27;number_of_panels_east&#x27;,\n",
       "                                  &#x27;number_of_panels_west&#x27;,\n",
       "                                  &#x27;number_of_panels_flat&#x27;,\n",
       "                                  &#x27;number_of_panels_total&#x27;]),\n",
       "                                (&#x27;cat&#x27;,\n",
       "                                 Pipeline(steps=[(&#x27;encoder&#x27;,\n",
       "                                                  LeaveOneOutEncoder())]),\n",
       "                                 [&#x27;state&#x27;])])</pre></div></div></div><div class=\"sk-parallel\"><div class=\"sk-parallel-item\"><div class=\"sk-item\"><div class=\"sk-label-container\"><div class=\"sk-label sk-toggleable\"><input class=\"sk-toggleable__control sk-hidden--visually\" id=\"sk-estimator-id-293\" type=\"checkbox\" ><label for=\"sk-estimator-id-293\" class=\"sk-toggleable__label sk-toggleable__label-arrow\">numeric_polinomisation</label><div class=\"sk-toggleable__content\"><pre>[&#x27;lat_max&#x27;, &#x27;lat_min&#x27;, &#x27;long_max&#x27;, &#x27;long_min&#x27;, &#x27;number_of_panels_north&#x27;, &#x27;number_of_panels_south&#x27;, &#x27;number_of_panels_east&#x27;, &#x27;number_of_panels_west&#x27;, &#x27;number_of_panels_flat&#x27;, &#x27;number_of_panels_total&#x27;]</pre></div></div></div><div class=\"sk-serial\"><div class=\"sk-item\"><div class=\"sk-serial\"><div class=\"sk-item sk-dashed-wrapped\"><div class=\"sk-label-container\"><div class=\"sk-label sk-toggleable\"><input class=\"sk-toggleable__control sk-hidden--visually\" id=\"sk-estimator-id-294\" type=\"checkbox\" ><label for=\"sk-estimator-id-294\" class=\"sk-toggleable__label sk-toggleable__label-arrow\">numeric_union: FeatureUnion</label><div class=\"sk-toggleable__content\"><pre>FeatureUnion(transformer_list=[(&#x27;scaler&#x27;, RobustScaler(unit_variance=True)),\n",
       "                               (&#x27;binariser&#x27;, QuantileTransformer()),\n",
       "                               (&#x27;pca&#x27;,\n",
       "                                Pipeline(steps=[(&#x27;scaler&#x27;,\n",
       "                                                 RobustScaler(unit_variance=True)),\n",
       "                                                (&#x27;pca&#x27;, PCA())]))])</pre></div></div></div><div class=\"sk-parallel\"><div class=\"sk-parallel-item\"><div class=\"sk-item\"><div class=\"sk-label-container\"><div class=\"sk-label sk-toggleable\"><label>scaler</label></div></div><div class=\"sk-serial\"><div class=\"sk-item\"><div class=\"sk-estimator sk-toggleable\"><input class=\"sk-toggleable__control sk-hidden--visually\" id=\"sk-estimator-id-295\" type=\"checkbox\" ><label for=\"sk-estimator-id-295\" class=\"sk-toggleable__label sk-toggleable__label-arrow\">RobustScaler</label><div class=\"sk-toggleable__content\"><pre>RobustScaler(unit_variance=True)</pre></div></div></div></div></div></div><div class=\"sk-parallel-item\"><div class=\"sk-item\"><div class=\"sk-label-container\"><div class=\"sk-label sk-toggleable\"><label>binariser</label></div></div><div class=\"sk-serial\"><div class=\"sk-item\"><div class=\"sk-estimator sk-toggleable\"><input class=\"sk-toggleable__control sk-hidden--visually\" id=\"sk-estimator-id-296\" type=\"checkbox\" ><label for=\"sk-estimator-id-296\" class=\"sk-toggleable__label sk-toggleable__label-arrow\">QuantileTransformer</label><div class=\"sk-toggleable__content\"><pre>QuantileTransformer()</pre></div></div></div></div></div></div><div class=\"sk-parallel-item\"><div class=\"sk-item\"><div class=\"sk-label-container\"><div class=\"sk-label sk-toggleable\"><label>pca</label></div></div><div class=\"sk-serial\"><div class=\"sk-item\"><div class=\"sk-serial\"><div class=\"sk-item\"><div class=\"sk-estimator sk-toggleable\"><input class=\"sk-toggleable__control sk-hidden--visually\" id=\"sk-estimator-id-297\" type=\"checkbox\" ><label for=\"sk-estimator-id-297\" class=\"sk-toggleable__label sk-toggleable__label-arrow\">RobustScaler</label><div class=\"sk-toggleable__content\"><pre>RobustScaler(unit_variance=True)</pre></div></div></div><div class=\"sk-item\"><div class=\"sk-estimator sk-toggleable\"><input class=\"sk-toggleable__control sk-hidden--visually\" id=\"sk-estimator-id-298\" type=\"checkbox\" ><label for=\"sk-estimator-id-298\" class=\"sk-toggleable__label sk-toggleable__label-arrow\">PCA</label><div class=\"sk-toggleable__content\"><pre>PCA()</pre></div></div></div></div></div></div></div></div></div></div><div class=\"sk-item\"><div class=\"sk-estimator sk-toggleable\"><input class=\"sk-toggleable__control sk-hidden--visually\" id=\"sk-estimator-id-299\" type=\"checkbox\" ><label for=\"sk-estimator-id-299\" class=\"sk-toggleable__label sk-toggleable__label-arrow\">PolynomialFeatures</label><div class=\"sk-toggleable__content\"><pre>PolynomialFeatures()</pre></div></div></div></div></div></div></div></div><div class=\"sk-parallel-item\"><div class=\"sk-item\"><div class=\"sk-label-container\"><div class=\"sk-label sk-toggleable\"><input class=\"sk-toggleable__control sk-hidden--visually\" id=\"sk-estimator-id-300\" type=\"checkbox\" ><label for=\"sk-estimator-id-300\" class=\"sk-toggleable__label sk-toggleable__label-arrow\">cat</label><div class=\"sk-toggleable__content\"><pre>[&#x27;state&#x27;]</pre></div></div></div><div class=\"sk-serial\"><div class=\"sk-item\"><div class=\"sk-serial\"><div class=\"sk-item\"><div class=\"sk-estimator sk-toggleable\"><input class=\"sk-toggleable__control sk-hidden--visually\" id=\"sk-estimator-id-301\" type=\"checkbox\" ><label for=\"sk-estimator-id-301\" class=\"sk-toggleable__label sk-toggleable__label-arrow\">LeaveOneOutEncoder</label><div class=\"sk-toggleable__content\"><pre>LeaveOneOutEncoder()</pre></div></div></div></div></div></div></div></div></div></div><div class=\"sk-item\"><div class=\"sk-estimator sk-toggleable\"><input class=\"sk-toggleable__control sk-hidden--visually\" id=\"sk-estimator-id-302\" type=\"checkbox\" ><label for=\"sk-estimator-id-302\" class=\"sk-toggleable__label sk-toggleable__label-arrow\">Ridge</label><div class=\"sk-toggleable__content\"><pre>Ridge()</pre></div></div></div></div></div></div></div>"
      ],
      "text/plain": [
       "Pipeline(steps=[('preprocessor',\n",
       "                 ColumnTransformer(transformers=[('numeric_polinomisation',\n",
       "                                                  Pipeline(steps=[('numeric_union',\n",
       "                                                                   FeatureUnion(transformer_list=[('scaler',\n",
       "                                                                                                   RobustScaler(unit_variance=True)),\n",
       "                                                                                                  ('binariser',\n",
       "                                                                                                   QuantileTransformer()),\n",
       "                                                                                                  ('pca',\n",
       "                                                                                                   Pipeline(steps=[('scaler',\n",
       "                                                                                                                    RobustScaler(unit_variance=True)),\n",
       "                                                                                                                   ('pca',\n",
       "                                                                                                                    PCA())]))])),\n",
       "                                                                  ('poly',\n",
       "                                                                   PolynomialFeatures())]),\n",
       "                                                  ['lat_max', 'lat_min',\n",
       "                                                   'long_max', 'long_min',\n",
       "                                                   'number_of_panels_north',\n",
       "                                                   'number_of_panels_south',\n",
       "                                                   'number_of_panels_east',\n",
       "                                                   'number_of_panels_west',\n",
       "                                                   'number_of_panels_flat',\n",
       "                                                   'number_of_panels_total']),\n",
       "                                                 ('cat',\n",
       "                                                  Pipeline(steps=[('encoder',\n",
       "                                                                   LeaveOneOutEncoder())]),\n",
       "                                                  ['state'])])),\n",
       "                ('regressor', Ridge())])"
      ]
     },
     "execution_count": 170,
     "metadata": {},
     "output_type": "execute_result"
    }
   ],
   "source": [
    "X = raw_df[numeric_features + categorical_features]\n",
    "y = raw_df[raw_label]\n",
    "\n",
    "X_train, X_test, y_train, y_test = train_test_split(X, y, test_size=0.2)\n",
    "\n",
    "pipeline = Pipeline(steps=[(\"preprocessor\", preprocessor),\n",
    "                           (\"regressor\", Ridge())]) #Lasso(alpha=.005)\n",
    "\n",
    "pipeline"
   ]
  },
  {
   "cell_type": "code",
   "execution_count": 171,
   "metadata": {},
   "outputs": [
    {
     "name": "stdout",
     "output_type": "stream",
     "text": [
      "model score: 0.997\n"
     ]
    }
   ],
   "source": [
    "regr = TransformedTargetRegressor(regressor=pipeline, transformer=RobustScaler(unit_variance=True))\n",
    "\n",
    "regr.fit(X_train, y_train)\n",
    "print(\"model score: %.3f\" % regr.score(X_test, y_test))"
   ]
  },
  {
   "cell_type": "code",
   "execution_count": 172,
   "metadata": {},
   "outputs": [
    {
     "data": {
      "text/plain": [
       "(11490, 497)"
      ]
     },
     "execution_count": 172,
     "metadata": {},
     "output_type": "execute_result"
    }
   ],
   "source": [
    "regr.regressor_.named_steps['preprocessor'].transform(X).shape"
   ]
  },
  {
   "cell_type": "code",
   "execution_count": 173,
   "metadata": {},
   "outputs": [
    {
     "data": {
      "text/plain": [
       "{'NRMSE': 0.05988006962703679, 'R2': 0.9964092896369966}"
      ]
     },
     "execution_count": 173,
     "metadata": {},
     "output_type": "execute_result"
    }
   ],
   "source": [
    "naive_exp = Experiment(\n",
    "    X=raw_df[[col for col in list(raw_df) if col!=raw_label]],\n",
    "    label=raw_df[[raw_label]],\n",
    "    pipe=regr\n",
    ")\n",
    "\n",
    "naive_exp.run_exp()"
   ]
  },
  {
   "cell_type": "code",
   "execution_count": null,
   "metadata": {},
   "outputs": [],
   "source": []
  }
 ],
 "metadata": {
  "kernelspec": {
   "display_name": "rl_in_ksp_new",
   "language": "python",
   "name": "rl_in_ksp_new"
  },
  "language_info": {
   "codemirror_mode": {
    "name": "ipython",
    "version": 3
   },
   "file_extension": ".py",
   "mimetype": "text/x-python",
   "name": "python",
   "nbconvert_exporter": "python",
   "pygments_lexer": "ipython3",
   "version": "3.9.6"
  },
  "orig_nbformat": 4
 },
 "nbformat": 4,
 "nbformat_minor": 2
}
