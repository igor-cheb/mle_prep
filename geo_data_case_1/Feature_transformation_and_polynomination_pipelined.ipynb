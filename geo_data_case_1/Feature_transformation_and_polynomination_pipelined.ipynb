{
 "cells": [
  {
   "attachments": {},
   "cell_type": "markdown",
   "metadata": {},
   "source": [
    "This is a pathfinder notebook, where we will search for a better class structure to implement 4 things:\n",
    "- continuous features binarisation\n",
    "- categorical features LeaveOneOut encoding\n",
    "- feature standartisation\n",
    "- polynomial features transoformation\n",
    "\n",
    "They need to be implemented in the same order as listed."
   ]
  },
  {
   "cell_type": "markdown",
   "metadata": {},
   "source": []
  }
 ],
 "metadata": {
  "language_info": {
   "name": "python"
  },
  "orig_nbformat": 4
 },
 "nbformat": 4,
 "nbformat_minor": 2
}
