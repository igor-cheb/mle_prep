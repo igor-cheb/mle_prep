{
 "cells": [
  {
   "attachments": {},
   "cell_type": "markdown",
   "metadata": {},
   "source": [
    "These are TODO's from the EDA section to be implemented in the present notebook.\n",
    "- FEATURE: replace zipcodes with respective mean longitude and latitude\n",
    "- FEATURE: area of each area could be added, along with density of panels for the given zip code \n",
    "- FEATURE: approximation of zipcode by first 2 digits \n",
    "- FEATURE: add aditional feature to mark US and non-US states\n",
    "\n",
    "- NULLS: drop nulls \n",
    "\n",
    "- NORMALISATION: scaling num of panels group of features is required. Simply dividing by a constant to bring the mean of distribution closer to other features or normalising by mean could be attempted"
   ]
  },
  {
   "attachments": {},
   "cell_type": "markdown",
   "metadata": {},
   "source": [
    "# Table of Contents\n",
    "- **[Feature extraction](#1)** \n",
    "- **[Nulls](#2)** \n",
    "- **[Normalisation](#3)** "
   ]
  },
  {
   "cell_type": "code",
   "execution_count": 1,
   "metadata": {},
   "outputs": [],
   "source": [
    "import numpy as np\n",
    "import pandas as pd"
   ]
  },
  {
   "cell_type": "code",
   "execution_count": 2,
   "metadata": {},
   "outputs": [],
   "source": [
    "init_df = pd.read_csv('datasets/geo_solar_panels.csv')\n",
    "state_accronyms = pd.read_csv('datasets/states_accro_mapping.csv', sep=';')\n",
    "ref_df =  pd.read_csv('datasets/zip_code_database.csv')[['zip', 'state', 'latitude', 'longitude']]\n",
    "ref_df = ref_df.merge(state_accronyms, how='left', left_on='state', right_on='Accro')  \\\n",
    "    [['zip', 'latitude', 'longitude', 'State']].rename(columns={'State': 'state'})\n",
    "\n",
    "US_STATES = list(state_accronyms['State'].unique())"
   ]
  },
  {
   "cell_type": "markdown",
   "metadata": {},
   "source": [
    "# Feature extraction"
   ]
  },
  {
   "cell_type": "code",
   "execution_count": 3,
   "metadata": {},
   "outputs": [],
   "source": [
    "class FeatureExtractor:\n",
    "    def __init__(self, long_min: pd.Series, long_max: pd.Series, lat_min: pd.Series, lat_max: pd.Series,\n",
    "                 num_of_panels: pd.Series, usa_states: list[str], states_to_check: pd.Series, init_zips: pd.Series,\n",
    "                 ref_df: pd.DataFrame, init_df_zip_col: str, ref_df_zip_col: str, \n",
    "                 ref_df_lat_col: str, ref_df_long_col: str\n",
    "                 ):\n",
    "        \n",
    "        self.long_min = long_min\n",
    "        self.long_max = long_max\n",
    "        self.lat_min = lat_min\n",
    "        self.lat_max = lat_max\n",
    "\n",
    "        self.num_of_panels = num_of_panels\n",
    "        self.usa_states = usa_states\n",
    "        self.states_to_check = states_to_check\n",
    "        self.init_zips = init_zips\n",
    "        \n",
    "        self.ref_df = ref_df\n",
    "        self.init_df_zip_col = init_df_zip_col\n",
    "        self.ref_df_zip_col = ref_df_zip_col\n",
    "        self.ref_df_lat_col = ref_df_lat_col\n",
    "        self.ref_df_long_col = ref_df_long_col\n",
    "\n",
    "    def calc_mean_coords(self) -> tuple[pd.Series, pd.Series]:\n",
    "        \"\"\"Function calculates mean coordinates for a zip code\"\"\"\n",
    "        lat_mean = (self.lat_max + self.lat_min) / 2\n",
    "        long_mean = (self.long_max + self.long_min) / 2\n",
    "        return lat_mean, long_mean\n",
    "\n",
    "    def calc_zip_area(self) -> pd.Series:\n",
    "        \"\"\"The function calculates approx. area of zip code using min/max longitude and lattitude\"\"\"\n",
    "        # adding small number to avoid zero area\n",
    "        return abs(self.long_max - self.long_min) * abs(self.lat_max - self.lat_min) + .1\n",
    "    \n",
    "    def panels_density(self, zip_area: pd.Series) -> pd.Series:\n",
    "        \"\"\"Function calculates panels density in a zip_code based on zip_code area and number of panels for the zip_code\"\"\"\n",
    "        return self.num_of_panels / zip_area\n",
    "    \n",
    "    def approx_zips(self) -> pd.Series:\n",
    "        \"\"\"Function returns a column with first 2 digits of zipcode given a columns of zipcodes\"\"\"\n",
    "        return self.init_zips.astype('str').apply(lambda x: int(x[:2]))\n",
    "    \n",
    "    def mask_usa_states(self) -> pd.Series:\n",
    "        \"\"\"Function checks if states in the passed column are USA states\"\"\"\n",
    "        return self.states_to_check.isin(self.usa_states)\n",
    "    \n",
    "    def zips_replacement(self, lat_long_zip_df: pd.DataFrame, init_df_mean_lat_col: str, init_df_mean_long_col: str) -> tuple[pd.Series, pd.Series]:\n",
    "        \"\"\"\n",
    "        Function merged reference df to the provided df with lat and long and returns mean lat and long with the same index. \n",
    "        For zips with no records in the reference df, values are filled with mean coordinates from the original df.\n",
    "        \"\"\"\n",
    "        local_df = lat_long_zip_df.merge(ref_df, how='left', left_on=self.init_df_zip_col, right_on=self.ref_df_zip_col)\n",
    "        zip_lat = local_df[self.ref_df_lat_col].fillna(value=local_df[init_df_mean_lat_col])\n",
    "        zip_long = local_df[self.ref_df_long_col].fillna(value=local_df[init_df_mean_long_col])\n",
    "        return zip_lat, zip_long\n",
    "    "
   ]
  },
  {
   "cell_type": "code",
   "execution_count": 4,
   "metadata": {},
   "outputs": [],
   "source": [
    "extr = FeatureExtractor(\n",
    "    long_min=init_df['long_min'],\n",
    "    long_max=init_df['long_max'],\n",
    "    lat_min=init_df['lat_min'],\n",
    "    lat_max=init_df['lat_max'],\n",
    "    init_zips=init_df['zip_code'],\n",
    "    num_of_panels=init_df['number_of_panels_total'],\n",
    "    usa_states=US_STATES,\n",
    "    states_to_check=init_df['state'],\n",
    "    ref_df=ref_df,\n",
    "    init_df_zip_col='zip_code',\n",
    "    ref_df_zip_col='zip',\n",
    "    ref_df_lat_col='latitude',\n",
    "    ref_df_long_col='longitude'\n",
    ")"
   ]
  },
  {
   "cell_type": "code",
   "execution_count": 5,
   "metadata": {},
   "outputs": [],
   "source": [
    "init_df.loc[:, 'lat_mean'], init_df.loc[:, 'long_mean'] = extr.calc_mean_coords()\n",
    "init_df['zip_area'] = extr.calc_zip_area()\n",
    "init_df['dens'] = extr.panels_density(zip_area=init_df['zip_area']) \n",
    "init_df['approx_zips'] = extr.approx_zips()\n",
    "init_df['is_usa'] = extr.mask_usa_states()\n",
    "init_df.loc[:, 'zip_lat'], init_df.loc[:, 'zip_long'] = extr.zips_replacement(lat_long_zip_df=init_df[['lat_mean', 'long_mean', 'zip_code']].copy(), \n",
    "                                                            init_df_mean_lat_col='lat_mean', \n",
    "                                                            init_df_mean_long_col='long_mean')"
   ]
  },
  {
   "attachments": {},
   "cell_type": "markdown",
   "metadata": {},
   "source": [
    "# Nulls"
   ]
  },
  {
   "cell_type": "code",
   "execution_count": 6,
   "metadata": {},
   "outputs": [
    {
     "data": {
      "text/plain": [
       "[0, 0, 0, 0, 0, 0, 0, 0, 0, 0, 0, 19, 19, 0, 0, 0, 19, 0, 0, 0, 0]"
      ]
     },
     "execution_count": 6,
     "metadata": {},
     "output_type": "execute_result"
    }
   ],
   "source": [
    "[init_df[col].isna().sum() for col in list(init_df)]"
   ]
  },
  {
   "cell_type": "code",
   "execution_count": 7,
   "metadata": {},
   "outputs": [],
   "source": [
    "init_df = init_df.dropna()"
   ]
  },
  {
   "cell_type": "code",
   "execution_count": 9,
   "metadata": {},
   "outputs": [
    {
     "data": {
      "text/plain": [
       "[0, 0, 0, 0, 0, 0, 0, 0, 0, 0, 0, 0, 0, 0, 0, 0, 0, 0, 0, 0, 0]"
      ]
     },
     "execution_count": 9,
     "metadata": {},
     "output_type": "execute_result"
    }
   ],
   "source": [
    "[init_df[col].isna().sum() for col in list(init_df)]"
   ]
  },
  {
   "attachments": {},
   "cell_type": "markdown",
   "metadata": {},
   "source": [
    "# Scaling"
   ]
  },
  {
   "cell_type": "code",
   "execution_count": 10,
   "metadata": {},
   "outputs": [],
   "source": [
    "import seaborn as sns"
   ]
  },
  {
   "cell_type": "code",
   "execution_count": 12,
   "metadata": {},
   "outputs": [
    {
     "data": {
      "text/plain": [
       "<AxesSubplot: >"
      ]
     },
     "execution_count": 12,
     "metadata": {},
     "output_type": "execute_result"
    }
   ],
   "source": [
    "feats_to_scale = ['dens', 'zip_area', 'zip_lat', 'zip_long', 'approx_zips', 'lat_mean', 'long_mean']\n",
    "\n",
    "sns.boxplot(init_df[feats_to_scale])"
   ]
  },
  {
   "cell_type": "code",
   "execution_count": null,
   "metadata": {},
   "outputs": [],
   "source": []
  }
 ],
 "metadata": {
  "kernelspec": {
   "display_name": "rl_in_ksp_new",
   "language": "python",
   "name": "rl_in_ksp_new"
  },
  "language_info": {
   "codemirror_mode": {
    "name": "ipython",
    "version": 3
   },
   "file_extension": ".py",
   "mimetype": "text/x-python",
   "name": "python",
   "nbconvert_exporter": "python",
   "pygments_lexer": "ipython3",
   "version": "3.9.6"
  },
  "orig_nbformat": 4
 },
 "nbformat": 4,
 "nbformat_minor": 2
}
