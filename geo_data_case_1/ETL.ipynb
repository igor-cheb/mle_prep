{
 "cells": [
  {
   "attachments": {},
   "cell_type": "markdown",
   "metadata": {},
   "source": [
    "These are TODO's from the EDA section to be implemented in the present notebook.\n",
    "- FEATURE: replace zipcodes with respective mean longitude and latitude\n",
    "- FEATURE: area of each area could be added, along with density of panels for the given zip code \n",
    "- FEATURE: approximation of zipcode by first 2 digits \n",
    "- FEATURE: add aditional feature to mark US and non-US states\n",
    "\n",
    "- NULLS: drop nulls \n",
    "\n",
    "- NORMALISATION: scaling num of panels group of features is required. Simply dividing by a constant to bring the mean of distribution closer to other features or normalising by mean could be attempted"
   ]
  },
  {
   "attachments": {},
   "cell_type": "markdown",
   "metadata": {},
   "source": [
    "# Table of Contents\n",
    "- **[Feature extraction](#1)** \n",
    "    - **[Zipcode area](#1-1)** \n",
    "    - **[Panels density](#1-2)** \n",
    "    - **[Approximation of zipcode by first 2 digits](#1-3)** \n",
    "    - **[Feature to mark US and non-US states](#1-4)** \n",
    "    - **[Mean longitude and latitude to replace zip codes](#1-5)** \n",
    "- **[Nulls](#2)** \n",
    "- **[Normalisation](#3)** "
   ]
  },
  {
   "cell_type": "code",
   "execution_count": 1,
   "metadata": {},
   "outputs": [],
   "source": [
    "import numpy as np\n",
    "import pandas as pd"
   ]
  },
  {
   "cell_type": "code",
   "execution_count": 4,
   "metadata": {},
   "outputs": [
    {
     "data": {
      "text/plain": [
       "['zip_code',\n",
       " 'state',\n",
       " 'lat_max',\n",
       " 'lat_min',\n",
       " 'long_max',\n",
       " 'long_min',\n",
       " 'number_of_panels_north',\n",
       " 'number_of_panels_south',\n",
       " 'number_of_panels_east',\n",
       " 'number_of_panels_west',\n",
       " 'number_of_panels_flat',\n",
       " 'number_of_panels_total',\n",
       " 'potential_kwh_total']"
      ]
     },
     "execution_count": 4,
     "metadata": {},
     "output_type": "execute_result"
    }
   ],
   "source": [
    "df = pd.read_csv('geo_solar_panels.csv')\n",
    "list(df)"
   ]
  },
  {
   "cell_type": "markdown",
   "metadata": {},
   "source": [
    "# Feature extraction"
   ]
  },
  {
   "attachments": {},
   "cell_type": "markdown",
   "metadata": {},
   "source": [
    "## Zipcode area"
   ]
  },
  {
   "cell_type": "code",
   "execution_count": 11,
   "metadata": {},
   "outputs": [],
   "source": [
    "def calc_zip_area(min_long: pd.Series, max_long: pd.Series, \n",
    "                  min_lat: pd.Series, max_lat: pd.Series) -> pd.Series:\n",
    "    \"\"\"The function calculates approx. area of zip code using min/max longitude and lattitude\"\"\"\n",
    "    return abs(max_long - min_long) * abs(max_lat - min_lat) + 1e-10 # adding small number to avoid zero area\n",
    "\n",
    "df.loc[:, 'zip_area'] = calc_zip_area(df['long_min'], df['long_max'], \n",
    "                                      df['lat_min'], df['lat_max'])"
   ]
  },
  {
   "attachments": {},
   "cell_type": "markdown",
   "metadata": {},
   "source": [
    "## Panels density"
   ]
  },
  {
   "cell_type": "code",
   "execution_count": 12,
   "metadata": {},
   "outputs": [],
   "source": [
    "def panels_density(zip_area: pd.Series, num_of_panels: pd.Series) -> pd.Series:\n",
    "    \"\"\"Function calculates panels density in a zip_code based on zip_code area and number of panels for the zip_code\"\"\"\n",
    "    return num_of_panels / zip_area\n",
    "\n",
    "df.loc[:, 'panels_dens'] = panels_density(df['zip_area'], df['number_of_panels_total'])"
   ]
  },
  {
   "attachments": {},
   "cell_type": "markdown",
   "metadata": {},
   "source": [
    "## Approximation of zipcode by first 2 digits"
   ]
  },
  {
   "cell_type": "markdown",
   "metadata": {},
   "source": [
    "## Feature to mark US and non-US states"
   ]
  },
  {
   "cell_type": "markdown",
   "metadata": {},
   "source": [
    "## Mean longitude and latitude to replace zip_codes"
   ]
  },
  {
   "cell_type": "markdown",
   "metadata": {},
   "source": [
    "# Nulls"
   ]
  },
  {
   "cell_type": "markdown",
   "metadata": {},
   "source": [
    "# Normalisation"
   ]
  }
 ],
 "metadata": {
  "kernelspec": {
   "display_name": "rl_in_ksp_new",
   "language": "python",
   "name": "rl_in_ksp_new"
  },
  "language_info": {
   "codemirror_mode": {
    "name": "ipython",
    "version": 3
   },
   "file_extension": ".py",
   "mimetype": "text/x-python",
   "name": "python",
   "nbconvert_exporter": "python",
   "pygments_lexer": "ipython3",
   "version": "3.9.6"
  },
  "orig_nbformat": 4
 },
 "nbformat": 4,
 "nbformat_minor": 2
}
