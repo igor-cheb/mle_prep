{
 "cells": [
  {
   "attachments": {},
   "cell_type": "markdown",
   "metadata": {},
   "source": [
    "Here we will build prediction model based on the data produced at the ETL stage. We will compare:\n",
    "- baseline, which will be a linear model based on 1 feature \"number_of_panels_total\"\n",
    "- linear model with all the rest features\n",
    "- linear model with features produced by one layer MLP\n",
    "- random forest\n",
    "- adaboost\n",
    "- xgboost"
   ]
  },
  {
   "cell_type": "code",
   "execution_count": 23,
   "metadata": {},
   "outputs": [],
   "source": [
    "import pandas as pd\n",
    "import numpy as np\n",
    "\n",
    "import matplotlib.pyplot as plt\n",
    "\n",
    "from sklearn import linear_model\n",
    "from sklearn.model_selection import train_test_split\n",
    "from sklearn.metrics import mean_squared_error\n",
    "from sklearn.metrics import r2_score\n",
    "from sklearn.linear_model import ElasticNet"
   ]
  },
  {
   "attachments": {},
   "cell_type": "markdown",
   "metadata": {},
   "source": [
    "# Data initiation"
   ]
  },
  {
   "cell_type": "code",
   "execution_count": 2,
   "metadata": {},
   "outputs": [],
   "source": [
    "df = pd.read_csv('datasets/modeling_df.csv')\n",
    "all_feats = [\n",
    "    'lat_max',\n",
    "    'lat_min',\n",
    "    'long_max',\n",
    "    'long_min',\n",
    "    'number_of_panels_north',\n",
    "    'number_of_panels_south',\n",
    "    'number_of_panels_east',\n",
    "    'number_of_panels_west',\n",
    "    'number_of_panels_flat',\n",
    "    'number_of_panels_total',\n",
    "    'lat_mean',\n",
    "    'long_mean',\n",
    "    'zip_area',\n",
    "    'dens',\n",
    "    'approx_zips',\n",
    "    'is_usa',\n",
    "    'zip_lat',\n",
    "    'zip_long',\n",
    "    'state_size',\n",
    "    'state_lat',\n",
    "    'state_long'\n",
    "]\n",
    "label = 'potential_kwh_total'"
   ]
  },
  {
   "cell_type": "code",
   "execution_count": 10,
   "metadata": {},
   "outputs": [
    {
     "name": "stdout",
     "output_type": "stream",
     "text": [
      "lat_max 0\n",
      "lat_min 0\n",
      "long_max 0\n",
      "long_min 0\n",
      "number_of_panels_north 0\n",
      "number_of_panels_south 0\n",
      "number_of_panels_east 0\n",
      "number_of_panels_west 0\n",
      "number_of_panels_flat 0\n",
      "number_of_panels_total 0\n",
      "lat_mean 0\n",
      "long_mean 0\n",
      "zip_area 0\n",
      "dens 0\n",
      "approx_zips 0\n",
      "is_usa 0\n",
      "zip_lat 0\n",
      "zip_long 0\n",
      "state_size 0\n",
      "state_lat 0\n",
      "state_long 0\n"
     ]
    }
   ],
   "source": [
    "for col in all_feats:\n",
    "    print(col, df[col].isna().sum())"
   ]
  },
  {
   "cell_type": "code",
   "execution_count": 4,
   "metadata": {},
   "outputs": [
    {
     "data": {
      "text/html": [
       "<div>\n",
       "<style scoped>\n",
       "    .dataframe tbody tr th:only-of-type {\n",
       "        vertical-align: middle;\n",
       "    }\n",
       "\n",
       "    .dataframe tbody tr th {\n",
       "        vertical-align: top;\n",
       "    }\n",
       "\n",
       "    .dataframe thead th {\n",
       "        text-align: right;\n",
       "    }\n",
       "</style>\n",
       "<table border=\"1\" class=\"dataframe\">\n",
       "  <thead>\n",
       "    <tr style=\"text-align: right;\">\n",
       "      <th></th>\n",
       "      <th>lat_max</th>\n",
       "      <th>lat_min</th>\n",
       "      <th>long_max</th>\n",
       "      <th>long_min</th>\n",
       "      <th>number_of_panels_north</th>\n",
       "      <th>number_of_panels_south</th>\n",
       "      <th>number_of_panels_east</th>\n",
       "      <th>number_of_panels_west</th>\n",
       "      <th>number_of_panels_flat</th>\n",
       "      <th>number_of_panels_total</th>\n",
       "      <th>...</th>\n",
       "      <th>zip_area</th>\n",
       "      <th>dens</th>\n",
       "      <th>approx_zips</th>\n",
       "      <th>is_usa</th>\n",
       "      <th>zip_lat</th>\n",
       "      <th>zip_long</th>\n",
       "      <th>state_size</th>\n",
       "      <th>state_lat</th>\n",
       "      <th>state_long</th>\n",
       "      <th>potential_kwh_total</th>\n",
       "    </tr>\n",
       "  </thead>\n",
       "  <tbody>\n",
       "  </tbody>\n",
       "</table>\n",
       "<p>0 rows × 22 columns</p>\n",
       "</div>"
      ],
      "text/plain": [
       "Empty DataFrame\n",
       "Columns: [lat_max, lat_min, long_max, long_min, number_of_panels_north, number_of_panels_south, number_of_panels_east, number_of_panels_west, number_of_panels_flat, number_of_panels_total, lat_mean, long_mean, zip_area, dens, approx_zips, is_usa, zip_lat, zip_long, state_size, state_lat, state_long, potential_kwh_total]\n",
       "Index: []\n",
       "\n",
       "[0 rows x 22 columns]"
      ]
     },
     "execution_count": 4,
     "metadata": {},
     "output_type": "execute_result"
    }
   ],
   "source": [
    "df[df['zip_lat'].isna()]"
   ]
  },
  {
   "cell_type": "markdown",
   "metadata": {},
   "source": [
    "# Baseline"
   ]
  },
  {
   "cell_type": "code",
   "execution_count": 5,
   "metadata": {},
   "outputs": [],
   "source": [
    "X_train, X_test, y_train, y_test = train_test_split(df[['number_of_panels_total']].values, df[[label]].values, test_size=.2)\n",
    "baseline_model = linear_model.LinearRegression(positive=True)\n",
    "y_pred = baseline_model.fit(X_train, y_train).predict(X_test)"
   ]
  },
  {
   "cell_type": "code",
   "execution_count": 6,
   "metadata": {},
   "outputs": [
    {
     "data": {
      "text/plain": [
       "10.380845932415188"
      ]
     },
     "execution_count": 6,
     "metadata": {},
     "output_type": "execute_result"
    }
   ],
   "source": [
    "baseline_rmse = np.sqrt(mean_squared_error(y_pred=y_pred, y_true=y_test))\n",
    "baseline_rmse"
   ]
  },
  {
   "cell_type": "code",
   "execution_count": 7,
   "metadata": {},
   "outputs": [
    {
     "data": {
      "text/plain": [
       "6.373382590774897"
      ]
     },
     "execution_count": 7,
     "metadata": {},
     "output_type": "execute_result"
    }
   ],
   "source": [
    "np.std(df[label]) / baseline_rmse"
   ]
  },
  {
   "cell_type": "code",
   "execution_count": 8,
   "metadata": {},
   "outputs": [
    {
     "data": {
      "text/plain": [
       "8.436246086798908"
      ]
     },
     "execution_count": 8,
     "metadata": {},
     "output_type": "execute_result"
    }
   ],
   "source": [
    "iqr = df[label].quantile(.75) - df[label].quantile(.25)\n",
    "iqr / baseline_rmse"
   ]
  },
  {
   "cell_type": "code",
   "execution_count": 9,
   "metadata": {},
   "outputs": [
    {
     "data": {
      "text/plain": [
       "0.9759228785342854"
      ]
     },
     "execution_count": 9,
     "metadata": {},
     "output_type": "execute_result"
    }
   ],
   "source": [
    "r2_score(y_pred=y_pred, y_true=y_test)"
   ]
  },
  {
   "attachments": {},
   "cell_type": "markdown",
   "metadata": {},
   "source": [
    "Baseline model is only about 17% of label std and about 12% of iqr and very high r2 score. It will probably be hard to beat."
   ]
  },
  {
   "attachments": {},
   "cell_type": "markdown",
   "metadata": {},
   "source": [
    "# Regularised linear model with all features"
   ]
  },
  {
   "cell_type": "code",
   "execution_count": 12,
   "metadata": {},
   "outputs": [],
   "source": [
    "X_train, X_test, y_train, y_test = train_test_split(df[all_feats].values, df[[label]].values, test_size=.2)\n",
    "baseline_model = ElasticNet()\n",
    "baseline_model.fit(X_train, y_train)\n",
    "y_pred = baseline_model.predict(X_test)"
   ]
  },
  {
   "cell_type": "code",
   "execution_count": 13,
   "metadata": {},
   "outputs": [
    {
     "data": {
      "text/plain": [
       "8.207480128855872"
      ]
     },
     "execution_count": 13,
     "metadata": {},
     "output_type": "execute_result"
    }
   ],
   "source": [
    "rmse = np.sqrt(mean_squared_error(y_pred=y_pred, y_true=y_test))\n",
    "rmse"
   ]
  },
  {
   "cell_type": "code",
   "execution_count": 14,
   "metadata": {},
   "outputs": [
    {
     "data": {
      "text/plain": [
       "0.9822582748309582"
      ]
     },
     "execution_count": 14,
     "metadata": {},
     "output_type": "execute_result"
    }
   ],
   "source": [
    "r2_score(y_pred=y_pred, y_true=y_test)"
   ]
  },
  {
   "attachments": {},
   "cell_type": "markdown",
   "metadata": {},
   "source": [
    "Interesting, so we managed to beat the baseline model with a regularised linear model. Let's see what features helped the most."
   ]
  },
  {
   "cell_type": "code",
   "execution_count": 34,
   "metadata": {},
   "outputs": [
    {
     "data": {
      "text/plain": [
       "<AxesSubplot: ylabel='0'>"
      ]
     },
     "execution_count": 34,
     "metadata": {},
     "output_type": "execute_result"
    },
    {
     "data": {
      "image/png": "[encoded data removed]",
      "text/plain": [
       "<Figure size 640x480 with 1 Axes>"
      ]
     },
     "metadata": {},
     "output_type": "display_data"
    }
   ],
   "source": [
    "pd.DataFrame(sorted(zip(all_feats, baseline_model.coef_), key=lambda x: x[1])).set_index(0).abs().sort_values(1).plot(kind='barh')"
   ]
  },
  {
   "cell_type": "code",
   "execution_count": null,
   "metadata": {},
   "outputs": [],
   "source": []
  }
 ],
 "metadata": {
  "kernelspec": {
   "display_name": "rl_in_ksp_new",
   "language": "python",
   "name": "rl_in_ksp_new"
  },
  "language_info": {
   "codemirror_mode": {
    "name": "ipython",
    "version": 3
   },
   "file_extension": ".py",
   "mimetype": "text/x-python",
   "name": "python",
   "nbconvert_exporter": "python",
   "pygments_lexer": "ipython3",
   "version": "3.9.6"
  },
  "orig_nbformat": 4
 },
 "nbformat": 4,
 "nbformat_minor": 2
}
