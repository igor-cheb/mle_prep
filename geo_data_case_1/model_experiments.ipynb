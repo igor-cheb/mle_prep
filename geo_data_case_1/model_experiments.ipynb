{
 "cells": [
  {
   "attachments": {},
   "cell_type": "markdown",
   "metadata": {},
   "source": [
    "Here we will build prediction model based on the data produced at the ETL stage. We will compare:\n",
    "- baseline, which will be a linear model based on 1 feature \"number_of_panels_total\"\n",
    "- linear model with all the rest features\n",
    "- linear model with features produced by one layer MLP\n",
    "- random forest\n",
    "- adaboost\n",
    "- xgboost"
   ]
  },
  {
   "cell_type": "code",
   "execution_count": 22,
   "metadata": {},
   "outputs": [],
   "source": [
    "import pandas as pd\n",
    "import numpy as np\n",
    "from sklearn import linear_model\n",
    "from sklearn.model_selection import train_test_split\n",
    "from sklearn.metrics import mean_squared_error\n",
    "from sklearn.metrics import r2_score"
   ]
  },
  {
   "attachments": {},
   "cell_type": "markdown",
   "metadata": {},
   "source": [
    "# Data initiation"
   ]
  },
  {
   "cell_type": "code",
   "execution_count": 4,
   "metadata": {},
   "outputs": [],
   "source": [
    "df = pd.read_csv('datasets/modeling_df.csv')\n",
    "all_feats = [\n",
    "    'lat_max',\n",
    "    'lat_min',\n",
    "    'long_max',\n",
    "    'long_min',\n",
    "    'number_of_panels_north',\n",
    "    'number_of_panels_south',\n",
    "    'number_of_panels_east',\n",
    "    'number_of_panels_west',\n",
    "    'number_of_panels_flat',\n",
    "    'number_of_panels_total',\n",
    "    'lat_mean',\n",
    "    'long_mean',\n",
    "    'zip_area',\n",
    "    'dens',\n",
    "    'approx_zips',\n",
    "    'is_usa',\n",
    "    'zip_lat',\n",
    "    'zip_long',\n",
    "    'state_size',\n",
    "    'state_lat',\n",
    "    'state_long'\n",
    "]\n",
    "label = 'potential_kwh_total'"
   ]
  },
  {
   "cell_type": "markdown",
   "metadata": {},
   "source": [
    "# Baseline"
   ]
  },
  {
   "cell_type": "code",
   "execution_count": 18,
   "metadata": {},
   "outputs": [],
   "source": [
    "X_train, X_test, y_train, y_test = train_test_split(df[['number_of_panels_total']].values, df[[label]].values, test_size=.2)\n",
    "baseline_model = linear_model.LinearRegression(positive=True)\n",
    "y_pred = baseline_model.fit(X_train, y_train).predict(X_test)\n"
   ]
  },
  {
   "cell_type": "code",
   "execution_count": 33,
   "metadata": {},
   "outputs": [
    {
     "data": {
      "text/plain": [
       "9.991230584437321"
      ]
     },
     "execution_count": 33,
     "metadata": {},
     "output_type": "execute_result"
    }
   ],
   "source": [
    "baseline_rmse = np.sqrt(mean_squared_error(y_pred=y_pred, y_true=y_test))\n",
    "baseline_rmse"
   ]
  },
  {
   "cell_type": "code",
   "execution_count": 35,
   "metadata": {},
   "outputs": [
    {
     "data": {
      "text/plain": [
       "6.62191730878738"
      ]
     },
     "execution_count": 35,
     "metadata": {},
     "output_type": "execute_result"
    }
   ],
   "source": [
    "np.std(df[label]) / baseline_rmse"
   ]
  },
  {
   "cell_type": "code",
   "execution_count": 31,
   "metadata": {},
   "outputs": [
    {
     "data": {
      "text/plain": [
       "8.765223676391809"
      ]
     },
     "execution_count": 31,
     "metadata": {},
     "output_type": "execute_result"
    }
   ],
   "source": [
    "iqr = df[label].quantile(.75) - df[label].quantile(.25)\n",
    "iqr / baseline_rmse"
   ]
  },
  {
   "cell_type": "code",
   "execution_count": 28,
   "metadata": {},
   "outputs": [
    {
     "data": {
      "text/plain": [
       "0.9763339600838112"
      ]
     },
     "execution_count": 28,
     "metadata": {},
     "output_type": "execute_result"
    }
   ],
   "source": [
    "r2_score(y_pred=y_pred, y_true=y_test)"
   ]
  },
  {
   "attachments": {},
   "cell_type": "markdown",
   "metadata": {},
   "source": [
    "Baseline model is only about 17% of label std and about 12% of iqr and very high r2 score. It will probably be hard to bit."
   ]
  }
 ],
 "metadata": {
  "kernelspec": {
   "display_name": "rl_in_ksp_new",
   "language": "python",
   "name": "rl_in_ksp_new"
  },
  "language_info": {
   "codemirror_mode": {
    "name": "ipython",
    "version": 3
   },
   "file_extension": ".py",
   "mimetype": "text/x-python",
   "name": "python",
   "nbconvert_exporter": "python",
   "pygments_lexer": "ipython3",
   "version": "3.9.6"
  },
  "orig_nbformat": 4
 },
 "nbformat": 4,
 "nbformat_minor": 2
}
